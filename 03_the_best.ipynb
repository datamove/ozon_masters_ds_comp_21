{
 "cells": [
  {
   "cell_type": "code",
   "execution_count": 1,
   "metadata": {},
   "outputs": [],
   "source": [
    "import pandas as pd\n",
    "import numpy as np\n",
    "from sklearn.model_selection import train_test_split\n",
    "from sklearn.linear_model import LogisticRegression\n",
    "from sklearn.metrics import log_loss\n",
    "from sklearn.utils import shuffle\n",
    "from sklearn.preprocessing import MultiLabelBinarizer\n",
    "import torch\n",
    "import torch.nn as nn\n",
    "import torch.nn.functional as F\n",
    "from torch.utils.data import DataLoader, RandomSampler, Dataset\n",
    "from tqdm import tqdm\n",
    "import random\n",
    "import os"
   ]
  },
  {
   "cell_type": "code",
   "execution_count": 3,
   "metadata": {},
   "outputs": [],
   "source": [
    "device = 'cuda'"
   ]
  },
  {
   "cell_type": "code",
   "execution_count": 4,
   "metadata": {},
   "outputs": [],
   "source": [
    "def seed_everything(seed_value):\n",
    "    random.seed(seed_value)\n",
    "    np.random.seed(seed_value)\n",
    "    torch.manual_seed(seed_value)\n",
    "    os.environ['PYTHONHASHSEED'] = str(seed_value)\n",
    "\n",
    "    if torch.cuda.is_available():\n",
    "        torch.cuda.manual_seed(seed_value)\n",
    "        torch.cuda.manual_seed_all(seed_value)\n",
    "        torch.backends.cudnn.deterministic = True\n",
    "        torch.backends.cudnn.benchmark = False"
   ]
  },
  {
   "cell_type": "code",
   "execution_count": 5,
   "metadata": {},
   "outputs": [],
   "source": [
    "seed_everything(42)"
   ]
  },
  {
   "cell_type": "markdown",
   "metadata": {},
   "source": [
    "# Dataset"
   ]
  },
  {
   "cell_type": "code",
   "execution_count": 6,
   "metadata": {},
   "outputs": [],
   "source": [
    "df_train = pd.read_csv('./data/train_result_mean_median_max_min_current_next_prev.csv')\n",
    "df_test = pd.read_csv('./data/test_result_mean_median_max_min_current_next_prev.csv')"
   ]
  },
  {
   "cell_type": "code",
   "execution_count": 7,
   "metadata": {},
   "outputs": [
    {
     "data": {
      "text/html": [
       "<div>\n",
       "<style scoped>\n",
       "    .dataframe tbody tr th:only-of-type {\n",
       "        vertical-align: middle;\n",
       "    }\n",
       "\n",
       "    .dataframe tbody tr th {\n",
       "        vertical-align: top;\n",
       "    }\n",
       "\n",
       "    .dataframe thead th {\n",
       "        text-align: right;\n",
       "    }\n",
       "</style>\n",
       "<table border=\"1\" class=\"dataframe\">\n",
       "  <thead>\n",
       "    <tr style=\"text-align: right;\">\n",
       "      <th></th>\n",
       "      <th>id</th>\n",
       "      <th>X0</th>\n",
       "      <th>X1</th>\n",
       "      <th>X2</th>\n",
       "      <th>X3</th>\n",
       "      <th>X4</th>\n",
       "      <th>X5</th>\n",
       "      <th>X6</th>\n",
       "      <th>X7</th>\n",
       "      <th>X8</th>\n",
       "      <th>...</th>\n",
       "      <th>X2_next_min</th>\n",
       "      <th>X4_next_min</th>\n",
       "      <th>X2_prev_min</th>\n",
       "      <th>X4_prev_min</th>\n",
       "      <th>X2_current_min</th>\n",
       "      <th>X4_current_min</th>\n",
       "      <th>to_next_game_1</th>\n",
       "      <th>to_next_game_2</th>\n",
       "      <th>to_prev_game_1</th>\n",
       "      <th>to_prev_game_2</th>\n",
       "    </tr>\n",
       "  </thead>\n",
       "  <tbody>\n",
       "    <tr>\n",
       "      <td>0</td>\n",
       "      <td>0</td>\n",
       "      <td>2</td>\n",
       "      <td>908749</td>\n",
       "      <td>954</td>\n",
       "      <td>480270</td>\n",
       "      <td>935</td>\n",
       "      <td>71</td>\n",
       "      <td>79</td>\n",
       "      <td>53</td>\n",
       "      <td>89</td>\n",
       "      <td>...</td>\n",
       "      <td>780</td>\n",
       "      <td>905</td>\n",
       "      <td>867</td>\n",
       "      <td>931</td>\n",
       "      <td>954</td>\n",
       "      <td>935</td>\n",
       "      <td>40</td>\n",
       "      <td>1</td>\n",
       "      <td>2</td>\n",
       "      <td>7</td>\n",
       "    </tr>\n",
       "    <tr>\n",
       "      <td>1</td>\n",
       "      <td>1</td>\n",
       "      <td>1</td>\n",
       "      <td>438444</td>\n",
       "      <td>2162</td>\n",
       "      <td>486685</td>\n",
       "      <td>2154</td>\n",
       "      <td>32</td>\n",
       "      <td>39</td>\n",
       "      <td>48</td>\n",
       "      <td>49</td>\n",
       "      <td>...</td>\n",
       "      <td>2110</td>\n",
       "      <td>2096</td>\n",
       "      <td>2224</td>\n",
       "      <td>2126</td>\n",
       "      <td>2026</td>\n",
       "      <td>2034</td>\n",
       "      <td>17</td>\n",
       "      <td>13</td>\n",
       "      <td>8</td>\n",
       "      <td>1</td>\n",
       "    </tr>\n",
       "    <tr>\n",
       "      <td>2</td>\n",
       "      <td>2</td>\n",
       "      <td>1</td>\n",
       "      <td>596915</td>\n",
       "      <td>2066</td>\n",
       "      <td>711059</td>\n",
       "      <td>2081</td>\n",
       "      <td>43</td>\n",
       "      <td>21</td>\n",
       "      <td>58</td>\n",
       "      <td>94</td>\n",
       "      <td>...</td>\n",
       "      <td>1822</td>\n",
       "      <td>2153</td>\n",
       "      <td>2092</td>\n",
       "      <td>2047</td>\n",
       "      <td>1883</td>\n",
       "      <td>2053</td>\n",
       "      <td>1</td>\n",
       "      <td>1</td>\n",
       "      <td>2</td>\n",
       "      <td>4</td>\n",
       "    </tr>\n",
       "    <tr>\n",
       "      <td>3</td>\n",
       "      <td>3</td>\n",
       "      <td>1</td>\n",
       "      <td>625198</td>\n",
       "      <td>1508</td>\n",
       "      <td>66810</td>\n",
       "      <td>1474</td>\n",
       "      <td>7</td>\n",
       "      <td>1</td>\n",
       "      <td>34</td>\n",
       "      <td>73</td>\n",
       "      <td>...</td>\n",
       "      <td>1502</td>\n",
       "      <td>1416</td>\n",
       "      <td>1506</td>\n",
       "      <td>1564</td>\n",
       "      <td>1502</td>\n",
       "      <td>1474</td>\n",
       "      <td>1</td>\n",
       "      <td>1</td>\n",
       "      <td>1</td>\n",
       "      <td>26</td>\n",
       "    </tr>\n",
       "    <tr>\n",
       "      <td>4</td>\n",
       "      <td>4</td>\n",
       "      <td>2</td>\n",
       "      <td>228654</td>\n",
       "      <td>1202</td>\n",
       "      <td>542816</td>\n",
       "      <td>1196</td>\n",
       "      <td>53</td>\n",
       "      <td>35</td>\n",
       "      <td>16</td>\n",
       "      <td>80</td>\n",
       "      <td>...</td>\n",
       "      <td>1263</td>\n",
       "      <td>1264</td>\n",
       "      <td>1239</td>\n",
       "      <td>1162</td>\n",
       "      <td>1202</td>\n",
       "      <td>1191</td>\n",
       "      <td>8</td>\n",
       "      <td>10</td>\n",
       "      <td>19</td>\n",
       "      <td>1</td>\n",
       "    </tr>\n",
       "  </tbody>\n",
       "</table>\n",
       "<p>5 rows × 52 columns</p>\n",
       "</div>"
      ],
      "text/plain": [
       "   id  X0      X1    X2      X3    X4  X5  X6  X7  X8  ...  X2_next_min  \\\n",
       "0   0   2  908749   954  480270   935  71  79  53  89  ...          780   \n",
       "1   1   1  438444  2162  486685  2154  32  39  48  49  ...         2110   \n",
       "2   2   1  596915  2066  711059  2081  43  21  58  94  ...         1822   \n",
       "3   3   1  625198  1508   66810  1474   7   1  34  73  ...         1502   \n",
       "4   4   2  228654  1202  542816  1196  53  35  16  80  ...         1263   \n",
       "\n",
       "   X4_next_min  X2_prev_min  X4_prev_min  X2_current_min  X4_current_min  \\\n",
       "0          905          867          931             954             935   \n",
       "1         2096         2224         2126            2026            2034   \n",
       "2         2153         2092         2047            1883            2053   \n",
       "3         1416         1506         1564            1502            1474   \n",
       "4         1264         1239         1162            1202            1191   \n",
       "\n",
       "   to_next_game_1  to_next_game_2  to_prev_game_1  to_prev_game_2  \n",
       "0              40               1               2               7  \n",
       "1              17              13               8               1  \n",
       "2               1               1               2               4  \n",
       "3               1               1               1              26  \n",
       "4               8              10              19               1  \n",
       "\n",
       "[5 rows x 52 columns]"
      ]
     },
     "execution_count": 7,
     "metadata": {},
     "output_type": "execute_result"
    }
   ],
   "source": [
    "df_train.head()"
   ]
  },
  {
   "cell_type": "code",
   "execution_count": 8,
   "metadata": {},
   "outputs": [],
   "source": [
    "binarizer = MultiLabelBinarizer(classes=np.arange(0,101))"
   ]
  },
  {
   "cell_type": "code",
   "execution_count": 9,
   "metadata": {
    "scrolled": true
   },
   "outputs": [
    {
     "name": "stderr",
     "output_type": "stream",
     "text": [
      "/usr/local/lib/python3.6/dist-packages/ipykernel_launcher.py:1: FutureWarning: Method .as_matrix will be removed in a future version. Use .values instead.\n",
      "  \"\"\"Entry point for launching an IPython kernel.\n",
      "/usr/local/lib/python3.6/dist-packages/ipykernel_launcher.py:2: FutureWarning: Method .as_matrix will be removed in a future version. Use .values instead.\n",
      "  \n",
      "/usr/local/lib/python3.6/dist-packages/ipykernel_launcher.py:3: FutureWarning: Method .as_matrix will be removed in a future version. Use .values instead.\n",
      "  This is separate from the ipykernel package so we can avoid doing imports until\n",
      "/usr/local/lib/python3.6/dist-packages/ipykernel_launcher.py:4: FutureWarning: Method .as_matrix will be removed in a future version. Use .values instead.\n",
      "  after removing the cwd from sys.path.\n"
     ]
    }
   ],
   "source": [
    "fig_1_train = binarizer.fit_transform(df_train.iloc[:, 6:14].as_matrix())\n",
    "fig_2_train = binarizer.transform(df_train.iloc[:, 14:22].as_matrix())\n",
    "fig_1_test = binarizer.transform(df_test.iloc[:, 6:14].as_matrix())\n",
    "fig_2_test = binarizer.transform(df_test.iloc[:, 14:22].as_matrix())"
   ]
  },
  {
   "cell_type": "code",
   "execution_count": 10,
   "metadata": {},
   "outputs": [],
   "source": [
    "df_train['1/to_next_game_1'] = df_train['to_next_game_1'].apply(lambda x: x if x==0 else 1/x)\n",
    "df_train['1/to_next_game_2'] = df_train['to_next_game_2'].apply(lambda x: x if x==0 else 1/x)\n",
    "df_train['1/to_prev_game_1'] = df_train['to_prev_game_1'].apply(lambda x: x if x==0 else 1/x)\n",
    "df_train['1/to_prev_game_2'] = df_train['to_prev_game_2'].apply(lambda x: x if x==0 else 1/x)\n",
    "\n",
    "df_test['1/to_next_game_1'] = df_test['to_next_game_1'].apply(lambda x: x if x==0 else 1/x)\n",
    "df_test['1/to_next_game_2'] = df_test['to_next_game_2'].apply(lambda x: x if x==0 else 1/x)\n",
    "df_test['1/to_prev_game_1'] = df_test['to_prev_game_1'].apply(lambda x: x if x==0 else 1/x)\n",
    "df_test['1/to_prev_game_2'] = df_test['to_prev_game_2'].apply(lambda x: x if x==0 else 1/x)"
   ]
  },
  {
   "cell_type": "code",
   "execution_count": 11,
   "metadata": {},
   "outputs": [
    {
     "data": {
      "text/html": [
       "<div>\n",
       "<style scoped>\n",
       "    .dataframe tbody tr th:only-of-type {\n",
       "        vertical-align: middle;\n",
       "    }\n",
       "\n",
       "    .dataframe tbody tr th {\n",
       "        vertical-align: top;\n",
       "    }\n",
       "\n",
       "    .dataframe thead th {\n",
       "        text-align: right;\n",
       "    }\n",
       "</style>\n",
       "<table border=\"1\" class=\"dataframe\">\n",
       "  <thead>\n",
       "    <tr style=\"text-align: right;\">\n",
       "      <th></th>\n",
       "      <th>id</th>\n",
       "      <th>X0</th>\n",
       "      <th>X1</th>\n",
       "      <th>X2</th>\n",
       "      <th>X3</th>\n",
       "      <th>X4</th>\n",
       "      <th>X5</th>\n",
       "      <th>X6</th>\n",
       "      <th>X7</th>\n",
       "      <th>X8</th>\n",
       "      <th>...</th>\n",
       "      <th>X2_current_min</th>\n",
       "      <th>X4_current_min</th>\n",
       "      <th>to_next_game_1</th>\n",
       "      <th>to_next_game_2</th>\n",
       "      <th>to_prev_game_1</th>\n",
       "      <th>to_prev_game_2</th>\n",
       "      <th>1/to_next_game_1</th>\n",
       "      <th>1/to_next_game_2</th>\n",
       "      <th>1/to_prev_game_1</th>\n",
       "      <th>1/to_prev_game_2</th>\n",
       "    </tr>\n",
       "  </thead>\n",
       "  <tbody>\n",
       "    <tr>\n",
       "      <td>0</td>\n",
       "      <td>0</td>\n",
       "      <td>2</td>\n",
       "      <td>908749</td>\n",
       "      <td>954</td>\n",
       "      <td>480270</td>\n",
       "      <td>935</td>\n",
       "      <td>71</td>\n",
       "      <td>79</td>\n",
       "      <td>53</td>\n",
       "      <td>89</td>\n",
       "      <td>...</td>\n",
       "      <td>954</td>\n",
       "      <td>935</td>\n",
       "      <td>40</td>\n",
       "      <td>1</td>\n",
       "      <td>2</td>\n",
       "      <td>7</td>\n",
       "      <td>0.025000</td>\n",
       "      <td>1.000000</td>\n",
       "      <td>0.500000</td>\n",
       "      <td>0.142857</td>\n",
       "    </tr>\n",
       "    <tr>\n",
       "      <td>1</td>\n",
       "      <td>1</td>\n",
       "      <td>1</td>\n",
       "      <td>438444</td>\n",
       "      <td>2162</td>\n",
       "      <td>486685</td>\n",
       "      <td>2154</td>\n",
       "      <td>32</td>\n",
       "      <td>39</td>\n",
       "      <td>48</td>\n",
       "      <td>49</td>\n",
       "      <td>...</td>\n",
       "      <td>2026</td>\n",
       "      <td>2034</td>\n",
       "      <td>17</td>\n",
       "      <td>13</td>\n",
       "      <td>8</td>\n",
       "      <td>1</td>\n",
       "      <td>0.058824</td>\n",
       "      <td>0.076923</td>\n",
       "      <td>0.125000</td>\n",
       "      <td>1.000000</td>\n",
       "    </tr>\n",
       "    <tr>\n",
       "      <td>2</td>\n",
       "      <td>2</td>\n",
       "      <td>1</td>\n",
       "      <td>596915</td>\n",
       "      <td>2066</td>\n",
       "      <td>711059</td>\n",
       "      <td>2081</td>\n",
       "      <td>43</td>\n",
       "      <td>21</td>\n",
       "      <td>58</td>\n",
       "      <td>94</td>\n",
       "      <td>...</td>\n",
       "      <td>1883</td>\n",
       "      <td>2053</td>\n",
       "      <td>1</td>\n",
       "      <td>1</td>\n",
       "      <td>2</td>\n",
       "      <td>4</td>\n",
       "      <td>1.000000</td>\n",
       "      <td>1.000000</td>\n",
       "      <td>0.500000</td>\n",
       "      <td>0.250000</td>\n",
       "    </tr>\n",
       "    <tr>\n",
       "      <td>3</td>\n",
       "      <td>3</td>\n",
       "      <td>1</td>\n",
       "      <td>625198</td>\n",
       "      <td>1508</td>\n",
       "      <td>66810</td>\n",
       "      <td>1474</td>\n",
       "      <td>7</td>\n",
       "      <td>1</td>\n",
       "      <td>34</td>\n",
       "      <td>73</td>\n",
       "      <td>...</td>\n",
       "      <td>1502</td>\n",
       "      <td>1474</td>\n",
       "      <td>1</td>\n",
       "      <td>1</td>\n",
       "      <td>1</td>\n",
       "      <td>26</td>\n",
       "      <td>1.000000</td>\n",
       "      <td>1.000000</td>\n",
       "      <td>1.000000</td>\n",
       "      <td>0.038462</td>\n",
       "    </tr>\n",
       "    <tr>\n",
       "      <td>4</td>\n",
       "      <td>4</td>\n",
       "      <td>2</td>\n",
       "      <td>228654</td>\n",
       "      <td>1202</td>\n",
       "      <td>542816</td>\n",
       "      <td>1196</td>\n",
       "      <td>53</td>\n",
       "      <td>35</td>\n",
       "      <td>16</td>\n",
       "      <td>80</td>\n",
       "      <td>...</td>\n",
       "      <td>1202</td>\n",
       "      <td>1191</td>\n",
       "      <td>8</td>\n",
       "      <td>10</td>\n",
       "      <td>19</td>\n",
       "      <td>1</td>\n",
       "      <td>0.125000</td>\n",
       "      <td>0.100000</td>\n",
       "      <td>0.052632</td>\n",
       "      <td>1.000000</td>\n",
       "    </tr>\n",
       "    <tr>\n",
       "      <td>...</td>\n",
       "      <td>...</td>\n",
       "      <td>...</td>\n",
       "      <td>...</td>\n",
       "      <td>...</td>\n",
       "      <td>...</td>\n",
       "      <td>...</td>\n",
       "      <td>...</td>\n",
       "      <td>...</td>\n",
       "      <td>...</td>\n",
       "      <td>...</td>\n",
       "      <td>...</td>\n",
       "      <td>...</td>\n",
       "      <td>...</td>\n",
       "      <td>...</td>\n",
       "      <td>...</td>\n",
       "      <td>...</td>\n",
       "      <td>...</td>\n",
       "      <td>...</td>\n",
       "      <td>...</td>\n",
       "      <td>...</td>\n",
       "      <td>...</td>\n",
       "    </tr>\n",
       "    <tr>\n",
       "      <td>3633000</td>\n",
       "      <td>3633000</td>\n",
       "      <td>2</td>\n",
       "      <td>644871</td>\n",
       "      <td>1211</td>\n",
       "      <td>421763</td>\n",
       "      <td>1194</td>\n",
       "      <td>24</td>\n",
       "      <td>65</td>\n",
       "      <td>54</td>\n",
       "      <td>86</td>\n",
       "      <td>...</td>\n",
       "      <td>1211</td>\n",
       "      <td>1049</td>\n",
       "      <td>6</td>\n",
       "      <td>0</td>\n",
       "      <td>16</td>\n",
       "      <td>166</td>\n",
       "      <td>0.166667</td>\n",
       "      <td>0.000000</td>\n",
       "      <td>0.062500</td>\n",
       "      <td>0.006024</td>\n",
       "    </tr>\n",
       "    <tr>\n",
       "      <td>3633001</td>\n",
       "      <td>3633001</td>\n",
       "      <td>1</td>\n",
       "      <td>689210</td>\n",
       "      <td>699</td>\n",
       "      <td>569184</td>\n",
       "      <td>706</td>\n",
       "      <td>26</td>\n",
       "      <td>50</td>\n",
       "      <td>81</td>\n",
       "      <td>33</td>\n",
       "      <td>...</td>\n",
       "      <td>699</td>\n",
       "      <td>706</td>\n",
       "      <td>0</td>\n",
       "      <td>18</td>\n",
       "      <td>4</td>\n",
       "      <td>10</td>\n",
       "      <td>0.000000</td>\n",
       "      <td>0.055556</td>\n",
       "      <td>0.250000</td>\n",
       "      <td>0.100000</td>\n",
       "    </tr>\n",
       "    <tr>\n",
       "      <td>3633002</td>\n",
       "      <td>3633002</td>\n",
       "      <td>2</td>\n",
       "      <td>227914</td>\n",
       "      <td>1063</td>\n",
       "      <td>174332</td>\n",
       "      <td>1062</td>\n",
       "      <td>48</td>\n",
       "      <td>64</td>\n",
       "      <td>55</td>\n",
       "      <td>3</td>\n",
       "      <td>...</td>\n",
       "      <td>1063</td>\n",
       "      <td>1036</td>\n",
       "      <td>5</td>\n",
       "      <td>1</td>\n",
       "      <td>257</td>\n",
       "      <td>0</td>\n",
       "      <td>0.200000</td>\n",
       "      <td>1.000000</td>\n",
       "      <td>0.003891</td>\n",
       "      <td>0.000000</td>\n",
       "    </tr>\n",
       "    <tr>\n",
       "      <td>3633003</td>\n",
       "      <td>3633003</td>\n",
       "      <td>2</td>\n",
       "      <td>1066558</td>\n",
       "      <td>1752</td>\n",
       "      <td>358523</td>\n",
       "      <td>1780</td>\n",
       "      <td>10</td>\n",
       "      <td>31</td>\n",
       "      <td>47</td>\n",
       "      <td>68</td>\n",
       "      <td>...</td>\n",
       "      <td>1752</td>\n",
       "      <td>1719</td>\n",
       "      <td>0</td>\n",
       "      <td>1</td>\n",
       "      <td>4</td>\n",
       "      <td>1</td>\n",
       "      <td>0.000000</td>\n",
       "      <td>1.000000</td>\n",
       "      <td>0.250000</td>\n",
       "      <td>1.000000</td>\n",
       "    </tr>\n",
       "    <tr>\n",
       "      <td>3633004</td>\n",
       "      <td>3633004</td>\n",
       "      <td>2</td>\n",
       "      <td>525076</td>\n",
       "      <td>1981</td>\n",
       "      <td>693443</td>\n",
       "      <td>1974</td>\n",
       "      <td>80</td>\n",
       "      <td>43</td>\n",
       "      <td>7</td>\n",
       "      <td>37</td>\n",
       "      <td>...</td>\n",
       "      <td>1908</td>\n",
       "      <td>1970</td>\n",
       "      <td>1</td>\n",
       "      <td>1</td>\n",
       "      <td>7</td>\n",
       "      <td>4</td>\n",
       "      <td>1.000000</td>\n",
       "      <td>1.000000</td>\n",
       "      <td>0.142857</td>\n",
       "      <td>0.250000</td>\n",
       "    </tr>\n",
       "  </tbody>\n",
       "</table>\n",
       "<p>3633005 rows × 56 columns</p>\n",
       "</div>"
      ],
      "text/plain": [
       "              id  X0       X1    X2      X3    X4  X5  X6  X7  X8  ...  \\\n",
       "0              0   2   908749   954  480270   935  71  79  53  89  ...   \n",
       "1              1   1   438444  2162  486685  2154  32  39  48  49  ...   \n",
       "2              2   1   596915  2066  711059  2081  43  21  58  94  ...   \n",
       "3              3   1   625198  1508   66810  1474   7   1  34  73  ...   \n",
       "4              4   2   228654  1202  542816  1196  53  35  16  80  ...   \n",
       "...          ...  ..      ...   ...     ...   ...  ..  ..  ..  ..  ...   \n",
       "3633000  3633000   2   644871  1211  421763  1194  24  65  54  86  ...   \n",
       "3633001  3633001   1   689210   699  569184   706  26  50  81  33  ...   \n",
       "3633002  3633002   2   227914  1063  174332  1062  48  64  55   3  ...   \n",
       "3633003  3633003   2  1066558  1752  358523  1780  10  31  47  68  ...   \n",
       "3633004  3633004   2   525076  1981  693443  1974  80  43   7  37  ...   \n",
       "\n",
       "         X2_current_min  X4_current_min  to_next_game_1  to_next_game_2  \\\n",
       "0                   954             935              40               1   \n",
       "1                  2026            2034              17              13   \n",
       "2                  1883            2053               1               1   \n",
       "3                  1502            1474               1               1   \n",
       "4                  1202            1191               8              10   \n",
       "...                 ...             ...             ...             ...   \n",
       "3633000            1211            1049               6               0   \n",
       "3633001             699             706               0              18   \n",
       "3633002            1063            1036               5               1   \n",
       "3633003            1752            1719               0               1   \n",
       "3633004            1908            1970               1               1   \n",
       "\n",
       "         to_prev_game_1  to_prev_game_2  1/to_next_game_1  1/to_next_game_2  \\\n",
       "0                     2               7          0.025000          1.000000   \n",
       "1                     8               1          0.058824          0.076923   \n",
       "2                     2               4          1.000000          1.000000   \n",
       "3                     1              26          1.000000          1.000000   \n",
       "4                    19               1          0.125000          0.100000   \n",
       "...                 ...             ...               ...               ...   \n",
       "3633000              16             166          0.166667          0.000000   \n",
       "3633001               4              10          0.000000          0.055556   \n",
       "3633002             257               0          0.200000          1.000000   \n",
       "3633003               4               1          0.000000          1.000000   \n",
       "3633004               7               4          1.000000          1.000000   \n",
       "\n",
       "         1/to_prev_game_1  1/to_prev_game_2  \n",
       "0                0.500000          0.142857  \n",
       "1                0.125000          1.000000  \n",
       "2                0.500000          0.250000  \n",
       "3                1.000000          0.038462  \n",
       "4                0.052632          1.000000  \n",
       "...                   ...               ...  \n",
       "3633000          0.062500          0.006024  \n",
       "3633001          0.250000          0.100000  \n",
       "3633002          0.003891          0.000000  \n",
       "3633003          0.250000          1.000000  \n",
       "3633004          0.142857          0.250000  \n",
       "\n",
       "[3633005 rows x 56 columns]"
      ]
     },
     "execution_count": 11,
     "metadata": {},
     "output_type": "execute_result"
    }
   ],
   "source": [
    "df_train"
   ]
  },
  {
   "cell_type": "code",
   "execution_count": 12,
   "metadata": {},
   "outputs": [],
   "source": [
    "rating_1_train = df_train[['X2',\n",
    "                           'X2_next_mean',  'X2_prev_mean','X2_current_mean',\n",
    "                           'X2_next_median', 'X2_prev_median','X2_current_median',\n",
    "                           'X2_next_max', 'X2_prev_max', 'X2_current_max', \n",
    "                           'X2_next_min', 'X2_prev_min', 'X2_current_min',\n",
    "                           'to_next_game_1', 'to_prev_game_1', \n",
    "                           '1/to_next_game_1','1/to_prev_game_1']].values\n",
    "rating_2_train = df_train[['X4',\n",
    "                           'X4_next_mean',  'X4_prev_mean','X4_current_mean',\n",
    "                           'X4_next_median', 'X4_prev_median','X4_current_median',\n",
    "                           'X4_next_max', 'X4_prev_max', 'X4_current_max', \n",
    "                           'X4_next_min', 'X4_prev_min', 'X4_current_min',\n",
    "                           'to_next_game_2', 'to_prev_game_2', \n",
    "                           '1/to_next_game_2','1/to_prev_game_2']].values\n",
    "\n",
    "rating_1_test =  df_test[['X2',\n",
    "                           'X2_next_mean',  'X2_prev_mean','X2_current_mean',\n",
    "                           'X2_next_median', 'X2_prev_median','X2_current_median',\n",
    "                           'X2_next_max', 'X2_prev_max', 'X2_current_max', \n",
    "                           'X2_next_min', 'X2_prev_min', 'X2_current_min',\n",
    "                           'to_next_game_1', 'to_prev_game_1', \n",
    "                           '1/to_next_game_1','1/to_prev_game_1']].values\n",
    "rating_2_test = df_test[['X4',\n",
    "                           'X4_next_mean',  'X4_prev_mean','X4_current_mean',\n",
    "                           'X4_next_median', 'X4_prev_median','X4_current_median',\n",
    "                           'X4_next_max', 'X4_prev_max', 'X4_current_max', \n",
    "                           'X4_next_min', 'X4_prev_min', 'X4_current_min',\n",
    "                           'to_next_game_2', 'to_prev_game_2', \n",
    "                           '1/to_next_game_2','1/to_prev_game_2']].values"
   ]
  },
  {
   "cell_type": "code",
   "execution_count": 13,
   "metadata": {},
   "outputs": [],
   "source": [
    "y_train = df_train['target']\n",
    "rating_1_train, rating_2_train, fig_1_train, fig_2_train, y_train = shuffle(rating_1_train, rating_2_train, fig_1_train, fig_2_train, y_train, random_state=42)"
   ]
  },
  {
   "cell_type": "code",
   "execution_count": 14,
   "metadata": {},
   "outputs": [],
   "source": [
    "rating_1_train, rating_1_val, \\\n",
    "rating_2_train, rating_2_val, \\\n",
    "fig_1_train, fig_1_val, \\\n",
    "fig_2_train, fig_2_val, \\\n",
    "y_train, y_val = train_test_split(rating_1_train, rating_2_train, fig_1_train, fig_2_train, y_train, random_state=42, test_size=0.2)"
   ]
  },
  {
   "cell_type": "code",
   "execution_count": 15,
   "metadata": {},
   "outputs": [],
   "source": [
    "figs_train = np.concatenate([fig_1_train, fig_2_train], axis=1)\n",
    "figs_val = np.concatenate([fig_1_val, fig_2_val], axis=1)\n",
    "figs_test = np.concatenate([fig_1_test, fig_2_test], axis=1)\n",
    "\n",
    "rating_train = np.concatenate([rating_1_train, rating_2_train], axis=1)\n",
    "rating_val = np.concatenate([rating_1_val, rating_2_val], axis=1)\n",
    "rating_test = np.concatenate([rating_1_test, rating_2_test], axis=1)\n",
    "\n",
    "\n",
    "\n"
   ]
  },
  {
   "cell_type": "markdown",
   "metadata": {},
   "source": [
    "# normalization"
   ]
  },
  {
   "cell_type": "code",
   "execution_count": 16,
   "metadata": {},
   "outputs": [],
   "source": [
    "mean = rating_train.mean(axis=0)\n",
    "std = rating_train.std(axis=0)"
   ]
  },
  {
   "cell_type": "code",
   "execution_count": 17,
   "metadata": {},
   "outputs": [],
   "source": [
    "rating_train = (rating_train-mean)/std\n",
    "rating_val = (rating_val-mean)/std\n",
    "rating_test = (rating_test-mean)/std\n",
    "\n"
   ]
  },
  {
   "cell_type": "markdown",
   "metadata": {},
   "source": [
    "# Data for torch"
   ]
  },
  {
   "cell_type": "code",
   "execution_count": 18,
   "metadata": {},
   "outputs": [],
   "source": [
    "class TrainDataset(Dataset):\n",
    "    def __init__(self, figs, rating, y):\n",
    "        self.figs = torch.tensor(figs, dtype=torch.float)\n",
    "        self.rating = torch.tensor(rating, dtype=torch.float)\n",
    "        self.y = torch.tensor(y.tolist(), dtype=torch.float)\n",
    "    \n",
    "    def __len__(self):\n",
    "        return len(self.figs)\n",
    "    \n",
    "    def __getitem__(self, idx):\n",
    "        return {\n",
    "            'figs': self.figs[idx],\n",
    "            'rating': self.rating[idx],\n",
    "            'y': self.y[idx]\n",
    "        }\n",
    "\n",
    "class TestDataset(Dataset):\n",
    "    def __init__(self, figs, rating):\n",
    "        self.figs = torch.tensor(figs, dtype=torch.float)\n",
    "        self.rating = torch.tensor(rating, dtype=torch.float)\n",
    "    \n",
    "    def __len__(self):\n",
    "        return len(self.figs)\n",
    "    \n",
    "    def __getitem__(self, idx):\n",
    "        return {\n",
    "            'figs': self.figs[idx],\n",
    "            'rating': self.rating[idx]\n",
    "        }\n",
    "        "
   ]
  },
  {
   "cell_type": "code",
   "execution_count": 19,
   "metadata": {},
   "outputs": [],
   "source": [
    "def train_epoch(iterator, optimizer, criterion):\n",
    "        model.train()\n",
    "        epoch_loss = 0\n",
    "\n",
    "        for i, batch in tqdm(enumerate(iterator)):\n",
    "            targets = batch['y'].to(device)\n",
    "            figs = batch['figs'].to(device)\n",
    "            rating = batch['rating'].to(device)\n",
    "\n",
    "            optimizer.zero_grad()\n",
    "\n",
    "            logits = model(figs, rating).squeeze()\n",
    "            loss = criterion(logits, targets)\n",
    "            loss.backward()\n",
    "            optimizer.step()\n",
    "\n",
    "            epoch_loss += loss.item()\n",
    "\n",
    "        return epoch_loss / len(iterator)\n",
    "    \n",
    "def val_epoch(iterator,criterion):\n",
    "        model.eval()\n",
    "        epoch_loss = 0\n",
    "        with torch.no_grad():\n",
    "            for i, batch in tqdm(enumerate(iterator)):\n",
    "                targets = batch['y'].to(device)\n",
    "                figs = batch['figs'].to(device)\n",
    "                rating = batch['rating'].to(device)\n",
    "\n",
    "                logits = model(figs, rating).squeeze()\n",
    "                loss = criterion(logits, targets)\n",
    "                epoch_loss += loss.item()\n",
    "\n",
    "        return epoch_loss / len(iterator)\n",
    "    \n",
    "def predict(iterator):\n",
    "        model.eval()\n",
    "        preds = []\n",
    "        with torch.no_grad():\n",
    "            for i, batch in tqdm(enumerate(iterator)):\n",
    "                figs = batch['figs'].to(device)\n",
    "                rating = batch['rating'].to(device)\n",
    "                pred = model.predict(figs, rating)\n",
    "                preds += pred.to('cpu').numpy().tolist()\n",
    "\n",
    "        return preds"
   ]
  },
  {
   "cell_type": "code",
   "execution_count": 20,
   "metadata": {},
   "outputs": [],
   "source": [
    "class NN(nn.Module):\n",
    "    def __init__(self):\n",
    "        super(NN, self).__init__()\n",
    "        self.fc1figs = nn.Linear(202, 256)\n",
    "        self.bn1figs = nn.BatchNorm1d(256)        \n",
    "        self.fc2figs = nn.Linear(256, 128)\n",
    "        self.bn2figs = nn.BatchNorm1d(128)\n",
    "        self.fc3figs = nn.Linear(128, 128)\n",
    "        self.bn3figs = nn.BatchNorm1d(128)\n",
    "       \n",
    "        self.fc1rating = nn.Linear(34, 128)\n",
    "        self.bn1rating = nn.BatchNorm1d(128)\n",
    "        self.fc2rating = nn.Linear(128, 64)\n",
    "        self.bn2rating = nn.BatchNorm1d(64)\n",
    "        self.fc3rating = nn.Linear(64, 64)\n",
    "        self.bn3rating = nn.BatchNorm1d(64)\n",
    "        \n",
    "        self.do = nn.Dropout(0.5)\n",
    "        self.fc1res = nn.Linear(128+64, 128)\n",
    "        self.bn1res = nn.BatchNorm1d(128)\n",
    "        self.fc2res = nn.Linear(128, 64)\n",
    "        self.bn2res = nn.BatchNorm1d(64)\n",
    "        self.fc3res = nn.Linear(64, 32)\n",
    "        self.bn3res = nn.BatchNorm1d(32)\n",
    "        self.fc4res = nn.Linear(32, 1)\n",
    "    \n",
    "    def predict(self, figs, rating):\n",
    "        result = self.forward(figs, rating)\n",
    "        result = F.sigmoid(result)\n",
    "        return result\n",
    "        \n",
    "    def forward(self, figs, rating):\n",
    "        figs = self.fc1figs(figs)\n",
    "        figs = self.bn1figs(figs)\n",
    "        figs = F.relu(figs)\n",
    "        #figs = self.do(figs)\n",
    "        \n",
    "        figs = self.fc2figs(figs)\n",
    "        figs = self.bn2figs(figs)\n",
    "        figs = F.relu(figs)\n",
    "        #figs = self.do(figs)\n",
    "        \n",
    "        figs = self.fc3figs(figs)\n",
    "        figs = self.bn3figs(figs)\n",
    "        figs = F.relu(figs)\n",
    "        #figs = self.do(figs)\n",
    "        \n",
    "        \n",
    "        rating = self.fc1rating(rating)\n",
    "        rating = self.bn1rating(rating)\n",
    "        rating = F.relu(rating)\n",
    "        #rating = self.do(rating)\n",
    "        \n",
    "        rating = self.fc2rating(rating)\n",
    "        rating = self.bn2rating(rating)\n",
    "        rating = F.relu(rating)\n",
    "        #rating = self.do(rating)\n",
    "        \n",
    "        rating = self.fc3rating(rating)\n",
    "        rating = self.bn3rating(rating)\n",
    "        rating = F.relu(rating)\n",
    "        #rating = self.do(rating)\n",
    "        \n",
    "        concat_data = torch.cat((figs, rating), dim=-1)\n",
    "        \n",
    "        result = self.fc1res(concat_data)\n",
    "        result = self.bn1res(result)\n",
    "        result = F.relu(result)\n",
    "        \n",
    "        result = self.fc2res(result)\n",
    "        result = self.bn2res(result)\n",
    "        result = F.relu(result)\n",
    "        \n",
    "        result = self.fc3res(result)\n",
    "        result = self.bn3res(result)\n",
    "        result = F.relu(result)\n",
    "        \n",
    "        result = self.fc4res(result)\n",
    "        \n",
    "        return result"
   ]
  },
  {
   "cell_type": "code",
   "execution_count": 21,
   "metadata": {},
   "outputs": [],
   "source": [
    "batch_size = 64\n",
    "train_dataset = TrainDataset(figs_train, rating_train, y_train)\n",
    "train_sampler = RandomSampler(train_dataset)\n",
    "train_dataloader = DataLoader(train_dataset, sampler=train_sampler, batch_size=batch_size)\n",
    "\n",
    "valid_dataset = TrainDataset(figs_val, rating_val, y_val)\n",
    "valid_dataloader = DataLoader(valid_dataset, batch_size=batch_size)\n",
    "\n",
    "test_dataset = TestDataset(figs_test, rating_test)\n",
    "test_dataloader = DataLoader(test_dataset, batch_size=batch_size)"
   ]
  },
  {
   "cell_type": "code",
   "execution_count": 22,
   "metadata": {},
   "outputs": [
    {
     "data": {
      "text/plain": [
       "{'figs': tensor([0., 1., 0., 0., 0., 0., 0., 0., 0., 0., 0., 0., 0., 0., 0., 0., 0., 0.,\n",
       "         1., 0., 0., 0., 0., 0., 0., 0., 1., 0., 0., 0., 0., 0., 0., 0., 0., 0.,\n",
       "         0., 0., 0., 0., 0., 0., 0., 0., 0., 0., 0., 0., 0., 0., 1., 0., 0., 0.,\n",
       "         0., 0., 0., 0., 0., 0., 0., 0., 0., 0., 0., 0., 0., 0., 0., 0., 0., 0.,\n",
       "         0., 0., 0., 0., 0., 0., 0., 1., 1., 0., 0., 0., 0., 0., 0., 0., 0., 1.,\n",
       "         0., 0., 0., 0., 0., 0., 0., 0., 0., 0., 1., 0., 0., 0., 0., 0., 0., 0.,\n",
       "         0., 0., 0., 0., 0., 0., 0., 0., 0., 1., 0., 0., 0., 0., 0., 0., 0., 0.,\n",
       "         1., 0., 0., 0., 0., 0., 0., 0., 0., 0., 0., 0., 1., 0., 0., 0., 0., 0.,\n",
       "         0., 0., 0., 0., 0., 0., 0., 0., 0., 0., 0., 0., 0., 0., 0., 0., 0., 0.,\n",
       "         0., 0., 0., 0., 0., 0., 0., 0., 0., 0., 1., 0., 0., 0., 0., 0., 0., 0.,\n",
       "         1., 1., 0., 0., 0., 0., 0., 0., 0., 0., 0., 0., 0., 0., 0., 0., 0., 1.,\n",
       "         0., 1., 0., 0.]),\n",
       " 'rating': tensor([-0.8310, -0.9681, -0.7451, -0.8300, -0.9681, -0.7450, -0.8300, -0.9778,\n",
       "         -0.7574, -0.8508, -0.9565, -0.7311, -0.8063,  1.4484, -0.4700, -0.8217,\n",
       "          1.5206, -0.8147, -0.8366, -1.0227, -0.8176, -0.8366, -1.0226, -0.8175,\n",
       "         -0.8489, -1.0303, -0.8388, -0.8226, -1.0130, -0.7936,  6.0349,  6.3046,\n",
       "         -0.8409, -0.8436]),\n",
       " 'y': tensor(0.)}"
      ]
     },
     "execution_count": 22,
     "metadata": {},
     "output_type": "execute_result"
    }
   ],
   "source": [
    "train_dataset[0]"
   ]
  },
  {
   "cell_type": "code",
   "execution_count": 23,
   "metadata": {},
   "outputs": [],
   "source": [
    "model = NN()\n",
    "if device == 'cuda':\n",
    "    model = model.cuda()"
   ]
  },
  {
   "cell_type": "code",
   "execution_count": 24,
   "metadata": {},
   "outputs": [],
   "source": [
    "epochs = 60\n",
    "criterion = torch.nn.BCEWithLogitsLoss()\n",
    "optimizer = torch.optim.Adam(model.parameters(), lr=0.001*1)\n",
    "scheduler = torch.optim.lr_scheduler.StepLR(optimizer, step_size=3, gamma=0.5, last_epoch=-1)"
   ]
  },
  {
   "cell_type": "code",
   "execution_count": 25,
   "metadata": {},
   "outputs": [
    {
     "name": "stderr",
     "output_type": "stream",
     "text": [
      "45413it [05:50, 129.59it/s]\n",
      "11354it [00:16, 678.85it/s]\n",
      "1it [00:00,  5.22it/s]"
     ]
    },
    {
     "name": "stdout",
     "output_type": "stream",
     "text": [
      "Epoch: 1 \n",
      " Train Loss 0.5268776  Val loss 0.5001532:\n"
     ]
    },
    {
     "name": "stderr",
     "output_type": "stream",
     "text": [
      "45413it [05:47, 130.81it/s]\n",
      "11354it [00:16, 683.43it/s]\n",
      "1it [00:00,  5.41it/s]"
     ]
    },
    {
     "name": "stdout",
     "output_type": "stream",
     "text": [
      "Epoch: 2 \n",
      " Train Loss 0.4958883  Val loss 0.5008768:\n"
     ]
    },
    {
     "name": "stderr",
     "output_type": "stream",
     "text": [
      "45413it [05:45, 131.50it/s]\n",
      "11354it [00:16, 688.09it/s]\n",
      "1it [00:00,  5.46it/s]"
     ]
    },
    {
     "name": "stdout",
     "output_type": "stream",
     "text": [
      "Epoch: 3 \n",
      " Train Loss 0.4840523  Val loss 0.4726016:\n"
     ]
    },
    {
     "name": "stderr",
     "output_type": "stream",
     "text": [
      "45413it [05:45, 131.57it/s]\n",
      "11354it [00:16, 681.89it/s]\n",
      "1it [00:00,  5.25it/s]"
     ]
    },
    {
     "name": "stdout",
     "output_type": "stream",
     "text": [
      "Epoch: 4 \n",
      " Train Loss 0.4703005  Val loss 0.4633491:\n"
     ]
    },
    {
     "name": "stderr",
     "output_type": "stream",
     "text": [
      "45413it [05:46, 130.88it/s]\n",
      "11354it [00:16, 678.85it/s]\n",
      "1it [00:00,  5.17it/s]"
     ]
    },
    {
     "name": "stdout",
     "output_type": "stream",
     "text": [
      "Epoch: 5 \n",
      " Train Loss 0.4665557  Val loss 0.467718:\n"
     ]
    },
    {
     "name": "stderr",
     "output_type": "stream",
     "text": [
      "45413it [05:48, 130.48it/s]\n",
      "11354it [00:16, 677.72it/s]\n",
      "1it [00:00,  5.35it/s]"
     ]
    },
    {
     "name": "stdout",
     "output_type": "stream",
     "text": [
      "Epoch: 6 \n",
      " Train Loss 0.4638511  Val loss 0.4608645:\n"
     ]
    },
    {
     "name": "stderr",
     "output_type": "stream",
     "text": [
      "45413it [05:46, 131.17it/s]\n",
      "11354it [00:16, 678.83it/s]\n",
      "1it [00:00,  5.35it/s]"
     ]
    },
    {
     "name": "stdout",
     "output_type": "stream",
     "text": [
      "Epoch: 7 \n",
      " Train Loss 0.4571824  Val loss 0.4584909:\n"
     ]
    },
    {
     "name": "stderr",
     "output_type": "stream",
     "text": [
      "45413it [05:45, 131.61it/s]\n",
      "11354it [00:16, 680.25it/s]\n",
      "1it [00:00,  5.30it/s]"
     ]
    },
    {
     "name": "stdout",
     "output_type": "stream",
     "text": [
      "Epoch: 8 \n",
      " Train Loss 0.4555907  Val loss 0.4593454:\n"
     ]
    },
    {
     "name": "stderr",
     "output_type": "stream",
     "text": [
      "45413it [05:47, 130.68it/s]\n",
      "11354it [00:16, 679.90it/s]\n",
      "1it [00:00,  5.32it/s]"
     ]
    },
    {
     "name": "stdout",
     "output_type": "stream",
     "text": [
      "Epoch: 9 \n",
      " Train Loss 0.4543732  Val loss 0.4584625:\n"
     ]
    },
    {
     "name": "stderr",
     "output_type": "stream",
     "text": [
      "45413it [05:52, 128.86it/s]\n",
      "11354it [00:16, 675.47it/s]\n",
      "1it [00:00,  5.20it/s]"
     ]
    },
    {
     "name": "stdout",
     "output_type": "stream",
     "text": [
      "Epoch: 10 \n",
      " Train Loss 0.4507703  Val loss 0.4565921:\n"
     ]
    },
    {
     "name": "stderr",
     "output_type": "stream",
     "text": [
      "45413it [05:41, 132.87it/s]\n",
      "11354it [00:16, 669.57it/s]\n",
      "1it [00:00,  5.15it/s]"
     ]
    },
    {
     "name": "stdout",
     "output_type": "stream",
     "text": [
      "Epoch: 11 \n",
      " Train Loss 0.4497169  Val loss 0.4566411:\n"
     ]
    },
    {
     "name": "stderr",
     "output_type": "stream",
     "text": [
      "45413it [05:43, 132.09it/s]\n",
      "11354it [00:16, 678.41it/s]\n",
      "1it [00:00,  5.14it/s]"
     ]
    },
    {
     "name": "stdout",
     "output_type": "stream",
     "text": [
      "Epoch: 12 \n",
      " Train Loss 0.449072  Val loss 0.4552336:\n"
     ]
    },
    {
     "name": "stderr",
     "output_type": "stream",
     "text": [
      "45413it [05:47, 130.64it/s]\n",
      "11354it [00:16, 680.17it/s]\n",
      "1it [00:00,  5.07it/s]"
     ]
    },
    {
     "name": "stdout",
     "output_type": "stream",
     "text": [
      "Epoch: 13 \n",
      " Train Loss 0.4469319  Val loss 0.4554907:\n"
     ]
    },
    {
     "name": "stderr",
     "output_type": "stream",
     "text": [
      "45413it [05:43, 132.08it/s]\n",
      "11354it [00:16, 674.40it/s]\n",
      "0it [00:00, ?it/s]"
     ]
    },
    {
     "name": "stdout",
     "output_type": "stream",
     "text": [
      "Epoch: 14 \n",
      " Train Loss 0.4466962  Val loss 0.4557449:\n"
     ]
    },
    {
     "name": "stderr",
     "output_type": "stream",
     "text": [
      "45413it [05:45, 131.41it/s]\n",
      "11354it [00:16, 679.20it/s]\n",
      "1it [00:00,  5.10it/s]"
     ]
    },
    {
     "name": "stdout",
     "output_type": "stream",
     "text": [
      "Epoch: 15 \n",
      " Train Loss 0.4461909  Val loss 0.4561375:\n"
     ]
    },
    {
     "name": "stderr",
     "output_type": "stream",
     "text": [
      "45413it [05:46, 131.06it/s]\n",
      "11354it [00:16, 675.28it/s]\n",
      "1it [00:00,  5.08it/s]"
     ]
    },
    {
     "name": "stdout",
     "output_type": "stream",
     "text": [
      "Epoch: 16 \n",
      " Train Loss 0.4451378  Val loss 0.4547347:\n"
     ]
    },
    {
     "name": "stderr",
     "output_type": "stream",
     "text": [
      "45413it [05:47, 130.59it/s]\n",
      "11354it [00:16, 679.07it/s]\n",
      "1it [00:00,  5.04it/s]"
     ]
    },
    {
     "name": "stdout",
     "output_type": "stream",
     "text": [
      "Epoch: 17 \n",
      " Train Loss 0.4449244  Val loss 0.4543975:\n"
     ]
    },
    {
     "name": "stderr",
     "output_type": "stream",
     "text": [
      "45413it [05:46, 131.03it/s]\n",
      "11354it [00:16, 681.50it/s]\n",
      "0it [00:00, ?it/s]"
     ]
    },
    {
     "name": "stdout",
     "output_type": "stream",
     "text": [
      "Epoch: 18 \n",
      " Train Loss 0.444683  Val loss 0.4562256:\n"
     ]
    },
    {
     "name": "stderr",
     "output_type": "stream",
     "text": [
      "45413it [05:55, 127.62it/s]\n",
      "11354it [00:16, 676.92it/s]\n",
      "1it [00:00,  5.05it/s]"
     ]
    },
    {
     "name": "stdout",
     "output_type": "stream",
     "text": [
      "Epoch: 19 \n",
      " Train Loss 0.4441014  Val loss 0.4550516:\n"
     ]
    },
    {
     "name": "stderr",
     "output_type": "stream",
     "text": [
      "45413it [05:47, 130.61it/s]\n",
      "11354it [00:16, 677.46it/s]\n",
      "0it [00:00, ?it/s]"
     ]
    },
    {
     "name": "stdout",
     "output_type": "stream",
     "text": [
      "Epoch: 20 \n",
      " Train Loss 0.4439227  Val loss 0.4548616:\n"
     ]
    },
    {
     "name": "stderr",
     "output_type": "stream",
     "text": [
      "45413it [05:50, 129.55it/s]\n",
      "11354it [00:16, 673.85it/s]\n",
      "1it [00:00,  5.12it/s]"
     ]
    },
    {
     "name": "stdout",
     "output_type": "stream",
     "text": [
      "Epoch: 21 \n",
      " Train Loss 0.4438955  Val loss 0.4549768:\n"
     ]
    },
    {
     "name": "stderr",
     "output_type": "stream",
     "text": [
      "45413it [05:45, 131.45it/s]\n",
      "11354it [00:16, 676.04it/s]\n",
      "0it [00:00, ?it/s]"
     ]
    },
    {
     "name": "stdout",
     "output_type": "stream",
     "text": [
      "Epoch: 22 \n",
      " Train Loss 0.4435529  Val loss 0.457236:\n"
     ]
    },
    {
     "name": "stderr",
     "output_type": "stream",
     "text": [
      "45413it [05:47, 130.68it/s]\n",
      "11354it [00:16, 671.47it/s]\n",
      "0it [00:00, ?it/s]"
     ]
    },
    {
     "name": "stdout",
     "output_type": "stream",
     "text": [
      "Epoch: 23 \n",
      " Train Loss 0.4436755  Val loss 0.4540895:\n"
     ]
    },
    {
     "name": "stderr",
     "output_type": "stream",
     "text": [
      "45413it [05:50, 129.39it/s]\n",
      "11354it [00:16, 678.01it/s]\n",
      "1it [00:00,  5.08it/s]"
     ]
    },
    {
     "name": "stdout",
     "output_type": "stream",
     "text": [
      "Epoch: 24 \n",
      " Train Loss 0.4434369  Val loss 0.4543362:\n"
     ]
    },
    {
     "name": "stderr",
     "output_type": "stream",
     "text": [
      "45413it [05:42, 132.66it/s]\n",
      "11354it [00:16, 678.98it/s]\n",
      "1it [00:00,  5.02it/s]"
     ]
    },
    {
     "name": "stdout",
     "output_type": "stream",
     "text": [
      "Epoch: 25 \n",
      " Train Loss 0.4433806  Val loss 0.4558872:\n"
     ]
    },
    {
     "name": "stderr",
     "output_type": "stream",
     "text": [
      "45413it [05:47, 130.69it/s]\n",
      "11354it [00:16, 678.11it/s]\n",
      "1it [00:00,  5.08it/s]"
     ]
    },
    {
     "name": "stdout",
     "output_type": "stream",
     "text": [
      "Epoch: 26 \n",
      " Train Loss 0.4432465  Val loss 0.4548462:\n"
     ]
    },
    {
     "name": "stderr",
     "output_type": "stream",
     "text": [
      "45413it [05:48, 130.27it/s]\n",
      "11354it [00:16, 678.68it/s]\n",
      "1it [00:00,  5.22it/s]"
     ]
    },
    {
     "name": "stdout",
     "output_type": "stream",
     "text": [
      "Epoch: 27 \n",
      " Train Loss 0.4432145  Val loss 0.4563916:\n"
     ]
    },
    {
     "name": "stderr",
     "output_type": "stream",
     "text": [
      "45413it [05:46, 130.94it/s]\n",
      "11354it [00:16, 678.17it/s]\n",
      "0it [00:00, ?it/s]"
     ]
    },
    {
     "name": "stdout",
     "output_type": "stream",
     "text": [
      "Epoch: 28 \n",
      " Train Loss 0.4431963  Val loss 0.4543801:\n"
     ]
    },
    {
     "name": "stderr",
     "output_type": "stream",
     "text": [
      "45413it [05:46, 131.19it/s]\n",
      "11354it [00:16, 674.10it/s]\n",
      "0it [00:00, ?it/s]"
     ]
    },
    {
     "name": "stdout",
     "output_type": "stream",
     "text": [
      "Epoch: 29 \n",
      " Train Loss 0.4432353  Val loss 0.4556464:\n"
     ]
    },
    {
     "name": "stderr",
     "output_type": "stream",
     "text": [
      "45413it [05:47, 130.84it/s]\n",
      "11354it [00:16, 683.77it/s]\n",
      "1it [00:00,  5.16it/s]"
     ]
    },
    {
     "name": "stdout",
     "output_type": "stream",
     "text": [
      "Epoch: 30 \n",
      " Train Loss 0.443415  Val loss 0.4547309:\n"
     ]
    },
    {
     "name": "stderr",
     "output_type": "stream",
     "text": [
      "45413it [05:49, 130.02it/s]\n",
      "11354it [00:16, 674.96it/s]\n",
      "1it [00:00,  5.08it/s]"
     ]
    },
    {
     "name": "stdout",
     "output_type": "stream",
     "text": [
      "Epoch: 31 \n",
      " Train Loss 0.4432047  Val loss 0.4541299:\n"
     ]
    },
    {
     "name": "stderr",
     "output_type": "stream",
     "text": [
      "45413it [05:47, 130.64it/s]\n",
      "11354it [00:16, 682.73it/s]\n",
      "1it [00:00,  5.09it/s]"
     ]
    },
    {
     "name": "stdout",
     "output_type": "stream",
     "text": [
      "Epoch: 32 \n",
      " Train Loss 0.4432465  Val loss 0.4549346:\n"
     ]
    },
    {
     "name": "stderr",
     "output_type": "stream",
     "text": [
      "45413it [05:45, 131.30it/s]\n",
      "11354it [00:16, 683.84it/s]\n",
      "1it [00:00,  5.40it/s]"
     ]
    },
    {
     "name": "stdout",
     "output_type": "stream",
     "text": [
      "Epoch: 33 \n",
      " Train Loss 0.4432181  Val loss 0.4552128:\n"
     ]
    },
    {
     "name": "stderr",
     "output_type": "stream",
     "text": [
      "45413it [05:47, 130.70it/s]\n",
      "11354it [00:16, 679.64it/s]\n",
      "1it [00:00,  5.36it/s]"
     ]
    },
    {
     "name": "stdout",
     "output_type": "stream",
     "text": [
      "Epoch: 34 \n",
      " Train Loss 0.4432048  Val loss 0.4548226:\n"
     ]
    },
    {
     "name": "stderr",
     "output_type": "stream",
     "text": [
      "45413it [05:47, 130.51it/s]\n",
      "11354it [00:16, 678.34it/s]\n",
      "1it [00:00,  5.36it/s]"
     ]
    },
    {
     "name": "stdout",
     "output_type": "stream",
     "text": [
      "Epoch: 35 \n",
      " Train Loss 0.443072  Val loss 0.4550718:\n"
     ]
    },
    {
     "name": "stderr",
     "output_type": "stream",
     "text": [
      "45413it [05:46, 131.16it/s]\n",
      "11354it [00:16, 683.56it/s]\n",
      "1it [00:00,  5.22it/s]"
     ]
    },
    {
     "name": "stdout",
     "output_type": "stream",
     "text": [
      "Epoch: 36 \n",
      " Train Loss 0.4431534  Val loss 0.4542931:\n"
     ]
    },
    {
     "name": "stderr",
     "output_type": "stream",
     "text": [
      "45413it [05:49, 129.90it/s]\n",
      "11354it [00:16, 676.24it/s]\n",
      "1it [00:00,  5.06it/s]"
     ]
    },
    {
     "name": "stdout",
     "output_type": "stream",
     "text": [
      "Epoch: 37 \n",
      " Train Loss 0.4433047  Val loss 0.4554856:\n"
     ]
    },
    {
     "name": "stderr",
     "output_type": "stream",
     "text": [
      "45413it [05:46, 130.95it/s]\n",
      "11354it [00:16, 675.00it/s]\n",
      "1it [00:00,  5.20it/s]"
     ]
    },
    {
     "name": "stdout",
     "output_type": "stream",
     "text": [
      "Epoch: 38 \n",
      " Train Loss 0.44309  Val loss 0.4542599:\n"
     ]
    },
    {
     "name": "stderr",
     "output_type": "stream",
     "text": [
      "45413it [05:45, 131.35it/s]\n",
      "11354it [00:16, 682.27it/s]\n",
      "1it [00:00,  5.17it/s]"
     ]
    },
    {
     "name": "stdout",
     "output_type": "stream",
     "text": [
      "Epoch: 39 \n",
      " Train Loss 0.4432021  Val loss 0.4550529:\n"
     ]
    },
    {
     "name": "stderr",
     "output_type": "stream",
     "text": [
      "45413it [05:41, 133.14it/s]\n",
      "11354it [00:16, 677.86it/s]\n",
      "0it [00:00, ?it/s]"
     ]
    },
    {
     "name": "stdout",
     "output_type": "stream",
     "text": [
      "Epoch: 40 \n",
      " Train Loss 0.4431631  Val loss 0.4546604:\n"
     ]
    },
    {
     "name": "stderr",
     "output_type": "stream",
     "text": [
      "45413it [05:52, 128.94it/s]\n",
      "11354it [00:16, 677.20it/s]\n",
      "0it [00:00, ?it/s]"
     ]
    },
    {
     "name": "stdout",
     "output_type": "stream",
     "text": [
      "Epoch: 41 \n",
      " Train Loss 0.443265  Val loss 0.4546519:\n"
     ]
    },
    {
     "name": "stderr",
     "output_type": "stream",
     "text": [
      "45413it [05:51, 129.09it/s]\n",
      "11354it [00:16, 677.94it/s]\n",
      "1it [00:00,  5.09it/s]"
     ]
    },
    {
     "name": "stdout",
     "output_type": "stream",
     "text": [
      "Epoch: 42 \n",
      " Train Loss 0.4431095  Val loss 0.4545049:\n"
     ]
    },
    {
     "name": "stderr",
     "output_type": "stream",
     "text": [
      "45413it [05:46, 131.21it/s]\n",
      "11354it [00:16, 682.72it/s]\n",
      "1it [00:00,  5.05it/s]"
     ]
    },
    {
     "name": "stdout",
     "output_type": "stream",
     "text": [
      "Epoch: 43 \n",
      " Train Loss 0.4432168  Val loss 0.4560069:\n"
     ]
    },
    {
     "name": "stderr",
     "output_type": "stream",
     "text": [
      "45413it [05:45, 131.26it/s]\n",
      "11354it [00:16, 678.50it/s]\n",
      "1it [00:00,  5.09it/s]"
     ]
    },
    {
     "name": "stdout",
     "output_type": "stream",
     "text": [
      "Epoch: 44 \n",
      " Train Loss 0.4431627  Val loss 0.4556048:\n"
     ]
    },
    {
     "name": "stderr",
     "output_type": "stream",
     "text": [
      "45413it [05:47, 130.85it/s]\n",
      "11354it [00:16, 683.82it/s]\n",
      "1it [00:00,  5.04it/s]"
     ]
    },
    {
     "name": "stdout",
     "output_type": "stream",
     "text": [
      "Epoch: 45 \n",
      " Train Loss 0.4431869  Val loss 0.455476:\n"
     ]
    },
    {
     "name": "stderr",
     "output_type": "stream",
     "text": [
      "45413it [05:51, 129.30it/s]\n",
      "11354it [00:16, 681.02it/s]\n",
      "1it [00:00,  5.23it/s]"
     ]
    },
    {
     "name": "stdout",
     "output_type": "stream",
     "text": [
      "Epoch: 46 \n",
      " Train Loss 0.443114  Val loss 0.4568129:\n"
     ]
    },
    {
     "name": "stderr",
     "output_type": "stream",
     "text": [
      "45413it [05:45, 131.35it/s]\n",
      "11354it [00:16, 676.06it/s]\n",
      "0it [00:00, ?it/s]"
     ]
    },
    {
     "name": "stdout",
     "output_type": "stream",
     "text": [
      "Epoch: 47 \n",
      " Train Loss 0.4430147  Val loss 0.4555972:\n"
     ]
    },
    {
     "name": "stderr",
     "output_type": "stream",
     "text": [
      "45413it [05:55, 127.73it/s]\n",
      "11354it [00:16, 674.22it/s]\n",
      "1it [00:00,  5.21it/s]"
     ]
    },
    {
     "name": "stdout",
     "output_type": "stream",
     "text": [
      "Epoch: 48 \n",
      " Train Loss 0.4429805  Val loss 0.4546056:\n"
     ]
    },
    {
     "name": "stderr",
     "output_type": "stream",
     "text": [
      "45413it [05:49, 129.92it/s]\n",
      "11354it [00:16, 675.46it/s]\n",
      "1it [00:00,  5.07it/s]"
     ]
    },
    {
     "name": "stdout",
     "output_type": "stream",
     "text": [
      "Epoch: 49 \n",
      " Train Loss 0.4431187  Val loss 0.4561776:\n"
     ]
    },
    {
     "name": "stderr",
     "output_type": "stream",
     "text": [
      "45413it [05:45, 131.34it/s]\n",
      "11354it [00:16, 676.11it/s]\n",
      "1it [00:00,  5.04it/s]"
     ]
    },
    {
     "name": "stdout",
     "output_type": "stream",
     "text": [
      "Epoch: 50 \n",
      " Train Loss 0.4431415  Val loss 0.4546694:\n"
     ]
    },
    {
     "name": "stderr",
     "output_type": "stream",
     "text": [
      "45413it [05:46, 131.09it/s]\n",
      "11354it [00:16, 679.64it/s]\n",
      "0it [00:00, ?it/s]"
     ]
    },
    {
     "name": "stdout",
     "output_type": "stream",
     "text": [
      "Epoch: 51 \n",
      " Train Loss 0.4431552  Val loss 0.4538914:\n"
     ]
    },
    {
     "name": "stderr",
     "output_type": "stream",
     "text": [
      "45413it [05:47, 130.51it/s]\n",
      "11354it [00:16, 679.06it/s]\n",
      "1it [00:00,  5.21it/s]"
     ]
    },
    {
     "name": "stdout",
     "output_type": "stream",
     "text": [
      "Epoch: 52 \n",
      " Train Loss 0.4431793  Val loss 0.4556934:\n"
     ]
    },
    {
     "name": "stderr",
     "output_type": "stream",
     "text": [
      "45413it [05:46, 131.18it/s]\n",
      "11354it [00:16, 679.26it/s]\n",
      "1it [00:00,  5.02it/s]"
     ]
    },
    {
     "name": "stdout",
     "output_type": "stream",
     "text": [
      "Epoch: 53 \n",
      " Train Loss 0.4431739  Val loss 0.4557859:\n"
     ]
    },
    {
     "name": "stderr",
     "output_type": "stream",
     "text": [
      "45413it [05:44, 131.86it/s]\n",
      "11354it [00:16, 691.19it/s]\n",
      "1it [00:00,  5.21it/s]"
     ]
    },
    {
     "name": "stdout",
     "output_type": "stream",
     "text": [
      "Epoch: 54 \n",
      " Train Loss 0.4432981  Val loss 0.4552408:\n"
     ]
    },
    {
     "name": "stderr",
     "output_type": "stream",
     "text": [
      "45413it [05:44, 131.96it/s]\n",
      "11354it [00:16, 679.58it/s]\n",
      "1it [00:00,  5.28it/s]"
     ]
    },
    {
     "name": "stdout",
     "output_type": "stream",
     "text": [
      "Epoch: 55 \n",
      " Train Loss 0.4429623  Val loss 0.4556519:\n"
     ]
    },
    {
     "name": "stderr",
     "output_type": "stream",
     "text": [
      "45413it [05:41, 133.02it/s]\n",
      "11354it [00:16, 678.25it/s]\n",
      "1it [00:00,  5.22it/s]"
     ]
    },
    {
     "name": "stdout",
     "output_type": "stream",
     "text": [
      "Epoch: 56 \n",
      " Train Loss 0.4430791  Val loss 0.4551806:\n"
     ]
    },
    {
     "name": "stderr",
     "output_type": "stream",
     "text": [
      "45413it [05:37, 134.67it/s]\n",
      "11354it [00:16, 691.49it/s]\n",
      "1it [00:00,  5.18it/s]"
     ]
    },
    {
     "name": "stdout",
     "output_type": "stream",
     "text": [
      "Epoch: 57 \n",
      " Train Loss 0.443077  Val loss 0.4553482:\n"
     ]
    },
    {
     "name": "stderr",
     "output_type": "stream",
     "text": [
      "45413it [05:29, 137.65it/s]\n",
      "11354it [00:16, 693.51it/s]\n",
      "1it [00:00,  5.28it/s]"
     ]
    },
    {
     "name": "stdout",
     "output_type": "stream",
     "text": [
      "Epoch: 58 \n",
      " Train Loss 0.4430851  Val loss 0.4549213:\n"
     ]
    },
    {
     "name": "stderr",
     "output_type": "stream",
     "text": [
      "45413it [05:44, 131.92it/s]\n",
      "11354it [00:16, 684.05it/s]\n",
      "0it [00:00, ?it/s]"
     ]
    },
    {
     "name": "stdout",
     "output_type": "stream",
     "text": [
      "Epoch: 59 \n",
      " Train Loss 0.4431531  Val loss 0.4544686:\n"
     ]
    },
    {
     "name": "stderr",
     "output_type": "stream",
     "text": [
      "45413it [05:44, 131.96it/s]\n",
      "11354it [00:16, 683.06it/s]"
     ]
    },
    {
     "name": "stdout",
     "output_type": "stream",
     "text": [
      "Epoch: 60 \n",
      " Train Loss 0.4431702  Val loss 0.4550751:\n"
     ]
    },
    {
     "name": "stderr",
     "output_type": "stream",
     "text": [
      "\n"
     ]
    }
   ],
   "source": [
    "best_valid_loss = float('inf')\n",
    "for epoch in range(1, epochs + 1):\n",
    "    train_loss = round(train_epoch(train_dataloader, optimizer, criterion), 7)\n",
    "    valid_loss = round(val_epoch(valid_dataloader, criterion), 7)\n",
    "    if valid_loss < best_valid_loss:\n",
    "            best_valid_loss = valid_loss\n",
    "            torch.save(model.state_dict(), './data/models/result_more_weights_more_layers_figures_without_order_NN_with_means_median_max_min_dist_no_dropout_more_more_64_more_steps_normalize.pt')\n",
    "\n",
    "    print('Epoch: {} \\n Train Loss {}  Val loss {}:'.format(epoch, train_loss, valid_loss))\n",
    "    scheduler.step()"
   ]
  },
  {
   "cell_type": "code",
   "execution_count": 26,
   "metadata": {},
   "outputs": [
    {
     "data": {
      "text/plain": [
       "<All keys matched successfully>"
      ]
     },
     "execution_count": 26,
     "metadata": {},
     "output_type": "execute_result"
    }
   ],
   "source": [
    "model.load_state_dict(torch.load('./data/models/result_more_weights_more_layers_figures_without_order_NN_with_means_median_max_min_dist_no_dropout_more_more_64_more_steps_normalize.pt'))"
   ]
  },
  {
   "cell_type": "code",
   "execution_count": 27,
   "metadata": {},
   "outputs": [
    {
     "name": "stderr",
     "output_type": "stream",
     "text": [
      "11354it [00:16, 688.90it/s]\n"
     ]
    },
    {
     "data": {
      "text/plain": [
       "0.4538914"
      ]
     },
     "execution_count": 27,
     "metadata": {},
     "output_type": "execute_result"
    }
   ],
   "source": [
    "round(val_epoch(valid_dataloader, criterion), 7)"
   ]
  },
  {
   "cell_type": "code",
   "execution_count": 28,
   "metadata": {},
   "outputs": [
    {
     "name": "stderr",
     "output_type": "stream",
     "text": [
      "0it [00:00, ?it/s]/home/mpopov/.local/lib/python3.6/site-packages/torch/nn/functional.py:1351: UserWarning: nn.functional.sigmoid is deprecated. Use torch.sigmoid instead.\n",
      "  warnings.warn(\"nn.functional.sigmoid is deprecated. Use torch.sigmoid instead.\")\n",
      "14192it [00:18, 785.64it/s]\n"
     ]
    }
   ],
   "source": [
    "res = predict(test_dataloader)"
   ]
  },
  {
   "cell_type": "code",
   "execution_count": 29,
   "metadata": {},
   "outputs": [],
   "source": [
    "res = [item[0] for item in res]"
   ]
  },
  {
   "cell_type": "code",
   "execution_count": 30,
   "metadata": {},
   "outputs": [],
   "source": [
    "df_test['target'] = res"
   ]
  },
  {
   "cell_type": "code",
   "execution_count": 31,
   "metadata": {},
   "outputs": [],
   "source": [
    "df_test[['id','target']].to_csv('result_more_weights_more_layers_figures_without_order_NN_with_means_median_max_min_dist_no_dropout_more_more_64_more_steps_normalize.csv', index=False)"
   ]
  },
  {
   "cell_type": "code",
   "execution_count": 32,
   "metadata": {},
   "outputs": [
    {
     "name": "stdout",
     "output_type": "stream",
     "text": [
      "id,target\n",
      "0,0.5402498841285706\n",
      "1,0.0246985275298357\n",
      "2,0.27421900629997253\n",
      "3,0.07322155684232712\n",
      "4,0.1372326910495758\n",
      "5,0.02727675624191761\n",
      "6,0.48711949586868286\n",
      "7,0.2022111415863037\n",
      "8,0.9008543491363525\n"
     ]
    }
   ],
   "source": [
    "!head  result_more_weights_more_layers_figures_without_order_NN_with_means_median_max_min_dist_no_dropout_more_more_64_more_steps_normalize.csv"
   ]
  },
  {
   "cell_type": "code",
   "execution_count": 33,
   "metadata": {},
   "outputs": [
    {
     "name": "stderr",
     "output_type": "stream",
     "text": [
      "11354it [00:15, 744.19it/s]\n"
     ]
    }
   ],
   "source": [
    "# val\n",
    "val_preds = predict(valid_dataloader)\n",
    "val_preds = [item[0] for item in val_preds]\n",
    "df_val = pd.DataFrame({'score':val_preds, 'target': y_val})\n",
    "df_val.to_csv('val_result_more_weights_more_layers_figures_without_order_NN_with_means_median_max_min_dist_no_dropout_more_more_64_more_steps_normalize.csv', index=False)"
   ]
  },
  {
   "cell_type": "code",
   "execution_count": null,
   "metadata": {},
   "outputs": [],
   "source": []
  }
 ],
 "metadata": {
  "kernelspec": {
   "display_name": "Python 3",
   "language": "python",
   "name": "python3"
  },
  "language_info": {
   "codemirror_mode": {
    "name": "ipython",
    "version": 3
   },
   "file_extension": ".py",
   "mimetype": "text/x-python",
   "name": "python",
   "nbconvert_exporter": "python",
   "pygments_lexer": "ipython3",
   "version": "3.6.5"
  }
 },
 "nbformat": 4,
 "nbformat_minor": 4
}
