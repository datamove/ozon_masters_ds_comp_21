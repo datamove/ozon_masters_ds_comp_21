{
 "cells": [
  {
   "cell_type": "code",
   "execution_count": 1,
   "metadata": {},
   "outputs": [],
   "source": [
    "import pandas as pd\n",
    "import numpy as np\n",
    "from sklearn.model_selection import cross_val_predict\n",
    "from sklearn.linear_model import LogisticRegression\n",
    "from sklearn.metrics import log_loss\n",
    "from sklearn.utils import shuffle\n",
    "from collections import defaultdict\n",
    "from tqdm import tqdm"
   ]
  },
  {
   "cell_type": "code",
   "execution_count": 2,
   "metadata": {},
   "outputs": [],
   "source": [
    "df_train = pd.read_csv('./data/train.csv')\n",
    "df_test = pd.read_csv('./data/test.csv')"
   ]
  },
  {
   "cell_type": "code",
   "execution_count": 3,
   "metadata": {},
   "outputs": [
    {
     "data": {
      "text/plain": [
       "((3633005, 24), (908252, 23))"
      ]
     },
     "execution_count": 3,
     "metadata": {},
     "output_type": "execute_result"
    }
   ],
   "source": [
    "df_train.shape, df_test.shape"
   ]
  },
  {
   "cell_type": "markdown",
   "metadata": {},
   "source": [
    "# current_next_prev"
   ]
  },
  {
   "cell_type": "code",
   "execution_count": 4,
   "metadata": {},
   "outputs": [],
   "source": [
    "df_train.X1 = df_train.X1.astype(int)\n",
    "df_test.X1 = df_test.X1.astype(int)\n",
    "df_train.X2 = df_train.X2.astype(int)\n",
    "df_test.X2 = df_test.X2.astype(int)\n",
    "df_train.X3 = df_train.X3.astype(int)\n",
    "df_test.X3 = df_test.X3.astype(int)\n",
    "df_train.X4 = df_train.X4.astype(int)\n",
    "df_test.X4 = df_test.X4.astype(int)\n",
    "df_train.X21 = df_train.X21.astype(int)\n",
    "df_test.X21 = df_test.X21.astype(int)"
   ]
  },
  {
   "cell_type": "code",
   "execution_count": 5,
   "metadata": {},
   "outputs": [
    {
     "name": "stderr",
     "output_type": "stream",
     "text": [
      "4541257it [06:02, 12516.93it/s]\n"
     ]
    }
   ],
   "source": [
    "player_to_games_and_scores = defaultdict(lambda: defaultdict(list))\n",
    "for ind, line in tqdm(df_train.append(df_test).iterrows()):  \n",
    "    player_to_games_and_scores[line['X1']]['scores'].append(int(line['X2']))\n",
    "    player_to_games_and_scores[line['X1']]['games'].append(int(line['X21']))\n",
    "    player_to_games_and_scores[line['X3']]['scores'].append(int(line['X4']))\n",
    "    player_to_games_and_scores[line['X3']]['games'].append(int(line['X21']))"
   ]
  },
  {
   "cell_type": "code",
   "execution_count": 6,
   "metadata": {},
   "outputs": [
    {
     "name": "stderr",
     "output_type": "stream",
     "text": [
      "100%|██████████| 970949/970949 [00:09<00:00, 100918.41it/s]\n"
     ]
    }
   ],
   "source": [
    "for player in tqdm(player_to_games_and_scores):\n",
    "    scores = player_to_games_and_scores[player]['scores']\n",
    "    games = player_to_games_and_scores[player]['games']\n",
    "    scores = np.array([score for game, score in sorted(zip(games, scores))])\n",
    "    games = np.array(sorted(games))\n",
    "    player_to_games_and_scores[player]['scores'] = scores\n",
    "    player_to_games_and_scores[player]['games'] = games"
   ]
  },
  {
   "cell_type": "code",
   "execution_count": 7,
   "metadata": {},
   "outputs": [
    {
     "name": "stderr",
     "output_type": "stream",
     "text": [
      "100%|██████████| 970949/970949 [12:06<00:00, 1335.76it/s] \n"
     ]
    }
   ],
   "source": [
    "player_and_game_to_next_score_mean = {}\n",
    "player_and_game_to_prev_score_mean = {}\n",
    "player_and_game_to_current_score_mean = {}\n",
    "\n",
    "player_and_game_to_next_score_median = {}\n",
    "player_and_game_to_prev_score_median = {}\n",
    "player_and_game_to_current_score_median = {}\n",
    "\n",
    "player_and_game_to_next_score_max = {}\n",
    "player_and_game_to_prev_score_max = {}\n",
    "player_and_game_to_current_score_max = {}\n",
    "\n",
    "\n",
    "player_and_game_to_next_score_min = {}\n",
    "player_and_game_to_prev_score_min = {}\n",
    "player_and_game_to_current_score_min = {}\n",
    "\n",
    "player_and_game_to_next_game = {}\n",
    "player_and_game_to_prev_game = {}\n",
    "player_and_game_to_current_game = {}\n",
    "for player in tqdm(player_to_games_and_scores):\n",
    "    for game in set(player_to_games_and_scores[player]['games']):\n",
    "        games = player_to_games_and_scores[player]['games']\n",
    "        scores = player_to_games_and_scores[player]['scores']\n",
    "        #current\n",
    "        current_scores = scores[games==game]\n",
    "        player_and_game_to_current_score_mean[(player, game)] = current_scores.mean()\n",
    "        player_and_game_to_current_score_median[(player, game)] = np.median(current_scores)\n",
    "        player_and_game_to_current_score_max[(player, game)] = current_scores.max()\n",
    "        player_and_game_to_current_score_min[(player, game)] = current_scores.min()\n",
    "        player_and_game_to_current_game[(player, game)] = game\n",
    "        #next\n",
    "        next_games_ind = games > game\n",
    "        if next_games_ind.sum() > 0:\n",
    "            next_game = games[games > game][0]\n",
    "            next_score = scores[games==next_game]\n",
    "        else:\n",
    "            # Можно попробовать заменить на get в след ячейках без усреднения\n",
    "            next_game = game\n",
    "            next_score = scores[games==game]\n",
    "            \n",
    "        player_and_game_to_next_score_mean[(player, game)] = next_score.mean()\n",
    "        player_and_game_to_next_score_median[(player, game)] = np.median(next_score)\n",
    "        player_and_game_to_next_score_max[(player, game)] = next_score.max()\n",
    "        player_and_game_to_next_score_min[(player, game)] = next_score.min()    \n",
    "    \n",
    "        player_and_game_to_next_game[(player, game)] = next_game\n",
    "        #prev\n",
    "        prev_games_ind = games < game\n",
    "        if prev_games_ind.sum() > 0:\n",
    "            prev_game = games[games < game][-1]\n",
    "            prev_score = scores[games==prev_game]\n",
    "        else:\n",
    "            # Можно попробовать заменить на get в след ячейках без усреднения\n",
    "            prev_game = game\n",
    "            prev_score = scores[games==game]\n",
    "        player_and_game_to_prev_score_mean[(player, game)] = prev_score.mean()\n",
    "        player_and_game_to_prev_score_median[(player, game)] = np.median(prev_score)\n",
    "        player_and_game_to_prev_score_max[(player, game)] = prev_score.max()\n",
    "        player_and_game_to_prev_score_min[(player, game)] = prev_score.min() \n",
    "        player_and_game_to_prev_game[(player, game)] = prev_game\n",
    "        "
   ]
  },
  {
   "cell_type": "code",
   "execution_count": 8,
   "metadata": {},
   "outputs": [
    {
     "name": "stderr",
     "output_type": "stream",
     "text": [
      "3633005it [06:33, 9237.76it/s] \n"
     ]
    }
   ],
   "source": [
    "X2_next_mean = []\n",
    "X4_next_mean = []\n",
    "X2_prev_mean = []\n",
    "X4_prev_mean = []\n",
    "X2_current_mean = []\n",
    "X4_current_mean = []\n",
    "\n",
    "X2_next_median = []\n",
    "X4_next_median = []\n",
    "X2_prev_median = []\n",
    "X4_prev_median = []\n",
    "X2_current_median = []\n",
    "X4_current_median = []\n",
    "\n",
    "X2_next_max = []\n",
    "X4_next_max = []\n",
    "X2_prev_max = []\n",
    "X4_prev_max = []\n",
    "X2_current_max = []\n",
    "X4_current_max = []\n",
    "\n",
    "X2_next_min = []\n",
    "X4_next_min = []\n",
    "X2_prev_min = []\n",
    "X4_prev_min = []\n",
    "X2_current_min = []\n",
    "X4_current_min = []\n",
    "\n",
    "to_next_game_1 = []\n",
    "to_next_game_2 = []\n",
    "to_prev_game_1 = []\n",
    "to_prev_game_2 = []\n",
    "\n",
    "for ind, line in tqdm(df_train.iterrows()):\n",
    "    player_1 = line['X1']\n",
    "    player_2 = line['X3']\n",
    "    game = line['X21']\n",
    "    \n",
    "    to_next_game_1.append(player_and_game_to_next_game[(player_1, game)] - player_and_game_to_current_game[(player_1, game)])\n",
    "    to_next_game_2.append(player_and_game_to_next_game[(player_2, game)] - player_and_game_to_current_game[(player_2, game)])\n",
    "    \n",
    "    to_prev_game_1.append(player_and_game_to_current_game[(player_1, game)] - player_and_game_to_prev_game[(player_1, game)])\n",
    "    to_prev_game_2.append(player_and_game_to_current_game[(player_2, game)] - player_and_game_to_prev_game[(player_2, game)])\n",
    "    \n",
    "    \n",
    "    X2_next_mean.append(player_and_game_to_next_score_mean[(player_1, game)])\n",
    "    X4_next_mean.append(player_and_game_to_next_score_mean[(player_2, game)])\n",
    "    X2_prev_mean.append(player_and_game_to_prev_score_mean[(player_1, game)])\n",
    "    X4_prev_mean.append(player_and_game_to_prev_score_mean[(player_2, game)])\n",
    "    X2_current_mean.append(player_and_game_to_current_score_mean[(player_1, game)])\n",
    "    X4_current_mean.append(player_and_game_to_current_score_mean[(player_2, game)])\n",
    "    \n",
    "    X2_next_median.append(player_and_game_to_next_score_median[(player_1, game)])\n",
    "    X4_next_median.append(player_and_game_to_next_score_median[(player_2, game)])\n",
    "    X2_prev_median.append(player_and_game_to_prev_score_median[(player_1, game)])\n",
    "    X4_prev_median.append(player_and_game_to_prev_score_median[(player_2, game)])\n",
    "    X2_current_median.append(player_and_game_to_current_score_median[(player_1, game)])\n",
    "    X4_current_median.append(player_and_game_to_current_score_median[(player_2, game)])\n",
    "    \n",
    "    X2_next_max.append(player_and_game_to_next_score_max[(player_1, game)])\n",
    "    X4_next_max.append(player_and_game_to_next_score_max[(player_2, game)])\n",
    "    X2_prev_max.append(player_and_game_to_prev_score_max[(player_1, game)])\n",
    "    X4_prev_max.append(player_and_game_to_prev_score_max[(player_2, game)])\n",
    "    X2_current_max.append(player_and_game_to_current_score_max[(player_1, game)])\n",
    "    X4_current_max.append(player_and_game_to_current_score_max[(player_2, game)])\n",
    "    \n",
    "    X2_next_min.append(player_and_game_to_next_score_min[(player_1, game)])\n",
    "    X4_next_min.append(player_and_game_to_next_score_min[(player_2, game)])\n",
    "    X2_prev_min.append(player_and_game_to_prev_score_min[(player_1, game)])\n",
    "    X4_prev_min.append(player_and_game_to_prev_score_min[(player_2, game)])\n",
    "    X2_current_min.append(player_and_game_to_current_score_min[(player_1, game)])\n",
    "    X4_current_min.append(player_and_game_to_current_score_min[(player_2, game)])\n",
    "    \n",
    "    \n",
    "\n",
    "df_train['X2_next_mean'] = X2_next_mean\n",
    "df_train['X4_next_mean'] = X4_next_mean\n",
    "df_train['X2_prev_mean'] = X2_prev_mean\n",
    "df_train['X4_prev_mean'] = X4_prev_mean\n",
    "df_train['X2_current_mean'] = X2_current_mean\n",
    "df_train['X4_current_mean'] = X4_current_mean\n",
    "\n",
    "df_train['X2_next_median'] = X2_next_median\n",
    "df_train['X4_next_median'] = X4_next_median\n",
    "df_train['X2_prev_median'] = X2_prev_median\n",
    "df_train['X4_prev_median'] = X4_prev_median\n",
    "df_train['X2_current_median'] = X2_current_median\n",
    "df_train['X4_current_median'] = X4_current_median\n",
    "\n",
    "\n",
    "df_train['X2_next_max'] = X2_next_max\n",
    "df_train['X4_next_max'] = X4_next_max\n",
    "df_train['X2_prev_max'] = X2_prev_max\n",
    "df_train['X4_prev_max'] = X4_prev_max\n",
    "df_train['X2_current_max'] = X2_current_max\n",
    "df_train['X4_current_max'] = X4_current_max\n",
    "\n",
    "df_train['X2_next_min'] = X2_next_min\n",
    "df_train['X4_next_min'] = X4_next_min\n",
    "df_train['X2_prev_min'] = X2_prev_min\n",
    "df_train['X4_prev_min'] = X4_prev_min\n",
    "df_train['X2_current_min'] = X2_current_min\n",
    "df_train['X4_current_min'] = X4_current_min\n",
    "\n",
    "\n",
    "df_train['to_next_game_1'] = to_next_game_1\n",
    "df_train['to_next_game_2'] = to_next_game_2\n",
    "df_train['to_prev_game_1'] = to_prev_game_1\n",
    "df_train['to_prev_game_2'] = to_prev_game_2\n"
   ]
  },
  {
   "cell_type": "code",
   "execution_count": 9,
   "metadata": {},
   "outputs": [
    {
     "name": "stderr",
     "output_type": "stream",
     "text": [
      "908252it [01:45, 8605.99it/s]\n"
     ]
    }
   ],
   "source": [
    "X2_next_mean = []\n",
    "X4_next_mean = []\n",
    "X2_prev_mean = []\n",
    "X4_prev_mean = []\n",
    "X2_current_mean = []\n",
    "X4_current_mean = []\n",
    "\n",
    "X2_next_median = []\n",
    "X4_next_median = []\n",
    "X2_prev_median = []\n",
    "X4_prev_median = []\n",
    "X2_current_median = []\n",
    "X4_current_median = []\n",
    "\n",
    "X2_next_max = []\n",
    "X4_next_max = []\n",
    "X2_prev_max = []\n",
    "X4_prev_max = []\n",
    "X2_current_max = []\n",
    "X4_current_max = []\n",
    "\n",
    "X2_next_min = []\n",
    "X4_next_min = []\n",
    "X2_prev_min = []\n",
    "X4_prev_min = []\n",
    "X2_current_min = []\n",
    "X4_current_min = []\n",
    "\n",
    "to_next_game_1 = []\n",
    "to_next_game_2 = []\n",
    "to_prev_game_1 = []\n",
    "to_prev_game_2 = []\n",
    "\n",
    "for ind, line in tqdm(df_test.iterrows()):\n",
    "    player_1 = line['X1']\n",
    "    player_2 = line['X3']\n",
    "    game = line['X21']\n",
    "    \n",
    "    to_next_game_1.append(player_and_game_to_next_game[(player_1, game)] - player_and_game_to_current_game[(player_1, game)])\n",
    "    to_next_game_2.append(player_and_game_to_next_game[(player_2, game)] - player_and_game_to_current_game[(player_2, game)])\n",
    "    \n",
    "    to_prev_game_1.append(player_and_game_to_current_game[(player_1, game)] - player_and_game_to_prev_game[(player_1, game)])\n",
    "    to_prev_game_2.append(player_and_game_to_current_game[(player_2, game)] - player_and_game_to_prev_game[(player_2, game)])\n",
    "    \n",
    "    \n",
    "    X2_next_mean.append(player_and_game_to_next_score_mean[(player_1, game)])\n",
    "    X4_next_mean.append(player_and_game_to_next_score_mean[(player_2, game)])\n",
    "    X2_prev_mean.append(player_and_game_to_prev_score_mean[(player_1, game)])\n",
    "    X4_prev_mean.append(player_and_game_to_prev_score_mean[(player_2, game)])\n",
    "    X2_current_mean.append(player_and_game_to_current_score_mean[(player_1, game)])\n",
    "    X4_current_mean.append(player_and_game_to_current_score_mean[(player_2, game)])\n",
    "    \n",
    "    X2_next_median.append(player_and_game_to_next_score_median[(player_1, game)])\n",
    "    X4_next_median.append(player_and_game_to_next_score_median[(player_2, game)])\n",
    "    X2_prev_median.append(player_and_game_to_prev_score_median[(player_1, game)])\n",
    "    X4_prev_median.append(player_and_game_to_prev_score_median[(player_2, game)])\n",
    "    X2_current_median.append(player_and_game_to_current_score_median[(player_1, game)])\n",
    "    X4_current_median.append(player_and_game_to_current_score_median[(player_2, game)])\n",
    "    \n",
    "    X2_next_max.append(player_and_game_to_next_score_max[(player_1, game)])\n",
    "    X4_next_max.append(player_and_game_to_next_score_max[(player_2, game)])\n",
    "    X2_prev_max.append(player_and_game_to_prev_score_max[(player_1, game)])\n",
    "    X4_prev_max.append(player_and_game_to_prev_score_max[(player_2, game)])\n",
    "    X2_current_max.append(player_and_game_to_current_score_max[(player_1, game)])\n",
    "    X4_current_max.append(player_and_game_to_current_score_max[(player_2, game)])\n",
    "    \n",
    "    X2_next_min.append(player_and_game_to_next_score_min[(player_1, game)])\n",
    "    X4_next_min.append(player_and_game_to_next_score_min[(player_2, game)])\n",
    "    X2_prev_min.append(player_and_game_to_prev_score_min[(player_1, game)])\n",
    "    X4_prev_min.append(player_and_game_to_prev_score_min[(player_2, game)])\n",
    "    X2_current_min.append(player_and_game_to_current_score_min[(player_1, game)])\n",
    "    X4_current_min.append(player_and_game_to_current_score_min[(player_2, game)])\n",
    "    \n",
    "    \n",
    "\n",
    "df_test['X2_next_mean'] = X2_next_mean\n",
    "df_test['X4_next_mean'] = X4_next_mean\n",
    "df_test['X2_prev_mean'] = X2_prev_mean\n",
    "df_test['X4_prev_mean'] = X4_prev_mean\n",
    "df_test['X2_current_mean'] = X2_current_mean\n",
    "df_test['X4_current_mean'] = X4_current_mean\n",
    "\n",
    "df_test['X2_next_median'] = X2_next_median\n",
    "df_test['X4_next_median'] = X4_next_median\n",
    "df_test['X2_prev_median'] = X2_prev_median\n",
    "df_test['X4_prev_median'] = X4_prev_median\n",
    "df_test['X2_current_median'] = X2_current_median\n",
    "df_test['X4_current_median'] = X4_current_median\n",
    "\n",
    "\n",
    "df_test['X2_next_max'] = X2_next_max\n",
    "df_test['X4_next_max'] = X4_next_max\n",
    "df_test['X2_prev_max'] = X2_prev_max\n",
    "df_test['X4_prev_max'] = X4_prev_max\n",
    "df_test['X2_current_max'] = X2_current_max\n",
    "df_test['X4_current_max'] = X4_current_max\n",
    "\n",
    "df_test['X2_next_min'] = X2_next_min\n",
    "df_test['X4_next_min'] = X4_next_min\n",
    "df_test['X2_prev_min'] = X2_prev_min\n",
    "df_test['X4_prev_min'] = X4_prev_min\n",
    "df_test['X2_current_min'] = X2_current_min\n",
    "df_test['X4_current_min'] = X4_current_min\n",
    "\n",
    "\n",
    "df_test['to_next_game_1'] = to_next_game_1\n",
    "df_test['to_next_game_2'] = to_next_game_2\n",
    "df_test['to_prev_game_1'] = to_prev_game_1\n",
    "df_test['to_prev_game_2'] = to_prev_game_2\n",
    "\n"
   ]
  },
  {
   "cell_type": "code",
   "execution_count": 10,
   "metadata": {},
   "outputs": [],
   "source": [
    "df_train.to_csv('./data/train_result_mean_median_max_min_current_next_prev.csv',index=False)\n",
    "df_test.to_csv('./data/test_result_mean_median_max_min_current_next_prev.csv',index=False)"
   ]
  },
  {
   "cell_type": "markdown",
   "metadata": {},
   "source": [
    "# next"
   ]
  },
  {
   "cell_type": "code",
   "execution_count": 11,
   "metadata": {},
   "outputs": [],
   "source": [
    "X = df_train[['X2','X4','X2_next_mean','X4_next_mean']]\n",
    "y = df_train['target']\n",
    "X, y = shuffle(X, y, random_state=42)"
   ]
  },
  {
   "cell_type": "code",
   "execution_count": 12,
   "metadata": {},
   "outputs": [],
   "source": [
    "model = LogisticRegression(random_state=42)"
   ]
  },
  {
   "cell_type": "code",
   "execution_count": 13,
   "metadata": {},
   "outputs": [
    {
     "name": "stderr",
     "output_type": "stream",
     "text": [
      "[Parallel(n_jobs=-1)]: Using backend LokyBackend with 12 concurrent workers.\n",
      "[Parallel(n_jobs=-1)]: Done   1 tasks      | elapsed:   15.1s\n",
      "[Parallel(n_jobs=-1)]: Done   2 out of   5 | elapsed:   22.0s remaining:   33.0s\n",
      "[Parallel(n_jobs=-1)]: Done   3 out of   5 | elapsed:   22.3s remaining:   14.9s\n",
      "[Parallel(n_jobs=-1)]: Done   5 out of   5 | elapsed:   23.2s remaining:    0.0s\n",
      "[Parallel(n_jobs=-1)]: Done   5 out of   5 | elapsed:   23.2s finished\n"
     ]
    }
   ],
   "source": [
    "y_pred = cross_val_predict(model, X, y, cv=5, n_jobs=-1, verbose=45, method='predict_proba')"
   ]
  },
  {
   "cell_type": "code",
   "execution_count": 14,
   "metadata": {},
   "outputs": [
    {
     "data": {
      "text/plain": [
       "0.60008"
      ]
     },
     "execution_count": 14,
     "metadata": {},
     "output_type": "execute_result"
    }
   ],
   "source": [
    "round(log_loss(y, y_pred), 5)"
   ]
  },
  {
   "cell_type": "markdown",
   "metadata": {},
   "source": [
    "# current"
   ]
  },
  {
   "cell_type": "code",
   "execution_count": 15,
   "metadata": {},
   "outputs": [],
   "source": [
    "X = df_train[['X2_current_mean','X4_current_mean']]\n",
    "y = df_train['target']\n",
    "X, y = shuffle(X, y, random_state=42)"
   ]
  },
  {
   "cell_type": "code",
   "execution_count": 16,
   "metadata": {},
   "outputs": [],
   "source": [
    "model = LogisticRegression(random_state=42)"
   ]
  },
  {
   "cell_type": "code",
   "execution_count": 17,
   "metadata": {},
   "outputs": [
    {
     "name": "stderr",
     "output_type": "stream",
     "text": [
      "[Parallel(n_jobs=-1)]: Using backend LokyBackend with 12 concurrent workers.\n",
      "[Parallel(n_jobs=-1)]: Done   1 tasks      | elapsed:   12.4s\n",
      "[Parallel(n_jobs=-1)]: Done   2 out of   5 | elapsed:   12.5s remaining:   18.7s\n",
      "[Parallel(n_jobs=-1)]: Done   3 out of   5 | elapsed:   13.3s remaining:    8.9s\n",
      "[Parallel(n_jobs=-1)]: Done   5 out of   5 | elapsed:   13.7s remaining:    0.0s\n",
      "[Parallel(n_jobs=-1)]: Done   5 out of   5 | elapsed:   13.7s finished\n"
     ]
    }
   ],
   "source": [
    "y_pred = cross_val_predict(model, X, y, cv=5, n_jobs=-1, verbose=45, method='predict_proba')"
   ]
  },
  {
   "cell_type": "code",
   "execution_count": 18,
   "metadata": {},
   "outputs": [
    {
     "data": {
      "text/plain": [
       "0.61316"
      ]
     },
     "execution_count": 18,
     "metadata": {},
     "output_type": "execute_result"
    }
   ],
   "source": [
    "round(log_loss(y, y_pred), 5)"
   ]
  },
  {
   "cell_type": "markdown",
   "metadata": {},
   "source": [
    "# next current "
   ]
  },
  {
   "cell_type": "code",
   "execution_count": 19,
   "metadata": {},
   "outputs": [],
   "source": [
    "X = df_train[['X2_current_mean','X4_current_mean','X2_next_mean','X4_next_mean']]\n",
    "y = df_train['target']\n",
    "X, y = shuffle(X, y, random_state=42)"
   ]
  },
  {
   "cell_type": "code",
   "execution_count": 20,
   "metadata": {},
   "outputs": [],
   "source": [
    "model = LogisticRegression(random_state=42)"
   ]
  },
  {
   "cell_type": "code",
   "execution_count": 21,
   "metadata": {},
   "outputs": [
    {
     "name": "stderr",
     "output_type": "stream",
     "text": [
      "[Parallel(n_jobs=-1)]: Using backend LokyBackend with 12 concurrent workers.\n",
      "[Parallel(n_jobs=-1)]: Done   1 tasks      | elapsed:   15.0s\n",
      "[Parallel(n_jobs=-1)]: Done   2 out of   5 | elapsed:   21.8s remaining:   32.6s\n",
      "[Parallel(n_jobs=-1)]: Done   3 out of   5 | elapsed:   23.0s remaining:   15.3s\n",
      "[Parallel(n_jobs=-1)]: Done   5 out of   5 | elapsed:   23.9s remaining:    0.0s\n",
      "[Parallel(n_jobs=-1)]: Done   5 out of   5 | elapsed:   23.9s finished\n"
     ]
    }
   ],
   "source": [
    "y_pred = cross_val_predict(model, X, y, cv=5, n_jobs=-1, verbose=45, method='predict_proba')"
   ]
  },
  {
   "cell_type": "code",
   "execution_count": 22,
   "metadata": {},
   "outputs": [
    {
     "data": {
      "text/plain": [
       "0.57541"
      ]
     },
     "execution_count": 22,
     "metadata": {},
     "output_type": "execute_result"
    }
   ],
   "source": [
    "round(log_loss(y, y_pred), 5)"
   ]
  },
  {
   "cell_type": "markdown",
   "metadata": {},
   "source": [
    "# prev current "
   ]
  },
  {
   "cell_type": "code",
   "execution_count": 23,
   "metadata": {},
   "outputs": [],
   "source": [
    "X = df_train[['X2_current_mean','X4_current_mean','X2_prev_mean','X4_prev_mean']]\n",
    "y = df_train['target']\n",
    "X, y = shuffle(X, y, random_state=42)"
   ]
  },
  {
   "cell_type": "code",
   "execution_count": 24,
   "metadata": {},
   "outputs": [],
   "source": [
    "model = LogisticRegression(random_state=42)"
   ]
  },
  {
   "cell_type": "code",
   "execution_count": 25,
   "metadata": {},
   "outputs": [
    {
     "name": "stderr",
     "output_type": "stream",
     "text": [
      "[Parallel(n_jobs=-1)]: Using backend LokyBackend with 12 concurrent workers.\n",
      "[Parallel(n_jobs=-1)]: Done   1 tasks      | elapsed:   13.7s\n",
      "[Parallel(n_jobs=-1)]: Done   2 out of   5 | elapsed:   14.3s remaining:   21.4s\n",
      "[Parallel(n_jobs=-1)]: Done   3 out of   5 | elapsed:   14.6s remaining:    9.7s\n",
      "[Parallel(n_jobs=-1)]: Done   5 out of   5 | elapsed:   17.9s remaining:    0.0s\n",
      "[Parallel(n_jobs=-1)]: Done   5 out of   5 | elapsed:   17.9s finished\n"
     ]
    }
   ],
   "source": [
    "y_pred = cross_val_predict(model, X, y, cv=5, n_jobs=-1, verbose=45, method='predict_proba')"
   ]
  },
  {
   "cell_type": "code",
   "execution_count": 26,
   "metadata": {},
   "outputs": [
    {
     "data": {
      "text/plain": [
       "0.61439"
      ]
     },
     "execution_count": 26,
     "metadata": {},
     "output_type": "execute_result"
    }
   ],
   "source": [
    "round(log_loss(y, y_pred), 5)"
   ]
  },
  {
   "cell_type": "markdown",
   "metadata": {},
   "source": [
    "# prev current next"
   ]
  },
  {
   "cell_type": "code",
   "execution_count": 27,
   "metadata": {},
   "outputs": [],
   "source": [
    "X = df_train[['X2_current_mean','X4_current_mean','X2_prev_mean','X4_prev_mean','X2_next_mean','X4_next_mean']]\n",
    "y = df_train['target']\n",
    "X, y = shuffle(X, y, random_state=42)"
   ]
  },
  {
   "cell_type": "code",
   "execution_count": 28,
   "metadata": {},
   "outputs": [],
   "source": [
    "model = LogisticRegression(random_state=42)"
   ]
  },
  {
   "cell_type": "code",
   "execution_count": 29,
   "metadata": {},
   "outputs": [
    {
     "name": "stderr",
     "output_type": "stream",
     "text": [
      "[Parallel(n_jobs=-1)]: Using backend LokyBackend with 12 concurrent workers.\n",
      "[Parallel(n_jobs=-1)]: Done   1 tasks      | elapsed:   20.6s\n",
      "[Parallel(n_jobs=-1)]: Done   2 out of   5 | elapsed:   31.9s remaining:   47.8s\n",
      "[Parallel(n_jobs=-1)]: Done   3 out of   5 | elapsed:   32.1s remaining:   21.4s\n",
      "[Parallel(n_jobs=-1)]: Done   5 out of   5 | elapsed:   36.6s remaining:    0.0s\n",
      "[Parallel(n_jobs=-1)]: Done   5 out of   5 | elapsed:   36.6s finished\n"
     ]
    }
   ],
   "source": [
    "y_pred = cross_val_predict(model, X, y, cv=5, n_jobs=-1, verbose=45, method='predict_proba')"
   ]
  },
  {
   "cell_type": "code",
   "execution_count": 30,
   "metadata": {},
   "outputs": [
    {
     "data": {
      "text/plain": [
       "0.57466"
      ]
     },
     "execution_count": 30,
     "metadata": {},
     "output_type": "execute_result"
    }
   ],
   "source": [
    "round(log_loss(y, y_pred), 5)"
   ]
  },
  {
   "cell_type": "markdown",
   "metadata": {},
   "source": [
    "# prev current next X2 x4"
   ]
  },
  {
   "cell_type": "code",
   "execution_count": 31,
   "metadata": {},
   "outputs": [],
   "source": [
    "X = df_train[['X2_current_mean','X4_current_mean','X2_prev_mean','X4_prev_mean','X2_next_mean','X4_next_mean', 'X2','X4']]\n",
    "y = df_train['target']\n",
    "X, y = shuffle(X, y, random_state=42)"
   ]
  },
  {
   "cell_type": "code",
   "execution_count": 32,
   "metadata": {},
   "outputs": [],
   "source": [
    "model = LogisticRegression(random_state=42)"
   ]
  },
  {
   "cell_type": "code",
   "execution_count": 33,
   "metadata": {},
   "outputs": [
    {
     "name": "stderr",
     "output_type": "stream",
     "text": [
      "[Parallel(n_jobs=-1)]: Using backend LokyBackend with 12 concurrent workers.\n",
      "[Parallel(n_jobs=-1)]: Done   1 tasks      | elapsed:   21.9s\n",
      "[Parallel(n_jobs=-1)]: Done   2 out of   5 | elapsed:   22.0s remaining:   33.0s\n",
      "[Parallel(n_jobs=-1)]: Done   3 out of   5 | elapsed:   27.8s remaining:   18.5s\n",
      "[Parallel(n_jobs=-1)]: Done   5 out of   5 | elapsed:   31.5s remaining:    0.0s\n",
      "[Parallel(n_jobs=-1)]: Done   5 out of   5 | elapsed:   31.5s finished\n"
     ]
    }
   ],
   "source": [
    "y_pred = cross_val_predict(model, X, y, cv=5, n_jobs=-1, verbose=45, method='predict_proba')"
   ]
  },
  {
   "cell_type": "code",
   "execution_count": 34,
   "metadata": {},
   "outputs": [
    {
     "data": {
      "text/plain": [
       "0.55814"
      ]
     },
     "execution_count": 34,
     "metadata": {},
     "output_type": "execute_result"
    }
   ],
   "source": [
    "round(log_loss(y, y_pred), 5)"
   ]
  },
  {
   "cell_type": "code",
   "execution_count": null,
   "metadata": {},
   "outputs": [],
   "source": []
  },
  {
   "cell_type": "markdown",
   "metadata": {},
   "source": [
    "# diffs"
   ]
  },
  {
   "cell_type": "code",
   "execution_count": 35,
   "metadata": {},
   "outputs": [],
   "source": [
    "df_train['current_diff'] = df_train['X4_current_mean'] - df_train['X2_current_mean']\n",
    "df_train['next_diff_X4'] = df_train['X4_next_mean'] - df_train['X4_current_mean']\n",
    "df_train['next_diff_X2'] = df_train['X2_next_mean'] - df_train['X2_current_mean']\n",
    "df_train['prev_diff_X4'] = df_train['X4_current_mean'] - df_train['X4_prev_mean']\n",
    "df_train['prev_diff_X2'] = df_train['X2_current_mean'] - df_train['X2_prev_mean']"
   ]
  },
  {
   "cell_type": "code",
   "execution_count": 36,
   "metadata": {},
   "outputs": [],
   "source": [
    "X = df_train[['current_diff','next_diff_X4','next_diff_X2','prev_diff_X4','prev_diff_X2']]\n",
    "y = df_train['target']\n",
    "X, y = shuffle(X, y, random_state=42)"
   ]
  },
  {
   "cell_type": "code",
   "execution_count": 37,
   "metadata": {},
   "outputs": [],
   "source": [
    "model = LogisticRegression(random_state=42)"
   ]
  },
  {
   "cell_type": "code",
   "execution_count": 38,
   "metadata": {},
   "outputs": [
    {
     "name": "stderr",
     "output_type": "stream",
     "text": [
      "[Parallel(n_jobs=-1)]: Using backend LokyBackend with 12 concurrent workers.\n",
      "[Parallel(n_jobs=-1)]: Done   1 tasks      | elapsed:   20.2s\n",
      "[Parallel(n_jobs=-1)]: Done   2 out of   5 | elapsed:   20.7s remaining:   31.1s\n",
      "[Parallel(n_jobs=-1)]: Done   3 out of   5 | elapsed:   20.8s remaining:   13.9s\n",
      "[Parallel(n_jobs=-1)]: Done   5 out of   5 | elapsed:   21.1s remaining:    0.0s\n",
      "[Parallel(n_jobs=-1)]: Done   5 out of   5 | elapsed:   21.1s finished\n"
     ]
    }
   ],
   "source": [
    "y_pred = cross_val_predict(model, X, y, cv=5, n_jobs=-1, verbose=45, method='predict_proba')"
   ]
  },
  {
   "cell_type": "code",
   "execution_count": 39,
   "metadata": {},
   "outputs": [
    {
     "data": {
      "text/plain": [
       "0.57421"
      ]
     },
     "execution_count": 39,
     "metadata": {},
     "output_type": "execute_result"
    }
   ],
   "source": [
    "round(log_loss(y, y_pred), 5)"
   ]
  },
  {
   "cell_type": "markdown",
   "metadata": {},
   "source": [
    "### only next diffs"
   ]
  },
  {
   "cell_type": "code",
   "execution_count": 40,
   "metadata": {},
   "outputs": [],
   "source": [
    "X = df_train[['next_diff_X2','next_diff_X4']]\n",
    "y = df_train['target']\n",
    "X, y = shuffle(X, y, random_state=42)"
   ]
  },
  {
   "cell_type": "code",
   "execution_count": 41,
   "metadata": {},
   "outputs": [],
   "source": [
    "model = LogisticRegression(random_state=42)"
   ]
  },
  {
   "cell_type": "code",
   "execution_count": 42,
   "metadata": {},
   "outputs": [
    {
     "name": "stderr",
     "output_type": "stream",
     "text": [
      "[Parallel(n_jobs=-1)]: Using backend LokyBackend with 12 concurrent workers.\n",
      "[Parallel(n_jobs=-1)]: Done   1 tasks      | elapsed:    8.5s\n",
      "[Parallel(n_jobs=-1)]: Done   2 out of   5 | elapsed:    8.6s remaining:   12.9s\n",
      "[Parallel(n_jobs=-1)]: Done   3 out of   5 | elapsed:    8.8s remaining:    5.9s\n",
      "[Parallel(n_jobs=-1)]: Done   5 out of   5 | elapsed:    9.1s remaining:    0.0s\n",
      "[Parallel(n_jobs=-1)]: Done   5 out of   5 | elapsed:    9.1s finished\n"
     ]
    }
   ],
   "source": [
    "y_pred = cross_val_predict(model, X, y, cv=5, n_jobs=-1, verbose=45, method='predict_proba')"
   ]
  },
  {
   "cell_type": "code",
   "execution_count": 43,
   "metadata": {},
   "outputs": [
    {
     "data": {
      "text/plain": [
       "0.62687"
      ]
     },
     "execution_count": 43,
     "metadata": {},
     "output_type": "execute_result"
    }
   ],
   "source": [
    "round(log_loss(y, y_pred), 5)"
   ]
  },
  {
   "cell_type": "markdown",
   "metadata": {},
   "source": [
    "# all"
   ]
  },
  {
   "cell_type": "code",
   "execution_count": null,
   "metadata": {},
   "outputs": [],
   "source": []
  },
  {
   "cell_type": "code",
   "execution_count": 44,
   "metadata": {},
   "outputs": [],
   "source": [
    "features = ['X2_next_mean', 'X4_next_mean', 'X2_prev_mean',\n",
    "       'X4_prev_mean', 'X2_current_mean', 'X4_current_mean', 'X2_next_median',\n",
    "       'X4_next_median', 'X2_prev_median', 'X4_prev_median',\n",
    "       'X2_current_median', 'X4_current_median', 'X2_next_max', 'X4_next_max',\n",
    "       'X2_prev_max', 'X4_prev_max', 'X2_current_max', 'X4_current_max',\n",
    "       'X2_next_min', 'X4_next_min', 'X2_prev_min', 'X4_prev_min',\n",
    "       'X2_current_min', 'X4_current_min', 'to_next_game_1', 'to_next_game_2',\n",
    "       'to_prev_game_1', 'to_prev_game_2', 'X2', 'X4']"
   ]
  },
  {
   "cell_type": "code",
   "execution_count": 45,
   "metadata": {},
   "outputs": [],
   "source": [
    "X = df_train[features]\n",
    "y = df_train['target']\n",
    "X, y = shuffle(X, y, random_state=42)"
   ]
  },
  {
   "cell_type": "code",
   "execution_count": 46,
   "metadata": {},
   "outputs": [],
   "source": [
    "model = LogisticRegression(random_state=42)"
   ]
  },
  {
   "cell_type": "code",
   "execution_count": 47,
   "metadata": {},
   "outputs": [
    {
     "name": "stderr",
     "output_type": "stream",
     "text": [
      "[Parallel(n_jobs=-1)]: Using backend LokyBackend with 12 concurrent workers.\n",
      "[Parallel(n_jobs=-1)]: Done   1 tasks      | elapsed:  1.9min\n",
      "[Parallel(n_jobs=-1)]: Done   2 out of   5 | elapsed:  1.9min remaining:  2.8min\n",
      "[Parallel(n_jobs=-1)]: Done   3 out of   5 | elapsed:  1.9min remaining:  1.2min\n",
      "[Parallel(n_jobs=-1)]: Done   5 out of   5 | elapsed:  1.9min remaining:    0.0s\n",
      "[Parallel(n_jobs=-1)]: Done   5 out of   5 | elapsed:  1.9min finished\n"
     ]
    }
   ],
   "source": [
    "y_pred = cross_val_predict(model, X, y, cv=5, n_jobs=-1, verbose=45, method='predict_proba')"
   ]
  },
  {
   "cell_type": "code",
   "execution_count": 48,
   "metadata": {},
   "outputs": [
    {
     "data": {
      "text/plain": [
       "0.55667"
      ]
     },
     "execution_count": 48,
     "metadata": {},
     "output_type": "execute_result"
    }
   ],
   "source": [
    "round(log_loss(y, y_pred), 5)"
   ]
  },
  {
   "cell_type": "markdown",
   "metadata": {},
   "source": [
    "# add 1/dist"
   ]
  },
  {
   "cell_type": "code",
   "execution_count": 49,
   "metadata": {},
   "outputs": [],
   "source": [
    "df_train['1/to_next_game_1'] = df_train['to_next_game_1'].apply(lambda x: x if x==0 else 1/x)\n",
    "df_train['1/to_next_game_2'] = df_train['to_next_game_2'].apply(lambda x: x if x==0 else 1/x)\n",
    "df_train['1/to_prev_game_1'] = df_train['to_prev_game_1'].apply(lambda x: x if x==0 else 1/x)\n",
    "df_train['1/to_prev_game_2'] = df_train['to_prev_game_2'].apply(lambda x: x if x==0 else 1/x)"
   ]
  },
  {
   "cell_type": "code",
   "execution_count": 50,
   "metadata": {},
   "outputs": [],
   "source": [
    "features = ['X2_next_mean', 'X4_next_mean', 'X2_prev_mean',\n",
    "       'X4_prev_mean', 'X2_current_mean', 'X4_current_mean', 'X2_next_median',\n",
    "       'X4_next_median', 'X2_prev_median', 'X4_prev_median',\n",
    "       'X2_current_median', 'X4_current_median', 'X2_next_max', 'X4_next_max',\n",
    "       'X2_prev_max', 'X4_prev_max', 'X2_current_max', 'X4_current_max',\n",
    "       'X2_next_min', 'X4_next_min', 'X2_prev_min', 'X4_prev_min',\n",
    "       'X2_current_min', 'X4_current_min', 'to_next_game_1', 'to_next_game_2',\n",
    "       'to_prev_game_1', 'to_prev_game_2', 'X2', 'X4',\n",
    "           '1/to_next_game_1',\n",
    "           '1/to_next_game_2',\n",
    "           '1/to_prev_game_1',\n",
    "           '1/to_prev_game_2']"
   ]
  },
  {
   "cell_type": "code",
   "execution_count": 51,
   "metadata": {},
   "outputs": [],
   "source": [
    "X = df_train[features]\n",
    "y = df_train['target']\n",
    "X, y = shuffle(X, y, random_state=42)"
   ]
  },
  {
   "cell_type": "code",
   "execution_count": 52,
   "metadata": {},
   "outputs": [],
   "source": [
    "model = LogisticRegression(random_state=42)"
   ]
  },
  {
   "cell_type": "code",
   "execution_count": 53,
   "metadata": {},
   "outputs": [
    {
     "name": "stderr",
     "output_type": "stream",
     "text": [
      "[Parallel(n_jobs=-1)]: Using backend LokyBackend with 12 concurrent workers.\n",
      "[Parallel(n_jobs=-1)]: Done   1 tasks      | elapsed:  1.0min\n",
      "[Parallel(n_jobs=-1)]: Done   3 out of   3 | elapsed:  1.0min remaining:    0.0s\n",
      "[Parallel(n_jobs=-1)]: Done   3 out of   3 | elapsed:  1.0min finished\n"
     ]
    }
   ],
   "source": [
    "y_pred = cross_val_predict(model, X, y, cv=3, n_jobs=-1, verbose=45, method='predict_proba')"
   ]
  },
  {
   "cell_type": "code",
   "execution_count": 54,
   "metadata": {},
   "outputs": [
    {
     "data": {
      "text/plain": [
       "0.55605"
      ]
     },
     "execution_count": 54,
     "metadata": {},
     "output_type": "execute_result"
    }
   ],
   "source": [
    "round(log_loss(y, y_pred), 5)"
   ]
  },
  {
   "cell_type": "code",
   "execution_count": null,
   "metadata": {},
   "outputs": [],
   "source": []
  },
  {
   "cell_type": "code",
   "execution_count": 55,
   "metadata": {},
   "outputs": [
    {
     "data": {
      "text/plain": [
       "0.6641"
      ]
     },
     "execution_count": 55,
     "metadata": {},
     "output_type": "execute_result"
    }
   ],
   "source": [
    "y_pred = [0.38]*len(y)\n",
    "round(log_loss(y, y_pred), 5)"
   ]
  },
  {
   "cell_type": "code",
   "execution_count": 56,
   "metadata": {},
   "outputs": [
    {
     "data": {
      "text/plain": [
       "0    0.619917\n",
       "1    0.380083\n",
       "Name: target, dtype: float64"
      ]
     },
     "execution_count": 56,
     "metadata": {},
     "output_type": "execute_result"
    }
   ],
   "source": [
    "y.value_counts(normalize=True)"
   ]
  },
  {
   "cell_type": "code",
   "execution_count": null,
   "metadata": {},
   "outputs": [],
   "source": []
  },
  {
   "cell_type": "code",
   "execution_count": null,
   "metadata": {},
   "outputs": [],
   "source": []
  }
 ],
 "metadata": {
  "kernelspec": {
   "display_name": "Python 3",
   "language": "python",
   "name": "python3"
  },
  "language_info": {
   "codemirror_mode": {
    "name": "ipython",
    "version": 3
   },
   "file_extension": ".py",
   "mimetype": "text/x-python",
   "name": "python",
   "nbconvert_exporter": "python",
   "pygments_lexer": "ipython3",
   "version": "3.6.5"
  }
 },
 "nbformat": 4,
 "nbformat_minor": 2
}
