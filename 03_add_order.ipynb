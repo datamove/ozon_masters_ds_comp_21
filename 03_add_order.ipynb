{
 "cells": [
  {
   "cell_type": "code",
   "execution_count": 1,
   "metadata": {},
   "outputs": [],
   "source": [
    "import pandas as pd\n",
    "import numpy as np\n",
    "from sklearn.model_selection import train_test_split\n",
    "from sklearn.linear_model import LogisticRegression\n",
    "from sklearn.metrics import log_loss\n",
    "from sklearn.utils import shuffle\n",
    "from sklearn.preprocessing import MultiLabelBinarizer\n",
    "import torch\n",
    "import torch.nn as nn\n",
    "import torch.nn.functional as F\n",
    "from torch.utils.data import DataLoader, RandomSampler, Dataset\n",
    "from tqdm import tqdm\n",
    "import random\n",
    "import os"
   ]
  },
  {
   "cell_type": "code",
   "execution_count": 3,
   "metadata": {},
   "outputs": [],
   "source": [
    "device = 'cuda'"
   ]
  },
  {
   "cell_type": "code",
   "execution_count": 4,
   "metadata": {},
   "outputs": [],
   "source": [
    "def seed_everything(seed_value):\n",
    "    random.seed(seed_value)\n",
    "    np.random.seed(seed_value)\n",
    "    torch.manual_seed(seed_value)\n",
    "    os.environ['PYTHONHASHSEED'] = str(seed_value)\n",
    "\n",
    "    if torch.cuda.is_available():\n",
    "        torch.cuda.manual_seed(seed_value)\n",
    "        torch.cuda.manual_seed_all(seed_value)\n",
    "        torch.backends.cudnn.deterministic = True\n",
    "        torch.backends.cudnn.benchmark = False"
   ]
  },
  {
   "cell_type": "code",
   "execution_count": 5,
   "metadata": {},
   "outputs": [],
   "source": [
    "seed_everything(42)"
   ]
  },
  {
   "cell_type": "markdown",
   "metadata": {},
   "source": [
    "# Dataset"
   ]
  },
  {
   "cell_type": "code",
   "execution_count": 6,
   "metadata": {},
   "outputs": [],
   "source": [
    "df_train = pd.read_csv('./data/train_result_mean_median_max_min_current_next_prev.csv')\n",
    "df_test = pd.read_csv('./data/test_result_mean_median_max_min_current_next_prev.csv')"
   ]
  },
  {
   "cell_type": "code",
   "execution_count": 7,
   "metadata": {},
   "outputs": [
    {
     "data": {
      "text/html": [
       "<div>\n",
       "<style scoped>\n",
       "    .dataframe tbody tr th:only-of-type {\n",
       "        vertical-align: middle;\n",
       "    }\n",
       "\n",
       "    .dataframe tbody tr th {\n",
       "        vertical-align: top;\n",
       "    }\n",
       "\n",
       "    .dataframe thead th {\n",
       "        text-align: right;\n",
       "    }\n",
       "</style>\n",
       "<table border=\"1\" class=\"dataframe\">\n",
       "  <thead>\n",
       "    <tr style=\"text-align: right;\">\n",
       "      <th></th>\n",
       "      <th>id</th>\n",
       "      <th>X0</th>\n",
       "      <th>X1</th>\n",
       "      <th>X2</th>\n",
       "      <th>X3</th>\n",
       "      <th>X4</th>\n",
       "      <th>X5</th>\n",
       "      <th>X6</th>\n",
       "      <th>X7</th>\n",
       "      <th>X8</th>\n",
       "      <th>...</th>\n",
       "      <th>X2_next_min</th>\n",
       "      <th>X4_next_min</th>\n",
       "      <th>X2_prev_min</th>\n",
       "      <th>X4_prev_min</th>\n",
       "      <th>X2_current_min</th>\n",
       "      <th>X4_current_min</th>\n",
       "      <th>to_next_game_1</th>\n",
       "      <th>to_next_game_2</th>\n",
       "      <th>to_prev_game_1</th>\n",
       "      <th>to_prev_game_2</th>\n",
       "    </tr>\n",
       "  </thead>\n",
       "  <tbody>\n",
       "    <tr>\n",
       "      <td>0</td>\n",
       "      <td>0</td>\n",
       "      <td>2</td>\n",
       "      <td>908749</td>\n",
       "      <td>954</td>\n",
       "      <td>480270</td>\n",
       "      <td>935</td>\n",
       "      <td>71</td>\n",
       "      <td>79</td>\n",
       "      <td>53</td>\n",
       "      <td>89</td>\n",
       "      <td>...</td>\n",
       "      <td>780</td>\n",
       "      <td>905</td>\n",
       "      <td>867</td>\n",
       "      <td>931</td>\n",
       "      <td>954</td>\n",
       "      <td>935</td>\n",
       "      <td>40</td>\n",
       "      <td>1</td>\n",
       "      <td>2</td>\n",
       "      <td>7</td>\n",
       "    </tr>\n",
       "    <tr>\n",
       "      <td>1</td>\n",
       "      <td>1</td>\n",
       "      <td>1</td>\n",
       "      <td>438444</td>\n",
       "      <td>2162</td>\n",
       "      <td>486685</td>\n",
       "      <td>2154</td>\n",
       "      <td>32</td>\n",
       "      <td>39</td>\n",
       "      <td>48</td>\n",
       "      <td>49</td>\n",
       "      <td>...</td>\n",
       "      <td>2110</td>\n",
       "      <td>2096</td>\n",
       "      <td>2224</td>\n",
       "      <td>2126</td>\n",
       "      <td>2026</td>\n",
       "      <td>2034</td>\n",
       "      <td>17</td>\n",
       "      <td>13</td>\n",
       "      <td>8</td>\n",
       "      <td>1</td>\n",
       "    </tr>\n",
       "    <tr>\n",
       "      <td>2</td>\n",
       "      <td>2</td>\n",
       "      <td>1</td>\n",
       "      <td>596915</td>\n",
       "      <td>2066</td>\n",
       "      <td>711059</td>\n",
       "      <td>2081</td>\n",
       "      <td>43</td>\n",
       "      <td>21</td>\n",
       "      <td>58</td>\n",
       "      <td>94</td>\n",
       "      <td>...</td>\n",
       "      <td>1822</td>\n",
       "      <td>2153</td>\n",
       "      <td>2092</td>\n",
       "      <td>2047</td>\n",
       "      <td>1883</td>\n",
       "      <td>2053</td>\n",
       "      <td>1</td>\n",
       "      <td>1</td>\n",
       "      <td>2</td>\n",
       "      <td>4</td>\n",
       "    </tr>\n",
       "    <tr>\n",
       "      <td>3</td>\n",
       "      <td>3</td>\n",
       "      <td>1</td>\n",
       "      <td>625198</td>\n",
       "      <td>1508</td>\n",
       "      <td>66810</td>\n",
       "      <td>1474</td>\n",
       "      <td>7</td>\n",
       "      <td>1</td>\n",
       "      <td>34</td>\n",
       "      <td>73</td>\n",
       "      <td>...</td>\n",
       "      <td>1502</td>\n",
       "      <td>1416</td>\n",
       "      <td>1506</td>\n",
       "      <td>1564</td>\n",
       "      <td>1502</td>\n",
       "      <td>1474</td>\n",
       "      <td>1</td>\n",
       "      <td>1</td>\n",
       "      <td>1</td>\n",
       "      <td>26</td>\n",
       "    </tr>\n",
       "    <tr>\n",
       "      <td>4</td>\n",
       "      <td>4</td>\n",
       "      <td>2</td>\n",
       "      <td>228654</td>\n",
       "      <td>1202</td>\n",
       "      <td>542816</td>\n",
       "      <td>1196</td>\n",
       "      <td>53</td>\n",
       "      <td>35</td>\n",
       "      <td>16</td>\n",
       "      <td>80</td>\n",
       "      <td>...</td>\n",
       "      <td>1263</td>\n",
       "      <td>1264</td>\n",
       "      <td>1239</td>\n",
       "      <td>1162</td>\n",
       "      <td>1202</td>\n",
       "      <td>1191</td>\n",
       "      <td>8</td>\n",
       "      <td>10</td>\n",
       "      <td>19</td>\n",
       "      <td>1</td>\n",
       "    </tr>\n",
       "  </tbody>\n",
       "</table>\n",
       "<p>5 rows × 52 columns</p>\n",
       "</div>"
      ],
      "text/plain": [
       "   id  X0      X1    X2      X3    X4  X5  X6  X7  X8  ...  X2_next_min  \\\n",
       "0   0   2  908749   954  480270   935  71  79  53  89  ...          780   \n",
       "1   1   1  438444  2162  486685  2154  32  39  48  49  ...         2110   \n",
       "2   2   1  596915  2066  711059  2081  43  21  58  94  ...         1822   \n",
       "3   3   1  625198  1508   66810  1474   7   1  34  73  ...         1502   \n",
       "4   4   2  228654  1202  542816  1196  53  35  16  80  ...         1263   \n",
       "\n",
       "   X4_next_min  X2_prev_min  X4_prev_min  X2_current_min  X4_current_min  \\\n",
       "0          905          867          931             954             935   \n",
       "1         2096         2224         2126            2026            2034   \n",
       "2         2153         2092         2047            1883            2053   \n",
       "3         1416         1506         1564            1502            1474   \n",
       "4         1264         1239         1162            1202            1191   \n",
       "\n",
       "   to_next_game_1  to_next_game_2  to_prev_game_1  to_prev_game_2  \n",
       "0              40               1               2               7  \n",
       "1              17              13               8               1  \n",
       "2               1               1               2               4  \n",
       "3               1               1               1              26  \n",
       "4               8              10              19               1  \n",
       "\n",
       "[5 rows x 52 columns]"
      ]
     },
     "execution_count": 7,
     "metadata": {},
     "output_type": "execute_result"
    }
   ],
   "source": [
    "df_train.head()"
   ]
  },
  {
   "cell_type": "code",
   "execution_count": 8,
   "metadata": {
    "scrolled": true
   },
   "outputs": [
    {
     "name": "stderr",
     "output_type": "stream",
     "text": [
      "/usr/local/lib/python3.6/dist-packages/ipykernel_launcher.py:1: FutureWarning: Method .as_matrix will be removed in a future version. Use .values instead.\n",
      "  \"\"\"Entry point for launching an IPython kernel.\n",
      "/usr/local/lib/python3.6/dist-packages/ipykernel_launcher.py:2: FutureWarning: Method .as_matrix will be removed in a future version. Use .values instead.\n",
      "  \n"
     ]
    }
   ],
   "source": [
    "fig_train = df_train.iloc[:, 6:22].as_matrix()\n",
    "fig_test = df_test.iloc[:, 6:22].as_matrix()\n"
   ]
  },
  {
   "cell_type": "code",
   "execution_count": 9,
   "metadata": {},
   "outputs": [],
   "source": [
    "df_train['1/to_next_game_1'] = df_train['to_next_game_1'].apply(lambda x: x if x==0 else 1/x)\n",
    "df_train['1/to_next_game_2'] = df_train['to_next_game_2'].apply(lambda x: x if x==0 else 1/x)\n",
    "df_train['1/to_prev_game_1'] = df_train['to_prev_game_1'].apply(lambda x: x if x==0 else 1/x)\n",
    "df_train['1/to_prev_game_2'] = df_train['to_prev_game_2'].apply(lambda x: x if x==0 else 1/x)\n",
    "\n",
    "df_test['1/to_next_game_1'] = df_test['to_next_game_1'].apply(lambda x: x if x==0 else 1/x)\n",
    "df_test['1/to_next_game_2'] = df_test['to_next_game_2'].apply(lambda x: x if x==0 else 1/x)\n",
    "df_test['1/to_prev_game_1'] = df_test['to_prev_game_1'].apply(lambda x: x if x==0 else 1/x)\n",
    "df_test['1/to_prev_game_2'] = df_test['to_prev_game_2'].apply(lambda x: x if x==0 else 1/x)"
   ]
  },
  {
   "cell_type": "code",
   "execution_count": 10,
   "metadata": {},
   "outputs": [
    {
     "data": {
      "text/html": [
       "<div>\n",
       "<style scoped>\n",
       "    .dataframe tbody tr th:only-of-type {\n",
       "        vertical-align: middle;\n",
       "    }\n",
       "\n",
       "    .dataframe tbody tr th {\n",
       "        vertical-align: top;\n",
       "    }\n",
       "\n",
       "    .dataframe thead th {\n",
       "        text-align: right;\n",
       "    }\n",
       "</style>\n",
       "<table border=\"1\" class=\"dataframe\">\n",
       "  <thead>\n",
       "    <tr style=\"text-align: right;\">\n",
       "      <th></th>\n",
       "      <th>id</th>\n",
       "      <th>X0</th>\n",
       "      <th>X1</th>\n",
       "      <th>X2</th>\n",
       "      <th>X3</th>\n",
       "      <th>X4</th>\n",
       "      <th>X5</th>\n",
       "      <th>X6</th>\n",
       "      <th>X7</th>\n",
       "      <th>X8</th>\n",
       "      <th>...</th>\n",
       "      <th>X2_current_min</th>\n",
       "      <th>X4_current_min</th>\n",
       "      <th>to_next_game_1</th>\n",
       "      <th>to_next_game_2</th>\n",
       "      <th>to_prev_game_1</th>\n",
       "      <th>to_prev_game_2</th>\n",
       "      <th>1/to_next_game_1</th>\n",
       "      <th>1/to_next_game_2</th>\n",
       "      <th>1/to_prev_game_1</th>\n",
       "      <th>1/to_prev_game_2</th>\n",
       "    </tr>\n",
       "  </thead>\n",
       "  <tbody>\n",
       "    <tr>\n",
       "      <td>0</td>\n",
       "      <td>0</td>\n",
       "      <td>2</td>\n",
       "      <td>908749</td>\n",
       "      <td>954</td>\n",
       "      <td>480270</td>\n",
       "      <td>935</td>\n",
       "      <td>71</td>\n",
       "      <td>79</td>\n",
       "      <td>53</td>\n",
       "      <td>89</td>\n",
       "      <td>...</td>\n",
       "      <td>954</td>\n",
       "      <td>935</td>\n",
       "      <td>40</td>\n",
       "      <td>1</td>\n",
       "      <td>2</td>\n",
       "      <td>7</td>\n",
       "      <td>0.025000</td>\n",
       "      <td>1.000000</td>\n",
       "      <td>0.500000</td>\n",
       "      <td>0.142857</td>\n",
       "    </tr>\n",
       "    <tr>\n",
       "      <td>1</td>\n",
       "      <td>1</td>\n",
       "      <td>1</td>\n",
       "      <td>438444</td>\n",
       "      <td>2162</td>\n",
       "      <td>486685</td>\n",
       "      <td>2154</td>\n",
       "      <td>32</td>\n",
       "      <td>39</td>\n",
       "      <td>48</td>\n",
       "      <td>49</td>\n",
       "      <td>...</td>\n",
       "      <td>2026</td>\n",
       "      <td>2034</td>\n",
       "      <td>17</td>\n",
       "      <td>13</td>\n",
       "      <td>8</td>\n",
       "      <td>1</td>\n",
       "      <td>0.058824</td>\n",
       "      <td>0.076923</td>\n",
       "      <td>0.125000</td>\n",
       "      <td>1.000000</td>\n",
       "    </tr>\n",
       "    <tr>\n",
       "      <td>2</td>\n",
       "      <td>2</td>\n",
       "      <td>1</td>\n",
       "      <td>596915</td>\n",
       "      <td>2066</td>\n",
       "      <td>711059</td>\n",
       "      <td>2081</td>\n",
       "      <td>43</td>\n",
       "      <td>21</td>\n",
       "      <td>58</td>\n",
       "      <td>94</td>\n",
       "      <td>...</td>\n",
       "      <td>1883</td>\n",
       "      <td>2053</td>\n",
       "      <td>1</td>\n",
       "      <td>1</td>\n",
       "      <td>2</td>\n",
       "      <td>4</td>\n",
       "      <td>1.000000</td>\n",
       "      <td>1.000000</td>\n",
       "      <td>0.500000</td>\n",
       "      <td>0.250000</td>\n",
       "    </tr>\n",
       "    <tr>\n",
       "      <td>3</td>\n",
       "      <td>3</td>\n",
       "      <td>1</td>\n",
       "      <td>625198</td>\n",
       "      <td>1508</td>\n",
       "      <td>66810</td>\n",
       "      <td>1474</td>\n",
       "      <td>7</td>\n",
       "      <td>1</td>\n",
       "      <td>34</td>\n",
       "      <td>73</td>\n",
       "      <td>...</td>\n",
       "      <td>1502</td>\n",
       "      <td>1474</td>\n",
       "      <td>1</td>\n",
       "      <td>1</td>\n",
       "      <td>1</td>\n",
       "      <td>26</td>\n",
       "      <td>1.000000</td>\n",
       "      <td>1.000000</td>\n",
       "      <td>1.000000</td>\n",
       "      <td>0.038462</td>\n",
       "    </tr>\n",
       "    <tr>\n",
       "      <td>4</td>\n",
       "      <td>4</td>\n",
       "      <td>2</td>\n",
       "      <td>228654</td>\n",
       "      <td>1202</td>\n",
       "      <td>542816</td>\n",
       "      <td>1196</td>\n",
       "      <td>53</td>\n",
       "      <td>35</td>\n",
       "      <td>16</td>\n",
       "      <td>80</td>\n",
       "      <td>...</td>\n",
       "      <td>1202</td>\n",
       "      <td>1191</td>\n",
       "      <td>8</td>\n",
       "      <td>10</td>\n",
       "      <td>19</td>\n",
       "      <td>1</td>\n",
       "      <td>0.125000</td>\n",
       "      <td>0.100000</td>\n",
       "      <td>0.052632</td>\n",
       "      <td>1.000000</td>\n",
       "    </tr>\n",
       "    <tr>\n",
       "      <td>...</td>\n",
       "      <td>...</td>\n",
       "      <td>...</td>\n",
       "      <td>...</td>\n",
       "      <td>...</td>\n",
       "      <td>...</td>\n",
       "      <td>...</td>\n",
       "      <td>...</td>\n",
       "      <td>...</td>\n",
       "      <td>...</td>\n",
       "      <td>...</td>\n",
       "      <td>...</td>\n",
       "      <td>...</td>\n",
       "      <td>...</td>\n",
       "      <td>...</td>\n",
       "      <td>...</td>\n",
       "      <td>...</td>\n",
       "      <td>...</td>\n",
       "      <td>...</td>\n",
       "      <td>...</td>\n",
       "      <td>...</td>\n",
       "      <td>...</td>\n",
       "    </tr>\n",
       "    <tr>\n",
       "      <td>3633000</td>\n",
       "      <td>3633000</td>\n",
       "      <td>2</td>\n",
       "      <td>644871</td>\n",
       "      <td>1211</td>\n",
       "      <td>421763</td>\n",
       "      <td>1194</td>\n",
       "      <td>24</td>\n",
       "      <td>65</td>\n",
       "      <td>54</td>\n",
       "      <td>86</td>\n",
       "      <td>...</td>\n",
       "      <td>1211</td>\n",
       "      <td>1049</td>\n",
       "      <td>6</td>\n",
       "      <td>0</td>\n",
       "      <td>16</td>\n",
       "      <td>166</td>\n",
       "      <td>0.166667</td>\n",
       "      <td>0.000000</td>\n",
       "      <td>0.062500</td>\n",
       "      <td>0.006024</td>\n",
       "    </tr>\n",
       "    <tr>\n",
       "      <td>3633001</td>\n",
       "      <td>3633001</td>\n",
       "      <td>1</td>\n",
       "      <td>689210</td>\n",
       "      <td>699</td>\n",
       "      <td>569184</td>\n",
       "      <td>706</td>\n",
       "      <td>26</td>\n",
       "      <td>50</td>\n",
       "      <td>81</td>\n",
       "      <td>33</td>\n",
       "      <td>...</td>\n",
       "      <td>699</td>\n",
       "      <td>706</td>\n",
       "      <td>0</td>\n",
       "      <td>18</td>\n",
       "      <td>4</td>\n",
       "      <td>10</td>\n",
       "      <td>0.000000</td>\n",
       "      <td>0.055556</td>\n",
       "      <td>0.250000</td>\n",
       "      <td>0.100000</td>\n",
       "    </tr>\n",
       "    <tr>\n",
       "      <td>3633002</td>\n",
       "      <td>3633002</td>\n",
       "      <td>2</td>\n",
       "      <td>227914</td>\n",
       "      <td>1063</td>\n",
       "      <td>174332</td>\n",
       "      <td>1062</td>\n",
       "      <td>48</td>\n",
       "      <td>64</td>\n",
       "      <td>55</td>\n",
       "      <td>3</td>\n",
       "      <td>...</td>\n",
       "      <td>1063</td>\n",
       "      <td>1036</td>\n",
       "      <td>5</td>\n",
       "      <td>1</td>\n",
       "      <td>257</td>\n",
       "      <td>0</td>\n",
       "      <td>0.200000</td>\n",
       "      <td>1.000000</td>\n",
       "      <td>0.003891</td>\n",
       "      <td>0.000000</td>\n",
       "    </tr>\n",
       "    <tr>\n",
       "      <td>3633003</td>\n",
       "      <td>3633003</td>\n",
       "      <td>2</td>\n",
       "      <td>1066558</td>\n",
       "      <td>1752</td>\n",
       "      <td>358523</td>\n",
       "      <td>1780</td>\n",
       "      <td>10</td>\n",
       "      <td>31</td>\n",
       "      <td>47</td>\n",
       "      <td>68</td>\n",
       "      <td>...</td>\n",
       "      <td>1752</td>\n",
       "      <td>1719</td>\n",
       "      <td>0</td>\n",
       "      <td>1</td>\n",
       "      <td>4</td>\n",
       "      <td>1</td>\n",
       "      <td>0.000000</td>\n",
       "      <td>1.000000</td>\n",
       "      <td>0.250000</td>\n",
       "      <td>1.000000</td>\n",
       "    </tr>\n",
       "    <tr>\n",
       "      <td>3633004</td>\n",
       "      <td>3633004</td>\n",
       "      <td>2</td>\n",
       "      <td>525076</td>\n",
       "      <td>1981</td>\n",
       "      <td>693443</td>\n",
       "      <td>1974</td>\n",
       "      <td>80</td>\n",
       "      <td>43</td>\n",
       "      <td>7</td>\n",
       "      <td>37</td>\n",
       "      <td>...</td>\n",
       "      <td>1908</td>\n",
       "      <td>1970</td>\n",
       "      <td>1</td>\n",
       "      <td>1</td>\n",
       "      <td>7</td>\n",
       "      <td>4</td>\n",
       "      <td>1.000000</td>\n",
       "      <td>1.000000</td>\n",
       "      <td>0.142857</td>\n",
       "      <td>0.250000</td>\n",
       "    </tr>\n",
       "  </tbody>\n",
       "</table>\n",
       "<p>3633005 rows × 56 columns</p>\n",
       "</div>"
      ],
      "text/plain": [
       "              id  X0       X1    X2      X3    X4  X5  X6  X7  X8  ...  \\\n",
       "0              0   2   908749   954  480270   935  71  79  53  89  ...   \n",
       "1              1   1   438444  2162  486685  2154  32  39  48  49  ...   \n",
       "2              2   1   596915  2066  711059  2081  43  21  58  94  ...   \n",
       "3              3   1   625198  1508   66810  1474   7   1  34  73  ...   \n",
       "4              4   2   228654  1202  542816  1196  53  35  16  80  ...   \n",
       "...          ...  ..      ...   ...     ...   ...  ..  ..  ..  ..  ...   \n",
       "3633000  3633000   2   644871  1211  421763  1194  24  65  54  86  ...   \n",
       "3633001  3633001   1   689210   699  569184   706  26  50  81  33  ...   \n",
       "3633002  3633002   2   227914  1063  174332  1062  48  64  55   3  ...   \n",
       "3633003  3633003   2  1066558  1752  358523  1780  10  31  47  68  ...   \n",
       "3633004  3633004   2   525076  1981  693443  1974  80  43   7  37  ...   \n",
       "\n",
       "         X2_current_min  X4_current_min  to_next_game_1  to_next_game_2  \\\n",
       "0                   954             935              40               1   \n",
       "1                  2026            2034              17              13   \n",
       "2                  1883            2053               1               1   \n",
       "3                  1502            1474               1               1   \n",
       "4                  1202            1191               8              10   \n",
       "...                 ...             ...             ...             ...   \n",
       "3633000            1211            1049               6               0   \n",
       "3633001             699             706               0              18   \n",
       "3633002            1063            1036               5               1   \n",
       "3633003            1752            1719               0               1   \n",
       "3633004            1908            1970               1               1   \n",
       "\n",
       "         to_prev_game_1  to_prev_game_2  1/to_next_game_1  1/to_next_game_2  \\\n",
       "0                     2               7          0.025000          1.000000   \n",
       "1                     8               1          0.058824          0.076923   \n",
       "2                     2               4          1.000000          1.000000   \n",
       "3                     1              26          1.000000          1.000000   \n",
       "4                    19               1          0.125000          0.100000   \n",
       "...                 ...             ...               ...               ...   \n",
       "3633000              16             166          0.166667          0.000000   \n",
       "3633001               4              10          0.000000          0.055556   \n",
       "3633002             257               0          0.200000          1.000000   \n",
       "3633003               4               1          0.000000          1.000000   \n",
       "3633004               7               4          1.000000          1.000000   \n",
       "\n",
       "         1/to_prev_game_1  1/to_prev_game_2  \n",
       "0                0.500000          0.142857  \n",
       "1                0.125000          1.000000  \n",
       "2                0.500000          0.250000  \n",
       "3                1.000000          0.038462  \n",
       "4                0.052632          1.000000  \n",
       "...                   ...               ...  \n",
       "3633000          0.062500          0.006024  \n",
       "3633001          0.250000          0.100000  \n",
       "3633002          0.003891          0.000000  \n",
       "3633003          0.250000          1.000000  \n",
       "3633004          0.142857          0.250000  \n",
       "\n",
       "[3633005 rows x 56 columns]"
      ]
     },
     "execution_count": 10,
     "metadata": {},
     "output_type": "execute_result"
    }
   ],
   "source": [
    "df_train"
   ]
  },
  {
   "cell_type": "code",
   "execution_count": 11,
   "metadata": {},
   "outputs": [],
   "source": [
    "rating_1_train = df_train[['X2',\n",
    "                           'X2_next_mean',  'X2_prev_mean','X2_current_mean',\n",
    "                           'X2_next_median', 'X2_prev_median','X2_current_median',\n",
    "                           'X2_next_max', 'X2_prev_max', 'X2_current_max', \n",
    "                           'X2_next_min', 'X2_prev_min', 'X2_current_min',\n",
    "                           'to_next_game_1', 'to_prev_game_1', \n",
    "                           '1/to_next_game_1','1/to_prev_game_1']].values\n",
    "rating_2_train = df_train[['X4',\n",
    "                           'X4_next_mean',  'X4_prev_mean','X4_current_mean',\n",
    "                           'X4_next_median', 'X4_prev_median','X4_current_median',\n",
    "                           'X4_next_max', 'X4_prev_max', 'X4_current_max', \n",
    "                           'X4_next_min', 'X4_prev_min', 'X4_current_min',\n",
    "                           'to_next_game_2', 'to_prev_game_2', \n",
    "                           '1/to_next_game_2','1/to_prev_game_2']].values\n",
    "\n",
    "rating_1_test =  df_test[['X2',\n",
    "                           'X2_next_mean',  'X2_prev_mean','X2_current_mean',\n",
    "                           'X2_next_median', 'X2_prev_median','X2_current_median',\n",
    "                           'X2_next_max', 'X2_prev_max', 'X2_current_max', \n",
    "                           'X2_next_min', 'X2_prev_min', 'X2_current_min',\n",
    "                           'to_next_game_1', 'to_prev_game_1', \n",
    "                           '1/to_next_game_1','1/to_prev_game_1']].values\n",
    "rating_2_test = df_test[['X4',\n",
    "                           'X4_next_mean',  'X4_prev_mean','X4_current_mean',\n",
    "                           'X4_next_median', 'X4_prev_median','X4_current_median',\n",
    "                           'X4_next_max', 'X4_prev_max', 'X4_current_max', \n",
    "                           'X4_next_min', 'X4_prev_min', 'X4_current_min',\n",
    "                           'to_next_game_2', 'to_prev_game_2', \n",
    "                           '1/to_next_game_2','1/to_prev_game_2']].values"
   ]
  },
  {
   "cell_type": "code",
   "execution_count": 12,
   "metadata": {},
   "outputs": [],
   "source": [
    "y_train = df_train['target']\n",
    "rating_1_train, rating_2_train, fig_train, y_train = shuffle(rating_1_train, rating_2_train, fig_train, y_train, random_state=42)"
   ]
  },
  {
   "cell_type": "code",
   "execution_count": 13,
   "metadata": {},
   "outputs": [],
   "source": [
    "rating_1_train, rating_1_val, \\\n",
    "rating_2_train, rating_2_val, \\\n",
    "fig_train, fig_val, \\\n",
    "y_train, y_val = train_test_split(rating_1_train, rating_2_train, fig_train, y_train, random_state=42, test_size=0.2)"
   ]
  },
  {
   "cell_type": "code",
   "execution_count": 14,
   "metadata": {},
   "outputs": [],
   "source": [
    "rating_train = np.concatenate([rating_1_train, rating_2_train], axis=1)\n",
    "rating_val = np.concatenate([rating_1_val, rating_2_val], axis=1)\n",
    "rating_test = np.concatenate([rating_1_test, rating_2_test], axis=1)"
   ]
  },
  {
   "cell_type": "markdown",
   "metadata": {},
   "source": [
    "# Data for torch"
   ]
  },
  {
   "cell_type": "code",
   "execution_count": 15,
   "metadata": {},
   "outputs": [],
   "source": [
    "class TrainDataset(Dataset):\n",
    "    def __init__(self, figs, rating, y):\n",
    "        self.figs = torch.tensor(figs, dtype=torch.long)\n",
    "        self.rating = torch.tensor(rating, dtype=torch.float)\n",
    "        self.y = torch.tensor(y.tolist(), dtype=torch.float)\n",
    "    \n",
    "    def __len__(self):\n",
    "        return len(self.figs)\n",
    "    \n",
    "    def __getitem__(self, idx):\n",
    "        return {\n",
    "            'figs': self.figs[idx],\n",
    "            'rating': self.rating[idx],\n",
    "            'y': self.y[idx]\n",
    "        }\n",
    "\n",
    "class TestDataset(Dataset):\n",
    "    def __init__(self, figs, rating):\n",
    "        self.figs = torch.tensor(figs, dtype=torch.long)\n",
    "        self.rating = torch.tensor(rating, dtype=torch.float)\n",
    "    \n",
    "    def __len__(self):\n",
    "        return len(self.figs)\n",
    "    \n",
    "    def __getitem__(self, idx):\n",
    "        return {\n",
    "            'figs': self.figs[idx],\n",
    "            'rating': self.rating[idx]\n",
    "        }\n",
    "        "
   ]
  },
  {
   "cell_type": "code",
   "execution_count": 16,
   "metadata": {},
   "outputs": [],
   "source": [
    "def train_epoch(iterator, optimizer, criterion):\n",
    "        model.train()\n",
    "        epoch_loss = 0\n",
    "\n",
    "        for i, batch in tqdm(enumerate(iterator)):\n",
    "            targets = batch['y'].to(device)\n",
    "            figs = batch['figs'].to(device)\n",
    "            rating = batch['rating'].to(device)\n",
    "\n",
    "            optimizer.zero_grad()\n",
    "\n",
    "            logits = model(figs, rating).squeeze()\n",
    "            loss = criterion(logits, targets)\n",
    "            loss.backward()\n",
    "            optimizer.step()\n",
    "\n",
    "            epoch_loss += loss.item()\n",
    "\n",
    "        return epoch_loss / len(iterator)\n",
    "    \n",
    "def val_epoch(iterator,criterion):\n",
    "        model.eval()\n",
    "        epoch_loss = 0\n",
    "        with torch.no_grad():\n",
    "            for i, batch in tqdm(enumerate(iterator)):\n",
    "                targets = batch['y'].to(device)\n",
    "                figs = batch['figs'].to(device)\n",
    "                rating = batch['rating'].to(device)\n",
    "\n",
    "                logits = model(figs, rating).squeeze()\n",
    "                loss = criterion(logits, targets)\n",
    "                epoch_loss += loss.item()\n",
    "\n",
    "        return epoch_loss / len(iterator)\n",
    "    \n",
    "def predict(iterator):\n",
    "        model.eval()\n",
    "        preds = []\n",
    "        with torch.no_grad():\n",
    "            for i, batch in tqdm(enumerate(iterator)):\n",
    "                figs = batch['figs'].to(device)\n",
    "                rating = batch['rating'].to(device)\n",
    "                pred = model.predict(figs, rating)\n",
    "                preds += pred.to('cpu').numpy().tolist()\n",
    "\n",
    "        return preds"
   ]
  },
  {
   "cell_type": "code",
   "execution_count": 17,
   "metadata": {},
   "outputs": [],
   "source": [
    "class NN(nn.Module):\n",
    "    def __init__(self):\n",
    "        super(NN, self).__init__()\n",
    "        self.embdedding = nn.Embedding(101, 32)\n",
    "        self.fc1figs = nn.Linear(32*8*2, 128)\n",
    "        self.bn1figs = nn.BatchNorm1d(128)        \n",
    "        self.fc2figs = nn.Linear(128, 128)\n",
    "        self.bn2figs = nn.BatchNorm1d(128)\n",
    "        self.fc3figs = nn.Linear(128, 64)\n",
    "        self.bn3figs = nn.BatchNorm1d(64)\n",
    "       \n",
    "        self.fc1rating = nn.Linear(34, 64)\n",
    "        self.bn1rating = nn.BatchNorm1d(64)\n",
    "        self.fc2rating = nn.Linear(64, 32)\n",
    "        self.bn2rating = nn.BatchNorm1d(32)\n",
    "        self.fc3rating = nn.Linear(32, 16)\n",
    "        self.bn3rating = nn.BatchNorm1d(16)\n",
    "        \n",
    "        self.do = nn.Dropout(0.1)\n",
    "        self.fc1res = nn.Linear(64+16, 16)\n",
    "        self.bn1res = nn.BatchNorm1d(16)\n",
    "        self.fc2res = nn.Linear(16, 1)\n",
    "    \n",
    "    def predict(self, figs, rating):\n",
    "        result = self.forward(figs, rating)\n",
    "        result = F.sigmoid(result)\n",
    "        return result\n",
    "        \n",
    "    def forward(self, figs, rating):\n",
    "        figs = self.embdedding(figs)\n",
    "        figs = figs.reshape(-1, 32*8*2)\n",
    "        figs = self.do(figs)\n",
    "        figs = self.fc1figs(figs)\n",
    "        figs = self.bn1figs(figs)\n",
    "        figs = F.relu(figs)\n",
    "        #figs = self.do(figs)\n",
    "        \n",
    "        figs = self.fc2figs(figs)\n",
    "        figs = self.bn2figs(figs)\n",
    "        figs = F.relu(figs)\n",
    "        #figs = self.do(figs)\n",
    "        \n",
    "        figs = self.fc3figs(figs)\n",
    "        figs = self.bn3figs(figs)\n",
    "        figs = F.relu(figs)\n",
    "        #figs = self.do(figs)\n",
    "        \n",
    "        \n",
    "        rating = self.fc1rating(rating)\n",
    "        rating = self.bn1rating(rating)\n",
    "        rating = F.relu(rating)\n",
    "        #rating = self.do(rating)\n",
    "        \n",
    "        rating = self.fc2rating(rating)\n",
    "        rating = self.bn2rating(rating)\n",
    "        rating = F.relu(rating)\n",
    "        #rating = self.do(rating)\n",
    "        \n",
    "        rating = self.fc3rating(rating)\n",
    "        rating = self.bn3rating(rating)\n",
    "        rating = F.relu(rating)\n",
    "        #rating = self.do(rating)\n",
    "        \n",
    "        concat_data = torch.cat((figs, rating), dim=-1)\n",
    "        \n",
    "        result = self.fc1res(concat_data)\n",
    "        result = self.bn1res(result)\n",
    "        result = F.relu(result)\n",
    "        result = self.fc2res(result)\n",
    "        \n",
    "        return result"
   ]
  },
  {
   "cell_type": "code",
   "execution_count": 18,
   "metadata": {},
   "outputs": [],
   "source": [
    "batch_size = 64\n",
    "train_dataset = TrainDataset(fig_train, rating_train, y_train)\n",
    "train_sampler = RandomSampler(train_dataset)\n",
    "train_dataloader = DataLoader(train_dataset, sampler=train_sampler, batch_size=batch_size)\n",
    "\n",
    "valid_dataset = TrainDataset(fig_val, rating_val, y_val)\n",
    "valid_dataloader = DataLoader(valid_dataset, batch_size=batch_size)\n",
    "\n",
    "test_dataset = TestDataset(fig_test, rating_test)\n",
    "test_dataloader = DataLoader(test_dataset, batch_size=batch_size)"
   ]
  },
  {
   "cell_type": "code",
   "execution_count": 19,
   "metadata": {},
   "outputs": [
    {
     "data": {
      "text/plain": [
       "{'figs': tensor([  1,  79,  26,  89, 100,  50,  80,  18,  96,  25,  80,  98,  79,  16,\n",
       "          71,  37]),\n",
       " 'rating': tensor([1.0470e+03, 9.8700e+02, 1.0750e+03, 1.0470e+03, 9.8700e+02, 1.0750e+03,\n",
       "         1.0470e+03, 9.8700e+02, 1.0750e+03, 1.0470e+03, 9.8700e+02, 1.0750e+03,\n",
       "         1.0470e+03, 9.3000e+01, 1.0000e+00, 1.0753e-02, 1.0000e+00, 1.0550e+03,\n",
       "         1.0600e+03, 9.4300e+02, 1.0550e+03, 1.0600e+03, 9.4300e+02, 1.0550e+03,\n",
       "         1.0600e+03, 9.4300e+02, 1.0550e+03, 1.0600e+03, 9.4300e+02, 1.0550e+03,\n",
       "         3.1200e+02, 3.4200e+02, 3.2051e-03, 2.9240e-03]),\n",
       " 'y': tensor(0.)}"
      ]
     },
     "execution_count": 19,
     "metadata": {},
     "output_type": "execute_result"
    }
   ],
   "source": [
    "train_dataset[0]"
   ]
  },
  {
   "cell_type": "code",
   "execution_count": 20,
   "metadata": {},
   "outputs": [],
   "source": [
    "model = NN()\n",
    "if device == 'cuda':\n",
    "    model = model.cuda()"
   ]
  },
  {
   "cell_type": "code",
   "execution_count": 21,
   "metadata": {},
   "outputs": [],
   "source": [
    "epochs = 50\n",
    "criterion = torch.nn.BCEWithLogitsLoss()\n",
    "optimizer = torch.optim.Adam(model.parameters())\n",
    "scheduler = torch.optim.lr_scheduler.StepLR(optimizer, step_size=5, gamma=0.7, last_epoch=-1)"
   ]
  },
  {
   "cell_type": "code",
   "execution_count": 22,
   "metadata": {},
   "outputs": [
    {
     "name": "stderr",
     "output_type": "stream",
     "text": [
      "45413it [05:21, 141.40it/s]\n",
      "11354it [00:15, 709.92it/s]\n",
      "0it [00:00, ?it/s]"
     ]
    },
    {
     "name": "stdout",
     "output_type": "stream",
     "text": [
      "Epoch: 1 \n",
      " Train Loss 0.5355818  Val loss 0.5329477:\n"
     ]
    },
    {
     "name": "stderr",
     "output_type": "stream",
     "text": [
      "45413it [05:23, 140.49it/s]\n",
      "11354it [00:15, 726.21it/s]\n",
      "0it [00:00, ?it/s]"
     ]
    },
    {
     "name": "stdout",
     "output_type": "stream",
     "text": [
      "Epoch: 2 \n",
      " Train Loss 0.50988  Val loss 0.6871411:\n"
     ]
    },
    {
     "name": "stderr",
     "output_type": "stream",
     "text": [
      "45413it [05:13, 144.80it/s]\n",
      "11354it [00:15, 743.63it/s]\n",
      "1it [00:00,  5.56it/s]"
     ]
    },
    {
     "name": "stdout",
     "output_type": "stream",
     "text": [
      "Epoch: 3 \n",
      " Train Loss 0.5002097  Val loss 0.7334983:\n"
     ]
    },
    {
     "name": "stderr",
     "output_type": "stream",
     "text": [
      "45413it [05:04, 149.22it/s]\n",
      "11354it [00:15, 742.99it/s]\n",
      "1it [00:00,  5.19it/s]"
     ]
    },
    {
     "name": "stdout",
     "output_type": "stream",
     "text": [
      "Epoch: 4 \n",
      " Train Loss 0.4932739  Val loss 0.5478792:\n"
     ]
    },
    {
     "name": "stderr",
     "output_type": "stream",
     "text": [
      "45413it [05:24, 140.08it/s]\n",
      "11354it [00:15, 723.39it/s]\n",
      "0it [00:00, ?it/s]"
     ]
    },
    {
     "name": "stdout",
     "output_type": "stream",
     "text": [
      "Epoch: 5 \n",
      " Train Loss 0.4892641  Val loss 0.4871778:\n"
     ]
    },
    {
     "name": "stderr",
     "output_type": "stream",
     "text": [
      "45413it [05:26, 139.07it/s]\n",
      "11354it [00:15, 736.77it/s]\n",
      "1it [00:00,  5.40it/s]"
     ]
    },
    {
     "name": "stdout",
     "output_type": "stream",
     "text": [
      "Epoch: 6 \n",
      " Train Loss 0.4831995  Val loss 0.4962093:\n"
     ]
    },
    {
     "name": "stderr",
     "output_type": "stream",
     "text": [
      "45413it [05:28, 138.15it/s]\n",
      "11354it [00:15, 723.04it/s]\n",
      "0it [00:00, ?it/s]"
     ]
    },
    {
     "name": "stdout",
     "output_type": "stream",
     "text": [
      "Epoch: 7 \n",
      " Train Loss 0.48098  Val loss 0.5371539:\n"
     ]
    },
    {
     "name": "stderr",
     "output_type": "stream",
     "text": [
      "45413it [05:27, 138.60it/s]\n",
      "11354it [00:15, 727.21it/s]\n",
      "1it [00:00,  5.30it/s]"
     ]
    },
    {
     "name": "stdout",
     "output_type": "stream",
     "text": [
      "Epoch: 8 \n",
      " Train Loss 0.4792873  Val loss 0.4866197:\n"
     ]
    },
    {
     "name": "stderr",
     "output_type": "stream",
     "text": [
      "45413it [05:30, 137.30it/s]\n",
      "11354it [00:15, 728.24it/s]\n",
      "0it [00:00, ?it/s]"
     ]
    },
    {
     "name": "stdout",
     "output_type": "stream",
     "text": [
      "Epoch: 9 \n",
      " Train Loss 0.477476  Val loss 0.4983287:\n"
     ]
    },
    {
     "name": "stderr",
     "output_type": "stream",
     "text": [
      "45413it [05:18, 142.53it/s]\n",
      "11354it [00:15, 745.18it/s]\n",
      "1it [00:00,  5.24it/s]"
     ]
    },
    {
     "name": "stdout",
     "output_type": "stream",
     "text": [
      "Epoch: 10 \n",
      " Train Loss 0.4759856  Val loss 0.5175755:\n"
     ]
    },
    {
     "name": "stderr",
     "output_type": "stream",
     "text": [
      "45413it [05:16, 143.28it/s]\n",
      "11354it [00:15, 743.98it/s]\n",
      "1it [00:00,  5.58it/s]"
     ]
    },
    {
     "name": "stdout",
     "output_type": "stream",
     "text": [
      "Epoch: 11 \n",
      " Train Loss 0.4729472  Val loss 0.5180897:\n"
     ]
    },
    {
     "name": "stderr",
     "output_type": "stream",
     "text": [
      "45413it [05:29, 137.92it/s]\n",
      "11354it [00:15, 725.65it/s]\n",
      "0it [00:00, ?it/s]"
     ]
    },
    {
     "name": "stdout",
     "output_type": "stream",
     "text": [
      "Epoch: 12 \n",
      " Train Loss 0.4717958  Val loss 0.4768369:\n"
     ]
    },
    {
     "name": "stderr",
     "output_type": "stream",
     "text": [
      "45413it [05:22, 140.63it/s]\n",
      "11354it [00:15, 724.50it/s]\n",
      "0it [00:00, ?it/s]"
     ]
    },
    {
     "name": "stdout",
     "output_type": "stream",
     "text": [
      "Epoch: 13 \n",
      " Train Loss 0.4708638  Val loss 0.5187522:\n"
     ]
    },
    {
     "name": "stderr",
     "output_type": "stream",
     "text": [
      "45413it [05:23, 140.27it/s]\n",
      "11354it [00:15, 726.80it/s]\n",
      "1it [00:00,  5.40it/s]"
     ]
    },
    {
     "name": "stdout",
     "output_type": "stream",
     "text": [
      "Epoch: 14 \n",
      " Train Loss 0.4701765  Val loss 0.4855427:\n"
     ]
    },
    {
     "name": "stderr",
     "output_type": "stream",
     "text": [
      "45413it [05:29, 137.76it/s]\n",
      "11354it [00:15, 720.81it/s]\n",
      "0it [00:00, ?it/s]"
     ]
    },
    {
     "name": "stdout",
     "output_type": "stream",
     "text": [
      "Epoch: 15 \n",
      " Train Loss 0.4697112  Val loss 0.4915604:\n"
     ]
    },
    {
     "name": "stderr",
     "output_type": "stream",
     "text": [
      "45413it [05:27, 138.73it/s]\n",
      "11354it [00:15, 718.06it/s]\n",
      "0it [00:00, ?it/s]"
     ]
    },
    {
     "name": "stdout",
     "output_type": "stream",
     "text": [
      "Epoch: 16 \n",
      " Train Loss 0.4673662  Val loss 0.4859727:\n"
     ]
    },
    {
     "name": "stderr",
     "output_type": "stream",
     "text": [
      "45413it [05:16, 143.56it/s]\n",
      "11354it [00:15, 756.87it/s]\n",
      "1it [00:00,  5.68it/s]"
     ]
    },
    {
     "name": "stdout",
     "output_type": "stream",
     "text": [
      "Epoch: 17 \n",
      " Train Loss 0.4668129  Val loss 0.4886368:\n"
     ]
    },
    {
     "name": "stderr",
     "output_type": "stream",
     "text": [
      "45413it [05:03, 149.56it/s]\n",
      "11354it [00:15, 743.99it/s]\n",
      "1it [00:00,  5.54it/s]"
     ]
    },
    {
     "name": "stdout",
     "output_type": "stream",
     "text": [
      "Epoch: 18 \n",
      " Train Loss 0.4662006  Val loss 0.4741719:\n"
     ]
    },
    {
     "name": "stderr",
     "output_type": "stream",
     "text": [
      "45413it [05:21, 141.44it/s]\n",
      "11354it [00:16, 707.39it/s]\n",
      "0it [00:00, ?it/s]"
     ]
    },
    {
     "name": "stdout",
     "output_type": "stream",
     "text": [
      "Epoch: 19 \n",
      " Train Loss 0.4657993  Val loss 0.4736466:\n"
     ]
    },
    {
     "name": "stderr",
     "output_type": "stream",
     "text": [
      "45413it [05:21, 141.30it/s]\n",
      "11354it [00:15, 728.94it/s]\n",
      "1it [00:00,  5.03it/s]"
     ]
    },
    {
     "name": "stdout",
     "output_type": "stream",
     "text": [
      "Epoch: 20 \n",
      " Train Loss 0.4653746  Val loss 0.4831281:\n"
     ]
    },
    {
     "name": "stderr",
     "output_type": "stream",
     "text": [
      "45413it [05:25, 139.49it/s]\n",
      "11354it [00:15, 723.31it/s]\n",
      "1it [00:00,  5.43it/s]"
     ]
    },
    {
     "name": "stdout",
     "output_type": "stream",
     "text": [
      "Epoch: 21 \n",
      " Train Loss 0.4640271  Val loss 0.4683654:\n"
     ]
    },
    {
     "name": "stderr",
     "output_type": "stream",
     "text": [
      "45413it [05:26, 138.98it/s]\n",
      "11354it [00:15, 716.04it/s]\n",
      "0it [00:00, ?it/s]"
     ]
    },
    {
     "name": "stdout",
     "output_type": "stream",
     "text": [
      "Epoch: 22 \n",
      " Train Loss 0.4634487  Val loss 0.4713847:\n"
     ]
    },
    {
     "name": "stderr",
     "output_type": "stream",
     "text": [
      "45413it [05:27, 138.77it/s]\n",
      "11354it [00:15, 729.91it/s]\n",
      "1it [00:00,  5.32it/s]"
     ]
    },
    {
     "name": "stdout",
     "output_type": "stream",
     "text": [
      "Epoch: 23 \n",
      " Train Loss 0.4631713  Val loss 0.4898557:\n"
     ]
    },
    {
     "name": "stderr",
     "output_type": "stream",
     "text": [
      "45413it [05:21, 141.14it/s]\n",
      "11354it [00:15, 736.50it/s]\n",
      "1it [00:00,  5.29it/s]"
     ]
    },
    {
     "name": "stdout",
     "output_type": "stream",
     "text": [
      "Epoch: 24 \n",
      " Train Loss 0.462886  Val loss 0.4681335:\n"
     ]
    },
    {
     "name": "stderr",
     "output_type": "stream",
     "text": [
      "45413it [04:58, 151.96it/s]\n",
      "11354it [00:15, 730.18it/s]\n",
      "1it [00:00,  5.21it/s]"
     ]
    },
    {
     "name": "stdout",
     "output_type": "stream",
     "text": [
      "Epoch: 25 \n",
      " Train Loss 0.4626975  Val loss 0.468967:\n"
     ]
    },
    {
     "name": "stderr",
     "output_type": "stream",
     "text": [
      "45413it [05:24, 139.83it/s]\n",
      "11354it [00:16, 692.61it/s]\n",
      "1it [00:00,  5.45it/s]"
     ]
    },
    {
     "name": "stdout",
     "output_type": "stream",
     "text": [
      "Epoch: 26 \n",
      " Train Loss 0.46131  Val loss 0.4679329:\n"
     ]
    },
    {
     "name": "stderr",
     "output_type": "stream",
     "text": [
      "45413it [05:27, 138.47it/s]\n",
      "11354it [00:15, 724.73it/s]\n",
      "0it [00:00, ?it/s]"
     ]
    },
    {
     "name": "stdout",
     "output_type": "stream",
     "text": [
      "Epoch: 27 \n",
      " Train Loss 0.4609292  Val loss 0.4667366:\n"
     ]
    },
    {
     "name": "stderr",
     "output_type": "stream",
     "text": [
      "45413it [05:26, 139.16it/s]\n",
      "11354it [00:15, 717.81it/s]\n",
      "0it [00:00, ?it/s]"
     ]
    },
    {
     "name": "stdout",
     "output_type": "stream",
     "text": [
      "Epoch: 28 \n",
      " Train Loss 0.4609056  Val loss 0.4669446:\n"
     ]
    },
    {
     "name": "stderr",
     "output_type": "stream",
     "text": [
      "45413it [05:26, 139.28it/s]\n",
      "11354it [00:15, 717.35it/s]\n",
      "0it [00:00, ?it/s]"
     ]
    },
    {
     "name": "stdout",
     "output_type": "stream",
     "text": [
      "Epoch: 29 \n",
      " Train Loss 0.4605909  Val loss 0.4673073:\n"
     ]
    },
    {
     "name": "stderr",
     "output_type": "stream",
     "text": [
      "45413it [05:30, 137.56it/s]\n",
      "11354it [00:15, 726.52it/s]\n",
      "1it [00:00,  5.41it/s]"
     ]
    },
    {
     "name": "stdout",
     "output_type": "stream",
     "text": [
      "Epoch: 30 \n",
      " Train Loss 0.4605273  Val loss 0.4664041:\n"
     ]
    },
    {
     "name": "stderr",
     "output_type": "stream",
     "text": [
      "45413it [05:24, 139.79it/s]\n",
      "11354it [00:15, 731.19it/s]\n",
      "0it [00:00, ?it/s]"
     ]
    },
    {
     "name": "stdout",
     "output_type": "stream",
     "text": [
      "Epoch: 31 \n",
      " Train Loss 0.459329  Val loss 0.4687241:\n"
     ]
    },
    {
     "name": "stderr",
     "output_type": "stream",
     "text": [
      "45413it [05:03, 149.76it/s]\n",
      "11354it [00:14, 762.47it/s]\n",
      "1it [00:00,  5.33it/s]"
     ]
    },
    {
     "name": "stdout",
     "output_type": "stream",
     "text": [
      "Epoch: 32 \n",
      " Train Loss 0.4592787  Val loss 0.4663099:\n"
     ]
    },
    {
     "name": "stderr",
     "output_type": "stream",
     "text": [
      "45413it [04:59, 151.55it/s]\n",
      "11354it [00:14, 776.92it/s]\n",
      "1it [00:00,  5.42it/s]"
     ]
    },
    {
     "name": "stdout",
     "output_type": "stream",
     "text": [
      "Epoch: 33 \n",
      " Train Loss 0.4590728  Val loss 0.4695924:\n"
     ]
    },
    {
     "name": "stderr",
     "output_type": "stream",
     "text": [
      "45413it [04:55, 153.82it/s]\n",
      "11354it [00:14, 774.07it/s]\n",
      "1it [00:00,  5.14it/s]"
     ]
    },
    {
     "name": "stdout",
     "output_type": "stream",
     "text": [
      "Epoch: 34 \n",
      " Train Loss 0.4590427  Val loss 0.4653256:\n"
     ]
    },
    {
     "name": "stderr",
     "output_type": "stream",
     "text": [
      "45413it [04:55, 153.92it/s]\n",
      "11354it [00:14, 785.34it/s]\n",
      "1it [00:00,  5.77it/s]"
     ]
    },
    {
     "name": "stdout",
     "output_type": "stream",
     "text": [
      "Epoch: 35 \n",
      " Train Loss 0.4588586  Val loss 0.464475:\n"
     ]
    },
    {
     "name": "stderr",
     "output_type": "stream",
     "text": [
      "45413it [04:56, 153.15it/s]\n",
      "11354it [00:14, 776.96it/s]\n",
      "1it [00:00,  5.71it/s]"
     ]
    },
    {
     "name": "stdout",
     "output_type": "stream",
     "text": [
      "Epoch: 36 \n",
      " Train Loss 0.4580164  Val loss 0.4644112:\n"
     ]
    },
    {
     "name": "stderr",
     "output_type": "stream",
     "text": [
      "45413it [05:04, 149.34it/s]\n",
      "11354it [00:14, 774.70it/s]\n",
      "1it [00:00,  5.80it/s]"
     ]
    },
    {
     "name": "stdout",
     "output_type": "stream",
     "text": [
      "Epoch: 37 \n",
      " Train Loss 0.4581692  Val loss 0.4653074:\n"
     ]
    },
    {
     "name": "stderr",
     "output_type": "stream",
     "text": [
      "45413it [04:55, 153.44it/s]\n",
      "11354it [00:14, 772.57it/s]\n",
      "1it [00:00,  5.48it/s]"
     ]
    },
    {
     "name": "stdout",
     "output_type": "stream",
     "text": [
      "Epoch: 38 \n",
      " Train Loss 0.4577864  Val loss 0.467169:\n"
     ]
    },
    {
     "name": "stderr",
     "output_type": "stream",
     "text": [
      "45413it [04:54, 154.06it/s]\n",
      "11354it [00:14, 781.02it/s]\n",
      "1it [00:00,  5.60it/s]"
     ]
    },
    {
     "name": "stdout",
     "output_type": "stream",
     "text": [
      "Epoch: 39 \n",
      " Train Loss 0.4577363  Val loss 0.4671798:\n"
     ]
    },
    {
     "name": "stderr",
     "output_type": "stream",
     "text": [
      "45413it [04:56, 153.10it/s]\n",
      "11354it [00:14, 777.20it/s]\n",
      "1it [00:00,  5.67it/s]"
     ]
    },
    {
     "name": "stdout",
     "output_type": "stream",
     "text": [
      "Epoch: 40 \n",
      " Train Loss 0.4578003  Val loss 0.4658764:\n"
     ]
    },
    {
     "name": "stderr",
     "output_type": "stream",
     "text": [
      "45413it [04:57, 152.85it/s]\n",
      "11354it [00:14, 768.04it/s]\n",
      "1it [00:00,  5.61it/s]"
     ]
    },
    {
     "name": "stdout",
     "output_type": "stream",
     "text": [
      "Epoch: 41 \n",
      " Train Loss 0.4573438  Val loss 0.4669305:\n"
     ]
    },
    {
     "name": "stderr",
     "output_type": "stream",
     "text": [
      "45413it [05:01, 150.74it/s]\n",
      "11354it [00:14, 784.07it/s]\n",
      "1it [00:00,  5.50it/s]"
     ]
    },
    {
     "name": "stdout",
     "output_type": "stream",
     "text": [
      "Epoch: 42 \n",
      " Train Loss 0.4572907  Val loss 0.4642836:\n"
     ]
    },
    {
     "name": "stderr",
     "output_type": "stream",
     "text": [
      "45413it [04:49, 156.75it/s]\n",
      "11354it [00:14, 774.00it/s]\n",
      "1it [00:00,  5.66it/s]"
     ]
    },
    {
     "name": "stdout",
     "output_type": "stream",
     "text": [
      "Epoch: 43 \n",
      " Train Loss 0.4571054  Val loss 0.4643443:\n"
     ]
    },
    {
     "name": "stderr",
     "output_type": "stream",
     "text": [
      "45413it [04:56, 153.25it/s]\n",
      "11354it [00:14, 771.33it/s]\n",
      "1it [00:00,  5.57it/s]"
     ]
    },
    {
     "name": "stdout",
     "output_type": "stream",
     "text": [
      "Epoch: 44 \n",
      " Train Loss 0.4572076  Val loss 0.4655797:\n"
     ]
    },
    {
     "name": "stderr",
     "output_type": "stream",
     "text": [
      "45413it [04:51, 155.63it/s]\n",
      "11354it [00:14, 771.94it/s]\n",
      "1it [00:00,  5.54it/s]"
     ]
    },
    {
     "name": "stdout",
     "output_type": "stream",
     "text": [
      "Epoch: 45 \n",
      " Train Loss 0.4569355  Val loss 0.4647828:\n"
     ]
    },
    {
     "name": "stderr",
     "output_type": "stream",
     "text": [
      "45413it [04:57, 152.52it/s]\n",
      "11354it [00:14, 774.37it/s]\n",
      "1it [00:00,  5.61it/s]"
     ]
    },
    {
     "name": "stdout",
     "output_type": "stream",
     "text": [
      "Epoch: 46 \n",
      " Train Loss 0.4566058  Val loss 0.4659988:\n"
     ]
    },
    {
     "name": "stderr",
     "output_type": "stream",
     "text": [
      "45413it [04:57, 152.53it/s]\n",
      "11354it [00:14, 777.54it/s]\n",
      "1it [00:00,  5.80it/s]"
     ]
    },
    {
     "name": "stdout",
     "output_type": "stream",
     "text": [
      "Epoch: 47 \n",
      " Train Loss 0.4565407  Val loss 0.4663016:\n"
     ]
    },
    {
     "name": "stderr",
     "output_type": "stream",
     "text": [
      "45413it [04:55, 153.59it/s]\n",
      "11354it [00:14, 778.48it/s]\n",
      "1it [00:00,  5.51it/s]"
     ]
    },
    {
     "name": "stdout",
     "output_type": "stream",
     "text": [
      "Epoch: 48 \n",
      " Train Loss 0.4564438  Val loss 0.4640676:\n"
     ]
    },
    {
     "name": "stderr",
     "output_type": "stream",
     "text": [
      "45413it [04:54, 154.07it/s]\n",
      "11354it [00:14, 765.40it/s]\n",
      "1it [00:00,  5.53it/s]"
     ]
    },
    {
     "name": "stdout",
     "output_type": "stream",
     "text": [
      "Epoch: 49 \n",
      " Train Loss 0.4563364  Val loss 0.4649784:\n"
     ]
    },
    {
     "name": "stderr",
     "output_type": "stream",
     "text": [
      "45413it [04:44, 159.42it/s]\n",
      "11354it [00:14, 767.77it/s]"
     ]
    },
    {
     "name": "stdout",
     "output_type": "stream",
     "text": [
      "Epoch: 50 \n",
      " Train Loss 0.456455  Val loss 0.4651481:\n"
     ]
    },
    {
     "name": "stderr",
     "output_type": "stream",
     "text": [
      "\n"
     ]
    }
   ],
   "source": [
    "best_valid_loss = float('inf')\n",
    "for epoch in range(1, epochs + 1):\n",
    "    train_loss = round(train_epoch(train_dataloader, optimizer, criterion), 7)\n",
    "    valid_loss = round(val_epoch(valid_dataloader, criterion), 7)\n",
    "    if valid_loss < best_valid_loss:\n",
    "            best_valid_loss = valid_loss\n",
    "            torch.save(model.state_dict(), './data/models/result_more_weights_more_layers_figures_without_order_NN_with_means_median_max_min_dist_no_dropout_add_order.pt')\n",
    "\n",
    "    print('Epoch: {} \\n Train Loss {}  Val loss {}:'.format(epoch, train_loss, valid_loss))\n",
    "    scheduler.step()"
   ]
  },
  {
   "cell_type": "code",
   "execution_count": 23,
   "metadata": {},
   "outputs": [
    {
     "data": {
      "text/plain": [
       "<All keys matched successfully>"
      ]
     },
     "execution_count": 23,
     "metadata": {},
     "output_type": "execute_result"
    }
   ],
   "source": [
    "model.load_state_dict(torch.load('./data/models/result_more_weights_more_layers_figures_without_order_NN_with_means_median_max_min_dist_no_dropout_add_order.pt'))"
   ]
  },
  {
   "cell_type": "code",
   "execution_count": 24,
   "metadata": {},
   "outputs": [
    {
     "name": "stderr",
     "output_type": "stream",
     "text": [
      "11354it [00:14, 771.06it/s]\n"
     ]
    },
    {
     "data": {
      "text/plain": [
       "0.4640676"
      ]
     },
     "execution_count": 24,
     "metadata": {},
     "output_type": "execute_result"
    }
   ],
   "source": [
    "round(val_epoch(valid_dataloader, criterion), 7)"
   ]
  },
  {
   "cell_type": "code",
   "execution_count": 25,
   "metadata": {},
   "outputs": [
    {
     "name": "stderr",
     "output_type": "stream",
     "text": [
      "0it [00:00, ?it/s]/home/mpopov/.local/lib/python3.6/site-packages/torch/nn/functional.py:1351: UserWarning: nn.functional.sigmoid is deprecated. Use torch.sigmoid instead.\n",
      "  warnings.warn(\"nn.functional.sigmoid is deprecated. Use torch.sigmoid instead.\")\n",
      "14192it [00:15, 902.39it/s]\n"
     ]
    }
   ],
   "source": [
    "res = predict(test_dataloader)"
   ]
  },
  {
   "cell_type": "code",
   "execution_count": 26,
   "metadata": {},
   "outputs": [],
   "source": [
    "res = [item[0] for item in res]"
   ]
  },
  {
   "cell_type": "code",
   "execution_count": 27,
   "metadata": {},
   "outputs": [],
   "source": [
    "df_test['target'] = res"
   ]
  },
  {
   "cell_type": "code",
   "execution_count": 28,
   "metadata": {},
   "outputs": [],
   "source": [
    "df_test[['id','target']].to_csv('result_more_weights_more_layers_figures_without_order_NN_with_means_median_max_min_dist_no_dropout_add_order.csv', index=False)"
   ]
  },
  {
   "cell_type": "code",
   "execution_count": 29,
   "metadata": {},
   "outputs": [
    {
     "name": "stdout",
     "output_type": "stream",
     "text": [
      "id,target\n",
      "0,0.5109214186668396\n",
      "1,0.015112150460481644\n",
      "2,0.2812189757823944\n",
      "3,0.11097893118858337\n",
      "4,0.08722084760665894\n",
      "5,0.05714172497391701\n",
      "6,0.5541698932647705\n",
      "7,0.2499494105577469\n",
      "8,0.8924974203109741\n"
     ]
    }
   ],
   "source": [
    "!head  result_more_weights_more_layers_figures_without_order_NN_with_means_median_max_min_dist_no_dropout_add_order.csv"
   ]
  },
  {
   "cell_type": "markdown",
   "metadata": {},
   "source": [
    "# val_data"
   ]
  },
  {
   "cell_type": "code",
   "execution_count": 30,
   "metadata": {},
   "outputs": [
    {
     "name": "stderr",
     "output_type": "stream",
     "text": [
      "11354it [00:13, 828.87it/s]\n"
     ]
    }
   ],
   "source": [
    "val_preds = predict(valid_dataloader)\n",
    "val_preds = [item[0] for item in val_preds]\n",
    "df_val = pd.DataFrame({'score':val_preds, 'target': y_val})"
   ]
  },
  {
   "cell_type": "code",
   "execution_count": null,
   "metadata": {},
   "outputs": [],
   "source": []
  },
  {
   "cell_type": "code",
   "execution_count": 31,
   "metadata": {},
   "outputs": [],
   "source": [
    "df_val.to_csv('val_result_more_weights_more_layers_figures_without_order_NN_with_means_median_max_min_dist_no_dropout_add_order.csv', index=False)"
   ]
  }
 ],
 "metadata": {
  "kernelspec": {
   "display_name": "Python 3",
   "language": "python",
   "name": "python3"
  },
  "language_info": {
   "codemirror_mode": {
    "name": "ipython",
    "version": 3
   },
   "file_extension": ".py",
   "mimetype": "text/x-python",
   "name": "python",
   "nbconvert_exporter": "python",
   "pygments_lexer": "ipython3",
   "version": "3.6.5"
  }
 },
 "nbformat": 4,
 "nbformat_minor": 4
}
