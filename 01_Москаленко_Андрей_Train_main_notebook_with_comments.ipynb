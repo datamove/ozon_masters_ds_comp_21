{
 "cells": [
  {
   "cell_type": "markdown",
   "metadata": {},
   "source": [
    "# Ozon Masters DS contest 2021\n",
    "https://www.kaggle.com/c/ozon-masters-ds-contest-2021/overview\n",
    "\n",
    "Москаленко Андрей"
   ]
  },
  {
   "cell_type": "markdown",
   "metadata": {},
   "source": [
    "Решение задания я начал с изучения данных. Наивно полагая, что в них нет ликов в начале делал упор на изучение скилов пользователей и их выбор персонажей.  \n",
    "\n",
    "Первые шаги:  \n",
    "* Приведение категориально закодированных героев в единый бинарный вектор-признак на 100 персонажей. Этот бейзлайн получил паблик скор в **0.64187**. Так же попробовал применить tf-idf для кодирования самых популярных комбинаций (я брал топ-700), но ощутимого прироста не получил, а время обучения в 3 часа на GPU из-за количества фичей получил...\n",
    "* Добавление винрейтов. Сначала я предпосчитал винрейты по всем героям и добавлял по 8 фичей вероятностей победы каждому игроку, а так же средний винрейт. Была надежда, что какие-то герои более сильные, однако значимых отклонений не было - герои сбалансированы (это можно было понять и из уловия, но я ему не верил т.к. там сказано что порядок игроков не влияет, при том что 2ой выигрывает в 2 раза чаще :) ).\n",
    "* Винрейты пользователей и пользователей-героев. Сразу было понятно, что это сильный лик, т.к. если у игрока винрейт 100% и одна игра, то победа в текущем наблюдении гарантирована. Чтоб избежать таких недоразумений я считал винрейт только для игроков с >10 играми. Аналогично винрейты считал для пары пользователь-герой. К сожалению, даже с ограничением на число игр лик был сильным и качество просаживалось на валидации хуже, чем бейзлайн модель с корзиной персонажей.\n",
    "* Плейрейты. Раз винрейты приводят к лику, появилась идея добавить плейрейты т.е. доля игр для игрока с данным персонажем. Мотивировано это тем, что по условию игроки прокачивают персонажей и по данным часто играют с одними и теми же. Т.е. вероятнее более прокаченный персонаж более весом. Эта фича подняла паблик скор до **0.63678**.\n",
    "* Взаимодействие персонажей. На похожих соревнованиях (https://www.kaggle.com/c/mlcourse-dota2-win-prediction/discussion, https://www.kaggle.com/c/dota-2-win-probability-prediction/discussion) вдохновлялся идеями про синергию персонажей. Была использована фича, отражающая \"силу\" команды одного игрока над другим путем сложения условных вероятностей P(победа с героем N | у противоположного игрока есть персонаж M). Эта фича продвинула мой паблик скор до **0.63250**\n",
    "\n",
    "\n",
    "Понимание, что что-то идет не так: \n",
    "* В какой-то момент в лидер борде появился человек с скором, существенно лучшим, чем у остальных участников. Стало понятно, что в данных есть какая-то утечка таргета, которую я принялся искать.\n",
    "* Добавление фичей на глобальный рейтинг. Проанализировав историю по пользователям, стало понятно, что рейтинг растет при победе и падает при поражении. Т.е. если в текущей игре рейтинг на историческом минимуме, вероятнее всего, человек выйграет. В этот момент я ещё не знал, что порядок игр мы можем восстановить, поэтому сделал фичи на глобальный рейтинг пользователя. Туда вошли функции вида минимум, максимум, средняя, дисперсии и куча hand-crafted комбинаций из них. Это дало существенный прирост до **0.60329**.\n",
    "* Перцентили. Зачем использовать экстремальные статистики минимума-максимума, когда можно оценить положение текущего рейтинга в истории более точно. Добавление фичей на перцентили рейтинга улучшило скор до **0.58015**.\n",
    "* Локальный рейтинг. До этого момента мне казалось, что фича X21 отражает продолжительность игры а не её время. Но увидев несколько одинаковых значений у одного пользователя стало ясно, что это какой-то таймстемп, например, день. Т.е. легко восстановить порядок игр, если знать, что человек играет раз в день. А зная порядок по динамике рейтинга легко понять таргеты. Но видимо, чтоб нам было не очень скучно, этот таймстемп сделан довольно грубым, т.е. у пользователя мб много игр в один день и там уже установить порядок не получится. Поэтому я сделал фичи похожие на предыдущий пункт, но учитывающие историю на прошлый, текущий и следующие дни, если они есть, а так же множество их комбинаций. Это повысило скор до **0.39719**."
   ]
  },
  {
   "cell_type": "markdown",
   "metadata": {},
   "source": [
    "Выбор модели:\n",
    "* Не было, т.к. сразу было ясно, что нужна деревянная модель для улавливания зависимостей между персонажами, остановился на catboost.\n",
    "* Тьюнингом не занимался, только эмпирически увеличил глубину до 10, кол-во раундов до 20к и поднял lr т.к. оверфита не возникало даже на последних итерациях бустинга.\n"
   ]
  },
  {
   "cell_type": "markdown",
   "metadata": {},
   "source": [
    "Как воспроизвести ноутбук:\n",
    "* Предпосчитать все фичи из последней части ноутбука (либо взять готовые npy-файлы)\n",
    "* Фичи, не использованные в финальном предсказании закомиченны\n",
    "* Для получения предсказания запустить ноутбук Test.ipynb (модель с чекпоинтом кэтбуста приложена)\n",
    "* Топ-100 фичей финальной модели:"
   ]
  },
  {
   "cell_type": "markdown",
   "metadata": {},
   "source": [
    "![title](100.png)"
   ]
  },
  {
   "cell_type": "code",
   "execution_count": 1,
   "metadata": {},
   "outputs": [],
   "source": [
    "import pandas as pd\n",
    "import tqdm\n",
    "import numpy as np\n",
    "import seaborn as sns\n",
    "import scipy"
   ]
  },
  {
   "cell_type": "code",
   "execution_count": 2,
   "metadata": {},
   "outputs": [],
   "source": [
    "from catboost import CatBoostClassifier\n",
    "from sklearn.model_selection import train_test_split"
   ]
  },
  {
   "cell_type": "code",
   "execution_count": 3,
   "metadata": {},
   "outputs": [],
   "source": [
    "train_data = pd.read_csv('./train.csv')"
   ]
  },
  {
   "cell_type": "code",
   "execution_count": 5,
   "metadata": {},
   "outputs": [],
   "source": [
    "test_data = pd.read_csv('./test.csv')"
   ]
  },
  {
   "cell_type": "code",
   "execution_count": 6,
   "metadata": {},
   "outputs": [],
   "source": [
    "data = train_data.append(test_data)"
   ]
  },
  {
   "cell_type": "code",
   "execution_count": 57,
   "metadata": {},
   "outputs": [],
   "source": [
    "rates = np.load('./rates.npy', allow_pickle=True).item()\n",
    "heroes_stats_total = np.load('./heroes_stats_total.npy', allow_pickle=True).item()"
   ]
  },
  {
   "cell_type": "code",
   "execution_count": 131,
   "metadata": {},
   "outputs": [],
   "source": [
    "test_data = pd.read_csv('./test.csv')\n",
    "TEST = test_data.drop(['id'], axis=1)\n",
    "\n",
    "for i in range(101):\n",
    "    TEST['1HERO_' + str(i)] = 0\n",
    "\n",
    "for i in range(101):\n",
    "    TEST['2HERO_' + str(i)] = 0   \n",
    "    \n",
    "for idx, row in tqdm.notebook.tqdm(TEST.iterrows()):\n",
    "    for x in ['X5', 'X6', 'X7', 'X8', 'X9', 'X10', 'X11', 'X12']:\n",
    "        TEST.at[idx, '1HERO_' + str(row[x])] += 1\n",
    "\n",
    "    for x in ['X13', 'X14', 'X15', 'X16', 'X17','X18', 'X19', 'X20']:\n",
    "        TEST.at[idx, '2HERO_' + str(row[x])] += 1\n",
    "\n",
    "#TEST.to_csv('G:/TEST.csv')"
   ]
  },
  {
   "cell_type": "code",
   "execution_count": 4,
   "metadata": {},
   "outputs": [],
   "source": [
    "X, y = train_data.drop(['id', 'target'], axis=1), train_data['target']"
   ]
  },
  {
   "cell_type": "code",
   "execution_count": 4,
   "metadata": {},
   "outputs": [],
   "source": [
    "y = train_data['target']"
   ]
  },
  {
   "cell_type": "code",
   "execution_count": 5,
   "metadata": {},
   "outputs": [],
   "source": [
    "del train_data"
   ]
  },
  {
   "cell_type": "code",
   "execution_count": 6,
   "metadata": {},
   "outputs": [],
   "source": [
    "for i in range(101):\n",
    "    X['1HERO_' + str(i)] = 0\n",
    "\n",
    "for i in range(101):\n",
    "    X['2HERO_' + str(i)] = 0    \n",
    "    \n",
    "for idx, row in tqdm.notebook.tqdm(X.iterrows()):\n",
    "    for x in ['X5', 'X6', 'X7', 'X8', 'X9', 'X10', 'X11', 'X12']:\n",
    "        X.at[idx, '1HERO_' + str(row[x])] += 1\n",
    "\n",
    "    for x in ['X13', 'X14', 'X15', 'X16', 'X17','X18', 'X19', 'X20']:\n",
    "        X.at[idx, '2HERO_' + str(row[x])] += 1"
   ]
  },
  {
   "cell_type": "code",
   "execution_count": 6,
   "metadata": {},
   "outputs": [],
   "source": [
    "#X = pd.read_csv('G:/X.csv')\n",
    "#X = pd.read_csv('G:/X_hero_winrate_fixed.csv')\n",
    "#X = pd.read_csv('G:/X_with_prev_next_days.csv')\n",
    "#X = pd.read_csv('G:/X_hero_user_playrate.csv')"
   ]
  },
  {
   "cell_type": "markdown",
   "metadata": {},
   "source": [
    "# Локальные рейтинги по дням"
   ]
  },
  {
   "cell_type": "code",
   "execution_count": 4,
   "metadata": {},
   "outputs": [],
   "source": [
    "ITER = X[['X1', 'X2', 'X3', 'X4', 'X21']]"
   ]
  },
  {
   "cell_type": "code",
   "execution_count": 5,
   "metadata": {},
   "outputs": [],
   "source": [
    "X['MEAN_PREV_LEFT'] = 0.0\n",
    "X['MIN_PREV_LEFT'] = 0.0\n",
    "X['MAX_PREV_LEFT'] = 0.0\n",
    "X['STD_PREV_LEFT'] = 0.0\n",
    "X['PERCENTILE_PREV_LEFT'] = 0.0\n",
    "X['MEAN_PREV_RIGHT'] = 0.0\n",
    "X['MIN_PREV_RIGHT'] = 0.0\n",
    "X['MAX_PREV_RIGHT'] = 0.0\n",
    "X['STD_PREV_RIGHT'] = 0.0\n",
    "X['PERCENTILE_PREV_RIGHT'] = 0.0"
   ]
  },
  {
   "cell_type": "code",
   "execution_count": 6,
   "metadata": {},
   "outputs": [],
   "source": [
    "X['MEAN_CURR_LEFT'] = 0.0\n",
    "X['MIN_CURR_LEFT'] = 0.0\n",
    "X['MAX_CURR_LEFT'] = 0.0\n",
    "X['STD_CURR_LEFT'] = 0.0\n",
    "X['PERCENTILE_CURR_LEFT'] = 0.0\n",
    "X['MEAN_CURR_RIGHT'] = 0.0\n",
    "X['MIN_CURR_RIGHT'] = 0.0\n",
    "X['MAX_CURR_RIGHT'] = 0.0\n",
    "X['STD_CURR_RIGHT'] = 0.0\n",
    "X['PERCENTILE_CURR_RIGHT'] = 0.0"
   ]
  },
  {
   "cell_type": "code",
   "execution_count": 7,
   "metadata": {},
   "outputs": [],
   "source": [
    "X['MEAN_NEXT_LEFT'] = 0.0\n",
    "X['MIN_NEXT_LEFT'] = 0.0\n",
    "X['MAX_NEXT_LEFT'] = 0.0\n",
    "X['STD_NEXT_LEFT'] = 0.0\n",
    "X['PERCENTILE_NEXT_LEFT'] = 0.0\n",
    "X['MEAN_NEXT_RIGHT'] = 0.0\n",
    "X['MIN_NEXT_RIGHT'] = 0.0\n",
    "X['MAX_NEXT_RIGHT'] = 0.0\n",
    "X['STD_NEXT_RIGHT'] = 0.0\n",
    "X['PERCENTILE_NEXT_RIGHT'] = 0.0"
   ]
  },
  {
   "cell_type": "code",
   "execution_count": 8,
   "metadata": {},
   "outputs": [],
   "source": [
    "day_by_day = np.load('./day_by_day_ratings.npy', allow_pickle=True).item()"
   ]
  },
  {
   "cell_type": "code",
   "execution_count": 9,
   "metadata": {},
   "outputs": [],
   "source": [
    "from bisect import *\n",
    "def index(a, x):\n",
    "    'Locate the leftmost value exactly equal to x'\n",
    "    i = bisect_left(a, x)\n",
    "    if i != len(a) and a[i] == x:\n",
    "        return i\n",
    "    raise ValueError\n",
    "\n",
    "def find_lt(a, x):\n",
    "    'Find rightmost value less than x'\n",
    "    i = bisect_left(a, x)\n",
    "    if i:\n",
    "        return a[i-1]\n",
    "    raise ValueError\n",
    "\n",
    "def find_le(a, x):\n",
    "    'Find rightmost value less than or equal to x'\n",
    "    i = bisect_right(a, x)\n",
    "    if i:\n",
    "        return a[i-1]\n",
    "    raise ValueError\n",
    "\n",
    "def find_gt(a, x):\n",
    "    'Find leftmost value greater than x'\n",
    "    i = bisect_right(a, x)\n",
    "    if i != len(a):\n",
    "        return a[i]\n",
    "    raise ValueError\n",
    "\n",
    "def find_ge(a, x):\n",
    "    'Find leftmost item greater than or equal to x'\n",
    "    i = bisect_left(a, x)\n",
    "    if i != len(a):\n",
    "        return a[i]\n",
    "    raise ValueError"
   ]
  },
  {
   "cell_type": "code",
   "execution_count": 11,
   "metadata": {
    "scrolled": true
   },
   "outputs": [
    {
     "name": "stderr",
     "output_type": "stream",
     "text": [
      "3633005it [59:21, 1020.09it/s]\n"
     ]
    }
   ],
   "source": [
    "for idx, row in tqdm.tqdm(ITER.iterrows()):\n",
    "    left = day_by_day[row['X1']]\n",
    "    right = day_by_day[row['X3']]\n",
    "    \n",
    "    left_keys = list(left.keys())\n",
    "    right_keys = list(right.keys())\n",
    "    \n",
    "    curr_day_left = left[int(row['X21'])]\n",
    "    curr_day_right = right[int(row['X21'])]\n",
    "    \n",
    "    \n",
    "    try:\n",
    "        next_day_left = left[find_gt(left_keys, int(row['X21']))]\n",
    "    except:\n",
    "        next_day_left = curr_day_left\n",
    "        \n",
    "    try:\n",
    "        next_day_right = left[find_gt(right_keys, int(row['X21']))]\n",
    "    except:\n",
    "        next_day_right = curr_day_right\n",
    "        \n",
    "    try:\n",
    "        prev_day_left = left[find_lt(left_keys, int(row['X21']))]\n",
    "    except:\n",
    "        prev_day_left = curr_day_left\n",
    "        \n",
    "    try:\n",
    "        prev_day_right = left[find_lt(right_keys, int(row['X21']))]\n",
    "    except:\n",
    "        prev_day_right = curr_day_right    \n",
    "    \n",
    "    X.at[idx, 'MEAN_CURR_LEFT'] = np.mean(curr_day_left)\n",
    "    X.at[idx, 'MIN_CURR_LEFT'] = np.min(curr_day_left)\n",
    "    X.at[idx, 'MAX_CURR_LEFT'] = np.max(curr_day_left)\n",
    "    X.at[idx, 'STD_CURR_LEFT'] = np.std(curr_day_left)\n",
    "    X.at[idx, 'PERCENTILE_CURR_LEFT'] = scipy.stats.percentileofscore(curr_day_left, row['X2'])\n",
    "    \n",
    "    X.at[idx, 'MEAN_CURR_RIGHT'] = np.mean(curr_day_right)\n",
    "    X.at[idx, 'MIN_CURR_RIGHT'] = np.min(curr_day_right)\n",
    "    X.at[idx, 'MAX_CURR_RIGHT'] = np.max(curr_day_right)\n",
    "    X.at[idx, 'STD_CURR_RIGHT'] = np.std(curr_day_right)\n",
    "    X.at[idx, 'PERCENTILE_CURR_RIGHT'] = scipy.stats.percentileofscore(curr_day_right, row['X4'])\n",
    "  \n",
    "\n",
    "    X.at[idx, 'MEAN_PREV_LEFT'] = np.mean(prev_day_left)\n",
    "    X.at[idx, 'MIN_PREV_LEFT'] = np.min(prev_day_left)\n",
    "    X.at[idx, 'MAX_PREV_LEFT'] = np.max(prev_day_left)\n",
    "    X.at[idx, 'STD_PREV_LEFT'] = np.std(prev_day_left)\n",
    "    X.at[idx, 'PERCENTILE_PREV_LEFT'] = scipy.stats.percentileofscore(prev_day_left, row['X2'])\n",
    "    \n",
    "    X.at[idx, 'MEAN_PREV_RIGHT'] = np.mean(prev_day_right)\n",
    "    X.at[idx, 'MIN_PREV_RIGHT'] = np.min(prev_day_right)\n",
    "    X.at[idx, 'MAX_PREV_RIGHT'] = np.max(prev_day_right)\n",
    "    X.at[idx, 'STD_PREV_RIGHT'] = np.std(prev_day_right)\n",
    "    X.at[idx, 'PERCENTILE_PREV_RIGHT'] = scipy.stats.percentileofscore(prev_day_right, row['X4'])\n",
    "    \n",
    "    \n",
    "    X.at[idx, 'MEAN_NEXT_LEFT'] = np.mean(next_day_left)\n",
    "    X.at[idx, 'MIN_NEXT_LEFT'] = np.min(next_day_left)\n",
    "    X.at[idx, 'MAX_NEXT_LEFT'] = np.max(next_day_left)\n",
    "    X.at[idx, 'STD_NEXT_LEFT'] = np.std(next_day_left)\n",
    "    X.at[idx, 'PERCENTILE_NEXT_LEFT'] = scipy.stats.percentileofscore(next_day_left, row['X2'])\n",
    "    \n",
    "    X.at[idx, 'MEAN_NEXT_RIGHT'] = np.mean(next_day_right)\n",
    "    X.at[idx, 'MIN_NEXT_RIGHT'] = np.min(next_day_right)\n",
    "    X.at[idx, 'MAX_NEXT_RIGHT'] = np.max(next_day_right)\n",
    "    X.at[idx, 'STD_NEXT_RIGHT'] = np.std(next_day_right)\n",
    "    X.at[idx, 'PERCENTILE_NEXT_RIGHT'] = scipy.stats.percentileofscore(next_day_right, row['X4'])"
   ]
  },
  {
   "cell_type": "code",
   "execution_count": 12,
   "metadata": {},
   "outputs": [],
   "source": [
    "#X.to_csv('G:\\X_with_prev_next_days.csv')"
   ]
  },
  {
   "cell_type": "code",
   "execution_count": 6,
   "metadata": {},
   "outputs": [],
   "source": [
    "import dask.dataframe as dd"
   ]
  },
  {
   "cell_type": "code",
   "execution_count": 7,
   "metadata": {},
   "outputs": [],
   "source": [
    "types = {}"
   ]
  },
  {
   "cell_type": "code",
   "execution_count": 8,
   "metadata": {},
   "outputs": [],
   "source": [
    "for key in dict(dd.read_csv('G:/X_rating_and_playrate_and_prev_next_day.csv').dtypes).keys():\n",
    "    types[key] = np.float32"
   ]
  },
  {
   "cell_type": "code",
   "execution_count": 9,
   "metadata": {},
   "outputs": [],
   "source": [
    "X = pd.read_csv('G:/X_rating_and_playrate_and_prev_next_day.csv', dtype=types)"
   ]
  },
  {
   "cell_type": "code",
   "execution_count": 10,
   "metadata": {},
   "outputs": [],
   "source": [
    "X['X0'] = X['X0'].astype(str)"
   ]
  },
  {
   "cell_type": "code",
   "execution_count": 11,
   "metadata": {},
   "outputs": [],
   "source": [
    "X['MAX_MIN_PREV_LEFT'] = (X['MAX_PREV_LEFT'] - X['MIN_PREV_LEFT']) / X['MEAN_PREV_LEFT']\n",
    "X['MAX_TO_MEAN_PREV_LEFT'] = X['MAX_PREV_LEFT'] / X['MEAN_PREV_LEFT']\n",
    "X['MIN_TO_MEAN_PREV_LEFT'] = X['MIN_PREV_LEFT'] / X['MEAN_PREV_LEFT']\n",
    "X['STD_TO_MEAN_PREV_LEFT'] = X['STD_PREV_LEFT'] / X['MEAN_PREV_LEFT']\n",
    "\n",
    "X['MAX_MIN_PREV_RIGHT'] = (X['MAX_PREV_RIGHT'] - X['MIN_PREV_RIGHT']) / X['MEAN_PREV_RIGHT']\n",
    "X['MAX_TO_MEAN_PREV_RIGHT'] = X['MAX_PREV_RIGHT'] / X['MEAN_PREV_RIGHT']\n",
    "X['MIN_TO_MEAN_PREV_RIGHT'] = X['MIN_PREV_RIGHT'] / X['MEAN_PREV_RIGHT']\n",
    "X['STD_TO_MEAN_PREV_RIGHT'] = X['STD_PREV_RIGHT'] / X['MEAN_PREV_RIGHT']\n",
    "\n",
    "\n",
    "\n",
    "X['MAX_MIN_CURR_LEFT'] = (X['MAX_CURR_LEFT'] - X['MIN_CURR_LEFT']) / X['MEAN_CURR_LEFT']\n",
    "X['MAX_TO_MEAN_CURR_LEFT'] = X['MAX_CURR_LEFT'] / X['MEAN_CURR_LEFT']\n",
    "X['MIN_TO_MEAN_CURR_LEFT'] = X['MIN_CURR_LEFT'] / X['MEAN_CURR_LEFT']\n",
    "X['STD_TO_MEAN_CURR_LEFT'] = X['STD_CURR_LEFT'] / X['MEAN_CURR_LEFT']\n",
    "\n",
    "X['MAX_MIN_CURR_RIGHT'] = (X['MAX_CURR_RIGHT'] - X['MIN_CURR_RIGHT']) / X['MEAN_CURR_RIGHT']\n",
    "X['MAX_TO_MEAN_CURR_RIGHT'] = X['MAX_CURR_RIGHT'] / X['MEAN_CURR_RIGHT']\n",
    "X['MIN_TO_MEAN_CURR_RIGHT'] = X['MIN_CURR_RIGHT'] / X['MEAN_CURR_RIGHT']\n",
    "X['STD_TO_MEAN_CURR_RIGHT'] = X['STD_CURR_RIGHT'] / X['MEAN_CURR_RIGHT']\n",
    "\n",
    "\n",
    "\n",
    "X['MAX_MIN_NEXT_LEFT'] = (X['MAX_NEXT_LEFT'] - X['MIN_NEXT_LEFT']) / X['MEAN_NEXT_LEFT']\n",
    "X['MAX_TO_MEAN_NEXT_LEFT'] = X['MAX_NEXT_LEFT'] / X['MEAN_NEXT_LEFT']\n",
    "X['MIN_TO_MEAN_NEXT_LEFT'] = X['MIN_NEXT_LEFT'] / X['MEAN_NEXT_LEFT']\n",
    "X['STD_TO_MEAN_NEXT_LEFT'] = X['STD_NEXT_LEFT'] / X['MEAN_NEXT_LEFT']\n",
    "\n",
    "X['MAX_MIN_NEXT_RIGHT'] = (X['MAX_NEXT_RIGHT'] - X['MIN_NEXT_RIGHT']) / X['MEAN_NEXT_RIGHT']\n",
    "X['MAX_TO_MEAN_NEXT_RIGHT'] = X['MAX_NEXT_RIGHT'] / X['MEAN_NEXT_RIGHT']\n",
    "X['MIN_TO_MEAN_NEXT_RIGHT'] = X['MIN_NEXT_RIGHT'] / X['MEAN_NEXT_RIGHT']\n",
    "X['STD_TO_MEAN_NEXT_RIGHT'] = X['STD_NEXT_RIGHT'] / X['MEAN_NEXT_RIGHT']"
   ]
  },
  {
   "cell_type": "code",
   "execution_count": 12,
   "metadata": {},
   "outputs": [],
   "source": [
    "X['PREV_MAX_DIV_MIN_LEFT'] = X['MAX_PREV_LEFT'] / X['MIN_PREV_LEFT']\n",
    "X['PREV_MAX_DIV_MIN_RIGHT'] = X['MAX_PREV_RIGHT'] / X['MIN_PREV_RIGHT']\n",
    "\n",
    "X['PREV_MAX_DIV_MEAN_LEFT'] = X['MAX_PREV_LEFT'] / X['MEAN_PREV_LEFT']\n",
    "X['PREV_MAX_DIV_MEAN_RIGHT'] = X['MAX_PREV_RIGHT'] / X['MEAN_PREV_RIGHT']\n",
    "\n",
    "X['PREV_MIN_DIV_MEAN_LEFT'] = X['MIN_PREV_LEFT'] / X['MEAN_PREV_LEFT']\n",
    "X['PREV_MIN_DIV_MEAN_RIGHT'] = X['MIN_PREV_RIGHT'] / X['MEAN_PREV_RIGHT']\n",
    "\n",
    "X['PREV_MAX_MINUS_MIN_LEFT'] = X['MAX_PREV_LEFT'] - X['MIN_PREV_LEFT']\n",
    "X['PREV_MAX_MINUS_MIN_RIGHT'] = X['MAX_PREV_RIGHT'] - X['MIN_PREV_RIGHT']\n",
    "\n",
    "X['PREV_MAX_MINUS_MEAN_LEFT'] = X['MAX_PREV_LEFT'] - X['MEAN_PREV_LEFT']\n",
    "X['PREV_MAX_MINUS_MEAN_RIGHT'] = X['MAX_PREV_RIGHT'] - X['MEAN_PREV_RIGHT']\n",
    "\n",
    "X['PREV_MEAN_MINUS_MIN_LEFT'] = X['MEAN_PREV_LEFT'] - X['MIN_PREV_LEFT']\n",
    "X['PREV_MEAN_MINUS_MIN_RIGHT'] = X['MEAN_PREV_RIGHT'] - X['MIN_PREV_RIGHT']\n",
    "\n",
    "X['PREV_CURR_DIV_MEAN_LEFT'] = X['X2'] / X['MEAN_PREV_LEFT']\n",
    "X['PREV_CURR_DIV_MEAN_RIGHT'] = X['X4'] / X['MEAN_PREV_RIGHT']\n",
    "\n",
    "X['PREV_MEAN_MINUS_CURR_LEFT'] = X['MEAN_PREV_LEFT'] - X['X2']\n",
    "X['PREV_MEAN_MINUS_CURR_RIGHT'] = X['MEAN_PREV_RIGHT'] - X['X4']\n",
    "\n",
    "X['PREV_MAX_MINUS_CURR_LEFT'] = (X['MAX_PREV_LEFT'] - X['X2']) / X['MEAN_PREV_LEFT']\n",
    "X['PREV_MAX_MINUS_CURR_RIGHT'] = (X['MAX_PREV_RIGHT'] - X['X4']) / X['MEAN_PREV_RIGHT']\n",
    "\n",
    "X['PREV_MIN_MINUS_CURR_LEFT'] = (X['MIN_PREV_LEFT'] - X['X2']) / X['MEAN_PREV_LEFT']\n",
    "X['PREV_MIN_MINUS_CURR_RIGHT'] = (X['MIN_PREV_RIGHT'] - X['X4']) / X['MEAN_PREV_RIGHT']\n",
    "\n",
    "X['PREV_STD_DIV_MEAN_LEFT'] = X['STD_PREV_LEFT'] / X['MEAN_PREV_LEFT']\n",
    "X['PREV_STD_DIV_MEAN_RIGHT'] = X['STD_PREV_RIGHT'] / X['MEAN_PREV_RIGHT']\n",
    "\n",
    "\n",
    "X['PREV_STD_DIV_CURR_LEFT'] = X['STD_PREV_LEFT'] / X['X2']\n",
    "X['PREV_STD_DIV_CURR_RIGHT'] = X['STD_PREV_RIGHT'] / X['X4']\n",
    "\n",
    "\n",
    "X['PREV_MAX_MINUS_MIN_NORMALIZED_LEFT'] = (X['MAX_PREV_LEFT'] - X['MIN_PREV_LEFT']) / X['MEAN_PREV_LEFT']\n",
    "X['PREV_MAX_MINUS_MIN_NORMALIZED_RIGHT'] = (X['MAX_PREV_RIGHT'] - X['MIN_PREV_RIGHT']) / X['MEAN_PREV_RIGHT']\n",
    "\n",
    "X['PREV_MAX_MINUS_CURR_NN_LEFT'] = X['MAX_PREV_LEFT'] - X['X2']\n",
    "X['PREV_MAX_MINUS_CURR_NN_RIGHT'] = X['MAX_PREV_RIGHT'] - X['X4']\n",
    "\n",
    "X['PREV_MIN_MINUS_CURR_NN_LEFT'] = X['MIN_PREV_LEFT'] - X['X2']\n",
    "X['PREV_MIN_MINUS_CURR_NN_RIGHT'] = X['MIN_PREV_RIGHT'] - X['X4']\n",
    "\n",
    "X['PREV_MAX_DIV_CURR_LEFT'] = X['MAX_PREV_LEFT'] / X['X2']\n",
    "X['PREV_MAX_DIV_CURR_RIGHT'] = X['MAX_PREV_RIGHT'] / X['X4']\n",
    "\n",
    "X['PREV_MIN_DIV_CURR_LEFT'] = X['MIN_PREV_LEFT'] / X['X2']\n",
    "X['PREV_MIN_DIV_CURR_RIGHT'] = X['MIN_PREV_RIGHT'] / X['X4']"
   ]
  },
  {
   "cell_type": "code",
   "execution_count": 13,
   "metadata": {},
   "outputs": [],
   "source": [
    "X['CURR_MAX_DIV_MIN_LEFT'] = X['MAX_CURR_LEFT'] / X['MIN_CURR_LEFT']\n",
    "X['CURR_MAX_DIV_MIN_RIGHT'] = X['MAX_CURR_RIGHT'] / X['MIN_CURR_RIGHT']\n",
    "\n",
    "X['CURR_MAX_DIV_MEAN_LEFT'] = X['MAX_CURR_LEFT'] / X['MEAN_CURR_LEFT']\n",
    "X['CURR_MAX_DIV_MEAN_RIGHT'] = X['MAX_CURR_RIGHT'] / X['MEAN_CURR_RIGHT']\n",
    "\n",
    "X['CURR_MIN_DIV_MEAN_LEFT'] = X['MIN_CURR_LEFT'] / X['MEAN_CURR_LEFT']\n",
    "X['CURR_MIN_DIV_MEAN_RIGHT'] = X['MIN_CURR_RIGHT'] / X['MEAN_CURR_RIGHT']\n",
    "\n",
    "X['CURR_MAX_MINUS_MIN_LEFT'] = X['MAX_CURR_LEFT'] - X['MIN_CURR_LEFT']\n",
    "X['CURR_MAX_MINUS_MIN_RIGHT'] = X['MAX_CURR_RIGHT'] - X['MIN_CURR_RIGHT']\n",
    "\n",
    "X['CURR_MAX_MINUS_MEAN_LEFT'] = X['MAX_CURR_LEFT'] - X['MEAN_CURR_LEFT']\n",
    "X['CURR_MAX_MINUS_MEAN_RIGHT'] = X['MAX_CURR_RIGHT'] - X['MEAN_CURR_RIGHT']\n",
    "\n",
    "X['CURR_MEAN_MINUS_MIN_LEFT'] = X['MEAN_CURR_LEFT'] - X['MIN_CURR_LEFT']\n",
    "X['CURR_MEAN_MINUS_MIN_RIGHT'] = X['MEAN_CURR_RIGHT'] - X['MIN_CURR_RIGHT']\n",
    "\n",
    "X['CURR_CURR_DIV_MEAN_LEFT'] = X['X2'] / X['MEAN_CURR_LEFT']\n",
    "X['CURR_CURR_DIV_MEAN_RIGHT'] = X['X4'] / X['MEAN_CURR_RIGHT']\n",
    "\n",
    "X['CURR_MEAN_MINUS_CURR_LEFT'] = X['MEAN_CURR_LEFT'] - X['X2']\n",
    "X['CURR_MEAN_MINUS_CURR_RIGHT'] = X['MEAN_CURR_RIGHT'] - X['X4']\n",
    "\n",
    "X['CURR_MAX_MINUS_CURR_LEFT'] = (X['MAX_CURR_LEFT'] - X['X2']) / X['MEAN_CURR_LEFT']\n",
    "X['CURR_MAX_MINUS_CURR_RIGHT'] = (X['MAX_CURR_RIGHT'] - X['X4']) / X['MEAN_CURR_RIGHT']\n",
    "\n",
    "X['CURR_MIN_MINUS_CURR_LEFT'] = (X['MIN_CURR_LEFT'] - X['X2']) / X['MEAN_CURR_LEFT']\n",
    "X['CURR_MIN_MINUS_CURR_RIGHT'] = (X['MIN_CURR_RIGHT'] - X['X4']) / X['MEAN_CURR_RIGHT']\n",
    "\n",
    "X['CURR_STD_DIV_MEAN_LEFT'] = X['STD_CURR_LEFT'] / X['MEAN_CURR_LEFT']\n",
    "X['CURR_STD_DIV_MEAN_RIGHT'] = X['STD_CURR_RIGHT'] / X['MEAN_CURR_RIGHT']\n",
    "\n",
    "\n",
    "X['CURR_STD_DIV_CURR_LEFT'] = X['STD_CURR_LEFT'] / X['X2']\n",
    "X['CURR_STD_DIV_CURR_RIGHT'] = X['STD_CURR_RIGHT'] / X['X4']\n",
    "\n",
    "\n",
    "X['CURR_MAX_MINUS_MIN_NORMALIZED_LEFT'] = (X['MAX_CURR_LEFT'] - X['MIN_CURR_LEFT']) / X['MEAN_CURR_LEFT']\n",
    "X['CURR_MAX_MINUS_MIN_NORMALIZED_RIGHT'] = (X['MAX_CURR_RIGHT'] - X['MIN_CURR_RIGHT']) / X['MEAN_CURR_RIGHT']\n",
    "\n",
    "X['CURR_MAX_MINUS_CURR_NN_LEFT'] = X['MAX_CURR_LEFT'] - X['X2']\n",
    "X['CURR_MAX_MINUS_CURR_NN_RIGHT'] = X['MAX_CURR_RIGHT'] - X['X4']\n",
    "\n",
    "X['CURR_MIN_MINUS_CURR_NN_LEFT'] = X['MIN_CURR_LEFT'] - X['X2']\n",
    "X['CURR_MIN_MINUS_CURR_NN_RIGHT'] = X['MIN_CURR_RIGHT'] - X['X4']\n",
    "\n",
    "X['CURR_MAX_DIV_CURR_LEFT'] = X['MAX_CURR_LEFT'] / X['X2']\n",
    "X['CURR_MAX_DIV_CURR_RIGHT'] = X['MAX_CURR_RIGHT'] / X['X4']\n",
    "\n",
    "X['CURR_MIN_DIV_CURR_LEFT'] = X['MIN_CURR_LEFT'] / X['X2']\n",
    "X['CURR_MIN_DIV_CURR_RIGHT'] = X['MIN_CURR_RIGHT'] / X['X4']"
   ]
  },
  {
   "cell_type": "code",
   "execution_count": 14,
   "metadata": {},
   "outputs": [],
   "source": [
    "X['NEXT_MAX_DIV_MIN_LEFT'] = X['MAX_NEXT_LEFT'] / X['MIN_NEXT_LEFT']\n",
    "X['NEXT_MAX_DIV_MIN_RIGHT'] = X['MAX_NEXT_RIGHT'] / X['MIN_NEXT_RIGHT']\n",
    "\n",
    "X['NEXT_MAX_DIV_MEAN_LEFT'] = X['MAX_NEXT_LEFT'] / X['MEAN_NEXT_LEFT']\n",
    "X['NEXT_MAX_DIV_MEAN_RIGHT'] = X['MAX_NEXT_RIGHT'] / X['MEAN_NEXT_RIGHT']\n",
    "\n",
    "X['NEXT_MIN_DIV_MEAN_LEFT'] = X['MIN_NEXT_LEFT'] / X['MEAN_NEXT_LEFT']\n",
    "X['NEXT_MIN_DIV_MEAN_RIGHT'] = X['MIN_NEXT_RIGHT'] / X['MEAN_NEXT_RIGHT']\n",
    "\n",
    "X['NEXT_MAX_MINUS_MIN_LEFT'] = X['MAX_NEXT_LEFT'] - X['MIN_NEXT_LEFT']\n",
    "X['NEXT_MAX_MINUS_MIN_RIGHT'] = X['MAX_NEXT_RIGHT'] - X['MIN_NEXT_RIGHT']\n",
    "\n",
    "X['NEXT_MAX_MINUS_MEAN_LEFT'] = X['MAX_NEXT_LEFT'] - X['MEAN_NEXT_LEFT']\n",
    "X['NEXT_MAX_MINUS_MEAN_RIGHT'] = X['MAX_NEXT_RIGHT'] - X['MEAN_NEXT_RIGHT']\n",
    "\n",
    "X['NEXT_MEAN_MINUS_MIN_LEFT'] = X['MEAN_NEXT_LEFT'] - X['MIN_NEXT_LEFT']\n",
    "X['NEXT_MEAN_MINUS_MIN_RIGHT'] = X['MEAN_NEXT_RIGHT'] - X['MIN_NEXT_RIGHT']\n",
    "\n",
    "X['NEXT_CURR_DIV_MEAN_LEFT'] = X['X2'] / X['MEAN_NEXT_LEFT']\n",
    "X['NEXT_CURR_DIV_MEAN_RIGHT'] = X['X4'] / X['MEAN_NEXT_RIGHT']\n",
    "\n",
    "X['NEXT_MEAN_MINUS_CURR_LEFT'] = X['MEAN_NEXT_LEFT'] - X['X2']\n",
    "X['NEXT_MEAN_MINUS_CURR_RIGHT'] = X['MEAN_NEXT_RIGHT'] - X['X4']\n",
    "\n",
    "X['NEXT_MAX_MINUS_CURR_LEFT'] = (X['MAX_NEXT_LEFT'] - X['X2']) / X['MEAN_NEXT_LEFT']\n",
    "X['NEXT_MAX_MINUS_CURR_RIGHT'] = (X['MAX_NEXT_RIGHT'] - X['X4']) / X['MEAN_CURR_RIGHT']\n",
    "\n",
    "X['NEXT_MIN_MINUS_CURR_LEFT'] = (X['MIN_NEXT_LEFT'] - X['X2']) / X['MEAN_NEXT_LEFT']\n",
    "X['NEXT_MIN_MINUS_CURR_RIGHT'] = (X['MIN_NEXT_RIGHT'] - X['X4']) / X['MEAN_NEXT_RIGHT']\n",
    "\n",
    "X['NEXT_STD_DIV_MEAN_LEFT'] = X['STD_NEXT_LEFT'] / X['MEAN_NEXT_LEFT']\n",
    "X['NEXT_STD_DIV_MEAN_RIGHT'] = X['STD_NEXT_RIGHT'] / X['MEAN_NEXT_RIGHT']\n",
    "\n",
    "\n",
    "X['NEXT_STD_DIV_CURR_LEFT'] = X['STD_NEXT_LEFT'] / X['X2']\n",
    "X['NEXT_STD_DIV_CURR_RIGHT'] = X['STD_NEXT_RIGHT'] / X['X4']\n",
    "\n",
    "\n",
    "X['NEXT_MAX_MINUS_MIN_NORMALIZED_LEFT'] = (X['MAX_NEXT_LEFT'] - X['MIN_NEXT_LEFT']) / X['MEAN_NEXT_LEFT']\n",
    "X['NEXT_MAX_MINUS_MIN_NORMALIZED_RIGHT'] = (X['MAX_NEXT_RIGHT'] - X['MIN_NEXT_RIGHT']) / X['MEAN_NEXT_RIGHT']\n",
    "\n",
    "X['NEXT_MAX_MINUS_CURR_NN_LEFT'] = X['MAX_NEXT_LEFT'] - X['X2']\n",
    "X['NEXT_MAX_MINUS_CURR_NN_RIGHT'] = X['MAX_NEXT_RIGHT'] - X['X4']\n",
    "\n",
    "X['NEXT_MIN_MINUS_CURR_NN_LEFT'] = X['MIN_NEXT_LEFT'] - X['X2']\n",
    "X['NEXT_MIN_MINUS_CURR_NN_RIGHT'] = X['MIN_NEXT_RIGHT'] - X['X4']\n",
    "\n",
    "X['NEXT_MAX_DIV_CURR_LEFT'] = X['MAX_NEXT_LEFT'] / X['X2']\n",
    "X['NEXT_MAX_DIV_CURR_RIGHT'] = X['MAX_NEXT_RIGHT'] / X['X4']\n",
    "\n",
    "X['NEXT_MIN_DIV_CURR_LEFT'] = X['MIN_NEXT_LEFT'] / X['X2']\n",
    "X['NEXT_MIN_DIV_CURR_RIGHT'] = X['MIN_NEXT_RIGHT'] / X['X4']"
   ]
  },
  {
   "cell_type": "code",
   "execution_count": 15,
   "metadata": {},
   "outputs": [],
   "source": [
    "X['NEXT_PREV_MAX_DIV_MIN_LEFT'] = X['MAX_NEXT_LEFT'] / X['MIN_PREV_LEFT']\n",
    "X['NEXT_PREV_MAX_DIV_MIN_RIGHT'] = X['MAX_NEXT_RIGHT'] / X['MIN_PREV_RIGHT']\n",
    "\n",
    "X['NEXT_PREV_MAX_DIV_MEAN_LEFT'] = X['MAX_NEXT_LEFT'] / X['MEAN_PREV_LEFT']\n",
    "X['NEXT_PREV_MAX_DIV_MEAN_RIGHT'] = X['MAX_NEXT_RIGHT'] / X['MEAN_PREV_RIGHT']\n",
    "\n",
    "X['NEXT_PREV_MIN_DIV_MEAN_LEFT'] = X['MIN_NEXT_LEFT'] / X['MEAN_PREV_LEFT']\n",
    "X['NEXT_PREV_MIN_DIV_MEAN_RIGHT'] = X['MIN_NEXT_RIGHT'] / X['MEAN_PREV_RIGHT']\n",
    "\n",
    "X['NEXT_PREV_MAX_MINUS_MIN_LEFT'] = X['MAX_NEXT_LEFT'] - X['MIN_PREV_LEFT']\n",
    "X['NEXT_PREV_MAX_MINUS_MIN_RIGHT'] = X['MAX_NEXT_RIGHT'] - X['MIN_PREV_RIGHT']\n",
    "\n",
    "X['NEXT_PREV_MAX_MINUS_MEAN_LEFT'] = X['MAX_NEXT_LEFT'] - X['MEAN_PREV_LEFT']\n",
    "X['NEXT_PREV_MAX_MINUS_MEAN_RIGHT'] = X['MAX_NEXT_RIGHT'] - X['MEAN_PREV_RIGHT']\n",
    "\n",
    "X['NEXT_PREV_MEAN_MINUS_MIN_LEFT'] = X['MEAN_NEXT_LEFT'] - X['MIN_PREV_LEFT']\n",
    "X['NEXT_PREV_MEAN_MINUS_MIN_RIGHT'] = X['MEAN_NEXT_RIGHT'] - X['MIN_PREV_RIGHT']\n",
    "\n",
    "X['NEXT_PREV_STD_DIV_MEAN_LEFT'] = X['STD_NEXT_LEFT'] / X['MEAN_PREV_LEFT']\n",
    "X['NEXT_PREV_STD_DIV_MEAN_RIGHT'] = X['STD_NEXT_RIGHT'] / X['MEAN_PREV_RIGHT']\n",
    "\n",
    "X['NEXT_PREV_MAX_MINUS_MIN_NORMALIZED_LEFT'] = (X['MAX_NEXT_LEFT'] - X['MIN_PREV_LEFT']) / X['MEAN_NEXT_LEFT']\n",
    "X['NEXT_PREV_MAX_MINUS_MIN_NORMALIZED_RIGHT'] = (X['MAX_NEXT_RIGHT'] - X['MIN_PREV_RIGHT']) / X['MEAN_NEXT_RIGHT']\n",
    "\n"
   ]
  },
  {
   "cell_type": "code",
   "execution_count": 16,
   "metadata": {},
   "outputs": [],
   "source": [
    "X['PREV_MAX_DIV_MIN_DIFF'] = X['PREV_MAX_DIV_MIN_LEFT'] - X['PREV_MAX_DIV_MIN_RIGHT']\n",
    "X['PREV_MAX_DIV_MEAN_DIFF'] = X['PREV_MAX_DIV_MEAN_LEFT'] - X['PREV_MAX_DIV_MEAN_RIGHT']\n",
    "X['PREV_MIN_DIV_MEAN_DIFF'] = X['PREV_MIN_DIV_MEAN_LEFT'] - X['PREV_MIN_DIV_MEAN_RIGHT']\n",
    "X['PREV_MAX_MINUS_MIN_DIFF'] = X['PREV_MAX_MINUS_MIN_LEFT'] - X['PREV_MAX_MINUS_MIN_RIGHT']\n",
    "X['PREV_MAX_MINUS_MEAN_DIFF'] = X['PREV_MAX_MINUS_MEAN_LEFT'] - X['PREV_MAX_MINUS_MEAN_RIGHT']\n",
    "X['PREV_MEAN_MINUS_MIN_DIFF'] = X['PREV_MEAN_MINUS_MIN_LEFT'] - X['PREV_MEAN_MINUS_MIN_RIGHT']\n",
    "X['PREV_CURR_DIV_MEAN_DIFF'] = X['PREV_CURR_DIV_MEAN_LEFT'] - X['PREV_CURR_DIV_MEAN_RIGHT']\n",
    "X['PREV_MEAN_MINUS_CURR_DIFF'] = X['PREV_MEAN_MINUS_CURR_LEFT'] - X['PREV_MEAN_MINUS_CURR_RIGHT']\n",
    "X['PREV_MAX_MINUS_CURR_DIFF'] = X['PREV_MAX_MINUS_CURR_LEFT'] - X['PREV_MAX_MINUS_CURR_RIGHT']\n",
    "X['PREV_MIN_MINUS_CURR_DIFF'] = X['PREV_MIN_MINUS_CURR_LEFT'] - X['PREV_MIN_MINUS_CURR_RIGHT']\n",
    "\n",
    "##############################\n",
    "\n",
    "X['PREV_STD_DIV_MEAN_DIFF'] = X['PREV_STD_DIV_MEAN_LEFT'] - X['PREV_STD_DIV_MEAN_RIGHT']\n",
    "X['PREV_STD_DIV_CURR_DIFF'] = X['PREV_STD_DIV_CURR_LEFT'] - X['PREV_STD_DIV_CURR_RIGHT']\n",
    "X['PREV_MAX_MINUS_MIN_NORMALIZED_DIFF'] = X['PREV_MAX_MINUS_MIN_NORMALIZED_LEFT'] - X['PREV_MAX_MINUS_MIN_NORMALIZED_RIGHT']\n",
    "X['PREV_MAX_MINUS_CURR_NN_DIFF'] = X['PREV_MAX_MINUS_CURR_NN_LEFT'] - X['PREV_MAX_MINUS_CURR_NN_RIGHT']\n",
    "X['PREV_MIN_MINUS_CURR_NN_DIFF'] = X['PREV_MIN_MINUS_CURR_NN_LEFT'] - X['PREV_MIN_MINUS_CURR_NN_RIGHT']\n",
    "X['PREV_MAX_DIV_CURR_DIFF'] = X['PREV_MAX_DIV_CURR_LEFT'] - X['PREV_MAX_DIV_CURR_RIGHT']\n",
    "X['PREV_MIN_DIV_CURR_DIFF'] = X['PREV_MIN_DIV_CURR_LEFT'] - X['PREV_MIN_DIV_CURR_RIGHT']\n",
    "\n",
    "X['PREV_LEFT_CURR_DIV_RIGHT_MEAN'] = X['X2'] / X['MEAN_PREV_RIGHT']\n",
    "X['PREV_RIGHT_CURR_DIV_LEFT_MEAN'] = X['X4'] / X['MEAN_PREV_LEFT']\n",
    "\n",
    "X['PREV_LEFT_CURR_MINUS_RIGHT_MEAN'] = X['X2'] - X['MEAN_PREV_RIGHT']\n",
    "X['PREV_RIGHT_CURR_MINUS_LEFT_MEAN'] = X['X4'] - X['MEAN_PREV_LEFT']\n",
    "\n",
    "X['PREV_RIGHT_CURR_MINUS_LEFT_MAX'] = X['X4'] - X['MAX_PREV_LEFT']\n",
    "X['PREV_LEFT_CURR_MINUS_RIGHT_MAX'] = X['X2'] - X['MAX_PREV_RIGHT']\n",
    "\n",
    "X['PREV_RIGHT_CURR_MINUS_LEFT_MIN'] = X['X4'] - X['MIN_PREV_LEFT']\n",
    "X['PREV_LEFT_CURR_MINUS_RIGHT_MIN'] = X['X2'] - X['MIN_PREV_RIGHT']\n",
    "\n",
    "X['PREV_LEFT_STD_DIV_RIGHT_CURR'] = X['STD_PREV_LEFT'] / X['X4']\n",
    "X['PREV_RIGHT_STD_DIV_RIGHT_CURR'] = X['STD_PREV_RIGHT'] / X['X2']\n",
    "\n",
    "X['PREV_LEFT_STD_DIV_RIGHT_MEAN'] = X['STD_PREV_LEFT'] / X['MEAN_PREV_RIGHT']\n",
    "X['PREV_RIGHT_STD_DIV_LEFT_MEAN'] = X['STD_PREV_RIGHT'] / X['MEAN_PREV_LEFT']\n",
    "\n",
    "X['PREV_LEFT_CURR_DIV_RIGHT_MEAN_DIFF'] = X['PREV_LEFT_CURR_DIV_RIGHT_MEAN'] - X['PREV_RIGHT_CURR_DIV_LEFT_MEAN']\n",
    "X['PREV_LEFT_CURR_MINUS_RIGHT_MEAN_DIFF'] = X['PREV_LEFT_CURR_MINUS_RIGHT_MEAN'] - X['PREV_RIGHT_CURR_MINUS_LEFT_MEAN']\n",
    "X['PREV_RIGHT_CURR_MINUS_LEFT_MAX_DIFF'] = X['PREV_RIGHT_CURR_MINUS_LEFT_MAX'] - X['PREV_LEFT_CURR_MINUS_RIGHT_MAX']\n",
    "X['PREV_RIGHT_CURR_MINUS_LEFT_MIN_DIFF'] = X['PREV_RIGHT_CURR_MINUS_LEFT_MIN'] - X['PREV_LEFT_CURR_MINUS_RIGHT_MIN']\n",
    "X['PREV_LEFT_STD_DIV_RIGHT_CURR_DIFF'] = X['PREV_LEFT_STD_DIV_RIGHT_CURR'] - X['PREV_RIGHT_STD_DIV_RIGHT_CURR']\n",
    "X['PREV_LEFT_STD_DIV_RIGHT_MEAN'] = X['PREV_LEFT_STD_DIV_RIGHT_MEAN'] - X['PREV_RIGHT_STD_DIV_LEFT_MEAN']\n",
    "\n",
    "##############################\n",
    "X['PREV_MEAN_DIFF'] = X['MEAN_PREV_LEFT'] - X['MEAN_PREV_RIGHT']\n",
    "X['PREV_MAX_MIN_DIFF'] = X['MAX_MIN_PREV_LEFT'] - X['MAX_MIN_PREV_RIGHT']\n",
    "X['PREV_MAX_DIFF'] = X['MAX_PREV_LEFT'] - X['MAX_PREV_RIGHT']\n",
    "X['PREV_MIN_DIFF'] = X['MIN_PREV_LEFT'] - X['MIN_PREV_RIGHT']"
   ]
  },
  {
   "cell_type": "code",
   "execution_count": 17,
   "metadata": {},
   "outputs": [],
   "source": [
    "X['CURR_MAX_DIV_MIN_DIFF'] = X['CURR_MAX_DIV_MIN_LEFT'] - X['CURR_MAX_DIV_MIN_RIGHT']\n",
    "X['CURR_MAX_DIV_MEAN_DIFF'] = X['CURR_MAX_DIV_MEAN_LEFT'] - X['CURR_MAX_DIV_MEAN_RIGHT']\n",
    "X['CURR_MIN_DIV_MEAN_DIFF'] = X['CURR_MIN_DIV_MEAN_LEFT'] - X['CURR_MIN_DIV_MEAN_RIGHT']\n",
    "X['CURR_MAX_MINUS_MIN_DIFF'] = X['CURR_MAX_MINUS_MIN_LEFT'] - X['CURR_MAX_MINUS_MIN_RIGHT']\n",
    "X['CURR_MAX_MINUS_MEAN_DIFF'] = X['CURR_MAX_MINUS_MEAN_LEFT'] - X['CURR_MAX_MINUS_MEAN_RIGHT']\n",
    "X['CURR_MEAN_MINUS_MIN_DIFF'] = X['CURR_MEAN_MINUS_MIN_LEFT'] - X['CURR_MEAN_MINUS_MIN_RIGHT']\n",
    "X['CURR_CURR_DIV_MEAN_DIFF'] = X['CURR_CURR_DIV_MEAN_LEFT'] - X['CURR_CURR_DIV_MEAN_RIGHT']\n",
    "X['CURR_MEAN_MINUS_CURR_DIFF'] = X['CURR_MEAN_MINUS_CURR_LEFT'] - X['CURR_MEAN_MINUS_CURR_RIGHT']\n",
    "X['CURR_MAX_MINUS_CURR_DIFF'] = X['CURR_MAX_MINUS_CURR_LEFT'] - X['CURR_MAX_MINUS_CURR_RIGHT']\n",
    "X['CURR_MIN_MINUS_CURR_DIFF'] = X['CURR_MIN_MINUS_CURR_LEFT'] - X['CURR_MIN_MINUS_CURR_RIGHT']\n",
    "\n",
    "##############################\n",
    "\n",
    "X['CURR_STD_DIV_MEAN_DIFF'] = X['CURR_STD_DIV_MEAN_LEFT'] - X['CURR_STD_DIV_MEAN_RIGHT']\n",
    "X['CURR_STD_DIV_CURR_DIFF'] = X['CURR_STD_DIV_CURR_LEFT'] - X['CURR_STD_DIV_CURR_RIGHT']\n",
    "X['CURR_MAX_MINUS_MIN_NORMALIZED_DIFF'] = X['CURR_MAX_MINUS_MIN_NORMALIZED_LEFT'] - X['CURR_MAX_MINUS_MIN_NORMALIZED_RIGHT']\n",
    "X['CURR_MAX_MINUS_CURR_NN_DIFF'] = X['CURR_MAX_MINUS_CURR_NN_LEFT'] - X['CURR_MAX_MINUS_CURR_NN_RIGHT']\n",
    "X['CURR_MIN_MINUS_CURR_NN_DIFF'] = X['CURR_MIN_MINUS_CURR_NN_LEFT'] - X['CURR_MIN_MINUS_CURR_NN_RIGHT']\n",
    "X['CURR_MAX_DIV_CURR_DIFF'] = X['CURR_MAX_DIV_CURR_LEFT'] - X['CURR_MAX_DIV_CURR_RIGHT']\n",
    "X['CURR_MIN_DIV_CURR_DIFF'] = X['CURR_MIN_DIV_CURR_LEFT'] - X['CURR_MIN_DIV_CURR_RIGHT']\n",
    "\n",
    "X['CURR_LEFT_CURR_DIV_RIGHT_MEAN'] = X['X2'] / X['MEAN_CURR_RIGHT']\n",
    "X['CURR_RIGHT_CURR_DIV_LEFT_MEAN'] = X['X4'] / X['MEAN_CURR_LEFT']\n",
    "\n",
    "X['CURR_LEFT_CURR_MINUS_RIGHT_MEAN'] = X['X2'] - X['MEAN_CURR_RIGHT']\n",
    "X['CURR_RIGHT_CURR_MINUS_LEFT_MEAN'] = X['X4'] - X['MEAN_CURR_LEFT']\n",
    "\n",
    "X['CURR_RIGHT_CURR_MINUS_LEFT_MAX'] = X['X4'] - X['MAX_CURR_LEFT']\n",
    "X['CURR_LEFT_CURR_MINUS_RIGHT_MAX'] = X['X2'] - X['MAX_CURR_RIGHT']\n",
    "\n",
    "X['CURR_RIGHT_CURR_MINUS_LEFT_MIN'] = X['X4'] - X['MIN_CURR_LEFT']\n",
    "X['CURR_LEFT_CURR_MINUS_RIGHT_MIN'] = X['X2'] - X['MIN_CURR_RIGHT']\n",
    "\n",
    "X['CURR_LEFT_STD_DIV_RIGHT_CURR'] = X['STD_CURR_LEFT'] / X['X4']\n",
    "X['CURR_RIGHT_STD_DIV_RIGHT_CURR'] = X['STD_CURR_RIGHT'] / X['X2']\n",
    "\n",
    "X['CURR_LEFT_STD_DIV_RIGHT_MEAN'] = X['STD_CURR_LEFT'] / X['MEAN_CURR_RIGHT']\n",
    "X['CURR_RIGHT_STD_DIV_LEFT_MEAN'] = X['STD_CURR_RIGHT'] / X['MEAN_CURR_LEFT']\n",
    "\n",
    "X['CURR_LEFT_CURR_DIV_RIGHT_MEAN_DIFF'] = X['CURR_LEFT_CURR_DIV_RIGHT_MEAN'] - X['CURR_RIGHT_CURR_DIV_LEFT_MEAN']\n",
    "X['CURR_LEFT_CURR_MINUS_RIGHT_MEAN_DIFF'] = X['CURR_LEFT_CURR_MINUS_RIGHT_MEAN'] - X['CURR_RIGHT_CURR_MINUS_LEFT_MEAN']\n",
    "X['CURR_RIGHT_CURR_MINUS_LEFT_MAX_DIFF'] = X['CURR_RIGHT_CURR_MINUS_LEFT_MAX'] - X['CURR_LEFT_CURR_MINUS_RIGHT_MAX']\n",
    "X['CURR_RIGHT_CURR_MINUS_LEFT_MIN_DIFF'] = X['CURR_RIGHT_CURR_MINUS_LEFT_MIN'] - X['CURR_LEFT_CURR_MINUS_RIGHT_MIN']\n",
    "X['CURR_LEFT_STD_DIV_RIGHT_CURR_DIFF'] = X['CURR_LEFT_STD_DIV_RIGHT_CURR'] - X['CURR_RIGHT_STD_DIV_RIGHT_CURR']\n",
    "X['CURR_LEFT_STD_DIV_RIGHT_MEAN'] = X['CURR_LEFT_STD_DIV_RIGHT_MEAN'] - X['CURR_RIGHT_STD_DIV_LEFT_MEAN']\n",
    "\n",
    "##############################\n",
    "X['CURR_MEAN_DIFF'] = X['MEAN_CURR_LEFT'] - X['MEAN_CURR_RIGHT']\n",
    "X['CURR_MAX_MIN_DIFF'] = X['MAX_MIN_CURR_LEFT'] - X['MAX_MIN_CURR_RIGHT']\n",
    "X['CURR_MAX_DIFF'] = X['MAX_CURR_LEFT'] - X['MAX_CURR_RIGHT']\n",
    "X['CURR_MIN_DIFF'] = X['MIN_CURR_LEFT'] - X['MIN_CURR_RIGHT']"
   ]
  },
  {
   "cell_type": "code",
   "execution_count": 18,
   "metadata": {},
   "outputs": [],
   "source": [
    "X['NEXT_MAX_DIV_MIN_DIFF'] = X['NEXT_MAX_DIV_MIN_LEFT'] - X['NEXT_MAX_DIV_MIN_RIGHT']\n",
    "X['NEXT_MAX_DIV_MEAN_DIFF'] = X['NEXT_MAX_DIV_MEAN_LEFT'] - X['NEXT_MAX_DIV_MEAN_RIGHT']\n",
    "X['NEXT_MIN_DIV_MEAN_DIFF'] = X['NEXT_MIN_DIV_MEAN_LEFT'] - X['NEXT_MIN_DIV_MEAN_RIGHT']\n",
    "X['NEXT_MAX_MINUS_MIN_DIFF'] = X['NEXT_MAX_MINUS_MIN_LEFT'] - X['NEXT_MAX_MINUS_MIN_RIGHT']\n",
    "X['NEXT_MAX_MINUS_MEAN_DIFF'] = X['NEXT_MAX_MINUS_MEAN_LEFT'] - X['NEXT_MAX_MINUS_MEAN_RIGHT']\n",
    "X['NEXT_MEAN_MINUS_MIN_DIFF'] = X['NEXT_MEAN_MINUS_MIN_LEFT'] - X['NEXT_MEAN_MINUS_MIN_RIGHT']\n",
    "X['NEXT_CURR_DIV_MEAN_DIFF'] = X['NEXT_CURR_DIV_MEAN_LEFT'] - X['NEXT_CURR_DIV_MEAN_RIGHT']\n",
    "X['NEXT_MEAN_MINUS_CURR_DIFF'] = X['NEXT_MEAN_MINUS_CURR_LEFT'] - X['NEXT_MEAN_MINUS_CURR_RIGHT']\n",
    "X['NEXT_MAX_MINUS_CURR_DIFF'] = X['NEXT_MAX_MINUS_CURR_LEFT'] - X['NEXT_MAX_MINUS_CURR_RIGHT']\n",
    "X['NEXT_MIN_MINUS_CURR_DIFF'] = X['NEXT_MIN_MINUS_CURR_LEFT'] - X['NEXT_MIN_MINUS_CURR_RIGHT']\n",
    "\n",
    "##############################\n",
    "\n",
    "X['NEXT_STD_DIV_MEAN_DIFF'] = X['NEXT_STD_DIV_MEAN_LEFT'] - X['NEXT_STD_DIV_MEAN_RIGHT']\n",
    "X['NEXT_STD_DIV_CURR_DIFF'] = X['NEXT_STD_DIV_CURR_LEFT'] - X['NEXT_STD_DIV_CURR_RIGHT']\n",
    "X['NEXT_MAX_MINUS_MIN_NORMALIZED_DIFF'] = X['NEXT_MAX_MINUS_MIN_NORMALIZED_LEFT'] - X['NEXT_MAX_MINUS_MIN_NORMALIZED_RIGHT']\n",
    "X['NEXT_MAX_MINUS_CURR_NN_DIFF'] = X['NEXT_MAX_MINUS_CURR_NN_LEFT'] - X['NEXT_MAX_MINUS_CURR_NN_RIGHT']\n",
    "X['NEXT_MIN_MINUS_CURR_NN_DIFF'] = X['NEXT_MIN_MINUS_CURR_NN_LEFT'] - X['NEXT_MIN_MINUS_CURR_NN_RIGHT']\n",
    "X['NEXT_MAX_DIV_CURR_DIFF'] = X['NEXT_MAX_DIV_CURR_LEFT'] - X['NEXT_MAX_DIV_CURR_RIGHT']\n",
    "X['NEXT_MIN_DIV_CURR_DIFF'] = X['NEXT_MIN_DIV_CURR_LEFT'] - X['NEXT_MIN_DIV_CURR_RIGHT']\n",
    "\n",
    "X['NEXT_LEFT_CURR_DIV_RIGHT_MEAN'] = X['X2'] / X['MEAN_NEXT_RIGHT']\n",
    "X['NEXT_RIGHT_CURR_DIV_LEFT_MEAN'] = X['X4'] / X['MEAN_NEXT_LEFT']\n",
    "\n",
    "X['NEXT_LEFT_CURR_MINUS_RIGHT_MEAN'] = X['X2'] - X['MEAN_NEXT_RIGHT']\n",
    "X['NEXT_RIGHT_CURR_MINUS_LEFT_MEAN'] = X['X4'] - X['MEAN_NEXT_LEFT']\n",
    "\n",
    "X['NEXT_RIGHT_CURR_MINUS_LEFT_MAX'] = X['X4'] - X['MAX_NEXT_LEFT']\n",
    "X['NEXT_LEFT_CURR_MINUS_RIGHT_MAX'] = X['X2'] - X['MAX_NEXT_RIGHT']\n",
    "\n",
    "X['NEXT_RIGHT_CURR_MINUS_LEFT_MIN'] = X['X4'] - X['MIN_NEXT_LEFT']\n",
    "X['NEXT_LEFT_CURR_MINUS_RIGHT_MIN'] = X['X2'] - X['MIN_NEXT_RIGHT']\n",
    "\n",
    "X['NEXT_LEFT_STD_DIV_RIGHT_CURR'] = X['STD_NEXT_LEFT'] / X['X4']\n",
    "X['NEXT_RIGHT_STD_DIV_RIGHT_CURR'] = X['STD_NEXT_RIGHT'] / X['X2']\n",
    "\n",
    "X['NEXT_LEFT_STD_DIV_RIGHT_MEAN'] = X['STD_NEXT_LEFT'] / X['MEAN_NEXT_RIGHT']\n",
    "X['NEXT_RIGHT_STD_DIV_LEFT_MEAN'] = X['STD_NEXT_RIGHT'] / X['MEAN_NEXT_LEFT']\n",
    "\n",
    "X['NEXT_LEFT_CURR_DIV_RIGHT_MEAN_DIFF'] = X['NEXT_LEFT_CURR_DIV_RIGHT_MEAN'] - X['NEXT_RIGHT_CURR_DIV_LEFT_MEAN']\n",
    "X['NEXT_LEFT_CURR_MINUS_RIGHT_MEAN_DIFF'] = X['NEXT_LEFT_CURR_MINUS_RIGHT_MEAN'] - X['NEXT_RIGHT_CURR_MINUS_LEFT_MEAN']\n",
    "X['NEXT_RIGHT_CURR_MINUS_LEFT_MAX_DIFF'] = X['NEXT_RIGHT_CURR_MINUS_LEFT_MAX'] - X['NEXT_LEFT_CURR_MINUS_RIGHT_MAX']\n",
    "X['NEXT_RIGHT_CURR_MINUS_LEFT_MIN_DIFF'] = X['NEXT_RIGHT_CURR_MINUS_LEFT_MIN'] - X['NEXT_LEFT_CURR_MINUS_RIGHT_MIN']\n",
    "X['NEXT_LEFT_STD_DIV_RIGHT_CURR_DIFF'] = X['NEXT_LEFT_STD_DIV_RIGHT_CURR'] - X['NEXT_RIGHT_STD_DIV_RIGHT_CURR']\n",
    "X['NEXT_LEFT_STD_DIV_RIGHT_MEAN'] = X['NEXT_LEFT_STD_DIV_RIGHT_MEAN'] - X['NEXT_RIGHT_STD_DIV_LEFT_MEAN']\n",
    "\n",
    "##############################\n",
    "X['NEXT_MEAN_DIFF'] = X['MEAN_NEXT_LEFT'] - X['MEAN_NEXT_RIGHT']\n",
    "X['NEXT_MAX_MIN_DIFF'] = X['MAX_MIN_NEXT_LEFT'] - X['MAX_MIN_NEXT_RIGHT']\n",
    "X['NEXT_MAX_DIFF'] = X['MAX_NEXT_LEFT'] - X['MAX_NEXT_RIGHT']\n",
    "X['NEXT_MIN_DIFF'] = X['MIN_NEXT_LEFT'] - X['MIN_NEXT_RIGHT']"
   ]
  },
  {
   "cell_type": "code",
   "execution_count": 19,
   "metadata": {},
   "outputs": [],
   "source": [
    "X['PERCENTILE_PREV_DIFF'] = X['PERCENTILE_PREV_LEFT'] - X['PERCENTILE_PREV_RIGHT']\n",
    "X['PERCENTILE_CURR_DIFF'] = X['PERCENTILE_CURR_LEFT'] - X['PERCENTILE_CURR_RIGHT']\n",
    "X['PERCENTILE_NEXT_DIFF'] = X['PERCENTILE_NEXT_LEFT'] - X['PERCENTILE_NEXT_RIGHT']\n",
    "X['PERCENTILE_NEXT_PREV_CROSS_DIFF'] = X['PERCENTILE_NEXT_LEFT'] - X['PERCENTILE_PREV_RIGHT']\n",
    "X['PERCENTILE_NEXT_PREV_LEFT'] = X['PERCENTILE_NEXT_LEFT'] - X['PERCENTILE_PREV_LEFT']\n",
    "X['PERCENTILE_NEXT_PREV_RIGHT'] = X['PERCENTILE_NEXT_RIGHT'] - X['PERCENTILE_PREV_RIGHT']\n",
    "X['PERCENTILE_NEXT_PREV_DIFF'] = X['PERCENTILE_NEXT_PREV_LEFT'] - X['PERCENTILE_NEXT_PREV_RIGHT']"
   ]
  },
  {
   "cell_type": "code",
   "execution_count": 20,
   "metadata": {},
   "outputs": [],
   "source": [
    "X['NEXT_PREV_MAX_DIV_MIN_DIFF'] = X['NEXT_PREV_MAX_DIV_MIN_LEFT'] - X['NEXT_PREV_MAX_DIV_MIN_RIGHT']\n",
    "X['NEXT_PREV_MAX_DIV_MEAN_DIFF'] = X['NEXT_PREV_MAX_DIV_MEAN_LEFT'] - X['NEXT_PREV_MAX_DIV_MEAN_RIGHT']\n",
    "X['NEXT_PREV_MIN_DIV_MEAN_DIFF'] = X['NEXT_PREV_MIN_DIV_MEAN_LEFT'] - X['NEXT_PREV_MIN_DIV_MEAN_RIGHT']\n",
    "X['NEXT_PREV_MAX_MINUS_MIN_DIFF'] = X['NEXT_PREV_MAX_MINUS_MIN_LEFT'] - X['NEXT_PREV_MAX_MINUS_MIN_RIGHT']\n",
    "X['NEXT_PREV_MAX_MINUS_MEAN_DIFF'] = X['NEXT_PREV_MAX_MINUS_MEAN_LEFT'] - X['NEXT_PREV_MAX_MINUS_MEAN_RIGHT']\n",
    "X['NEXT_PREV_MEAN_MINUS_MIN_DIFF'] = X['NEXT_PREV_MEAN_MINUS_MIN_LEFT'] - X['NEXT_PREV_MEAN_MINUS_MIN_RIGHT']\n",
    "\n",
    "##############################\n",
    "\n",
    "X['NEXT_PREV_STD_DIV_MEAN_DIFF'] = X['NEXT_PREV_STD_DIV_MEAN_LEFT'] - X['NEXT_PREV_STD_DIV_MEAN_RIGHT']\n",
    "X['NEXT_PREV_MAX_MINUS_MIN_NORMALIZED_DIFF'] = X['NEXT_PREV_MAX_MINUS_MIN_NORMALIZED_LEFT'] - X['NEXT_PREV_MAX_MINUS_MIN_NORMALIZED_RIGHT']\n",
    "\n",
    "##############################\n",
    "X['NEXT_PREV_MEAN_LEFT']= X['MEAN_NEXT_LEFT'] - X['MEAN_PREV_LEFT']\n",
    "X['NEXT_PREV_MEAN_RIGHT']= X['MEAN_NEXT_RIGHT'] - X['MEAN_PREV_RIGHT']\n",
    "X['NEXT_PREV_MAX_LEFT']= X['MAX_NEXT_LEFT'] - X['MAX_PREV_LEFT']\n",
    "X['NEXT_PREV_MAX_RIGHT']= X['MAX_NEXT_RIGHT'] - X['MAX_PREV_RIGHT']\n",
    "X['NEXT_PREV_MIN_LEFT']= X['MIN_NEXT_LEFT'] - X['MIN_PREV_LEFT']\n",
    "X['NEXT_PREV_MIN_RIGHT']= X['MIN_NEXT_RIGHT'] - X['MIN_PREV_RIGHT']\n",
    "\n",
    "X['NEXT_PREV_MEAN_DIFF'] = X['NEXT_PREV_MEAN_LEFT'] - X['NEXT_PREV_MEAN_RIGHT']\n",
    "X['NEXT_PREV_MAX_DIFF'] = X['NEXT_PREV_MAX_LEFT'] - X['NEXT_PREV_MAX_RIGHT']\n",
    "X['NEXT_PREV_MIN_DIFF'] = X['NEXT_PREV_MIN_LEFT'] - X['NEXT_PREV_MIN_RIGHT']"
   ]
  },
  {
   "cell_type": "markdown",
   "metadata": {},
   "source": [
    "# Глобальные рейтинги"
   ]
  },
  {
   "cell_type": "code",
   "execution_count": 5,
   "metadata": {},
   "outputs": [],
   "source": [
    "X['MEAN_LEFT'] = 0.0\n",
    "X['MIN_LEFT'] = 0.0\n",
    "X['MAX_LEFT'] = 0.0\n",
    "X['STD_LEFT'] = 0.0\n",
    "X['MAX_MIN_LEFT'] = 0.0\n",
    "X['MAX_TO_MEAN_LEFT'] = 0.0\n",
    "X['MIN_TO_MEAN_LEFT'] = 0.0\n",
    "X['STD_TO_MEAN_LEFT'] = 0.0\n",
    "\n",
    "\n",
    "X['MEAN_RIGHT'] = 0.0\n",
    "X['MIN_RIGHT'] = 0.0\n",
    "X['MAX_RIGHT'] = 0.0\n",
    "X['STD_RIGHT'] = 0.0\n",
    "X['MAX_MIN_RIGHT'] = 0.0\n",
    "X['MAX_TO_MEAN_RIGHT'] = 0.0\n",
    "X['MIN_TO_MEAN_RIGHT'] = 0.0\n",
    "X['STD_TO_MEAN_RIGHT'] = 0.0"
   ]
  },
  {
   "cell_type": "code",
   "execution_count": 36,
   "metadata": {},
   "outputs": [],
   "source": [
    "user_rating_stats = np.load('./user_rating_stats_full.npy', allow_pickle=True).item()"
   ]
  },
  {
   "cell_type": "code",
   "execution_count": 11,
   "metadata": {},
   "outputs": [
    {
     "name": "stderr",
     "output_type": "stream",
     "text": [
      "C:\\Users\\andry\\Anaconda3\\envs\\subjectify\\lib\\site-packages\\ipykernel_launcher.py:1: TqdmDeprecationWarning: This function will be removed in tqdm==5.0.0\n",
      "Please use `tqdm.notebook.tqdm` instead of `tqdm.tqdm_notebook`\n",
      "  \"\"\"Entry point for launching an IPython kernel.\n"
     ]
    },
    {
     "data": {
      "application/vnd.jupyter.widget-view+json": {
       "model_id": "6a803fea1909452aaadebc2f79bc97f0",
       "version_major": 2,
       "version_minor": 0
      },
      "text/plain": [
       "HBox(children=(FloatProgress(value=1.0, bar_style='info', layout=Layout(width='20px'), max=1.0), HTML(value=''…"
      ]
     },
     "metadata": {},
     "output_type": "display_data"
    },
    {
     "name": "stdout",
     "output_type": "stream",
     "text": [
      "\n"
     ]
    }
   ],
   "source": [
    "for idx, row in tqdm.tqdm_notebook(X.iterrows()):\n",
    "    left = user_rating_stats[row['X1']]\n",
    "    right = user_rating_stats[row['X3']]\n",
    "    X.at[idx, 'MEAN_LEFT'] = left[0]\n",
    "    X.at[idx, 'MAX_LEFT'] = left[1]\n",
    "    X.at[idx, 'MIN_LEFT'] = left[2]\n",
    "    X.at[idx, 'STD_LEFT'] = left[3]\n",
    "    X.at[idx, 'MAX_MIN_LEFT'] = (left[1] - left[2]) / left[0]\n",
    "    X.at[idx, 'MAX_TO_MEAN_LEFT'] = left[1] / left[0]\n",
    "    X.at[idx, 'MIN_TO_MEAN_LEFT'] = left[2] / left[0]\n",
    "    X.at[idx, 'STD_TO_MEAN_LEFT'] = left[3] / left[0]\n",
    "    \n",
    "    \n",
    "    X.at[idx, 'MEAN_RIGHT'] = right[0]\n",
    "    X.at[idx, 'MAX_RIGHT'] = right[1]\n",
    "    X.at[idx, 'MIN_RIGHT'] = right[2]\n",
    "    X.at[idx, 'STD_RIGHT'] = right[3]\n",
    "    X.at[idx, 'MAX_MIN_RIGHT'] = (right[1] - right[2]) / right[0]\n",
    "    X.at[idx, 'MAX_TO_MEAN_RIGHT'] = right[1] / right[0]\n",
    "    X.at[idx, 'MIN_TO_MEAN_RIGHT'] = right[2] / right[0]\n",
    "    X.at[idx, 'STD_TO_MEAN_RIGHT'] = right[3] / right[0]"
   ]
  },
  {
   "cell_type": "code",
   "execution_count": 11,
   "metadata": {},
   "outputs": [],
   "source": [
    "#TEST = pd.read_csv('G:/TEST.csv')"
   ]
  },
  {
   "cell_type": "code",
   "execution_count": 21,
   "metadata": {},
   "outputs": [],
   "source": [
    "# X['1HERO_AVG_WINRATE'] = (X['1HERO_1_WINRATE'] + \n",
    "#                          X['1HERO_2_WINRATE'] +\n",
    "#                          X['1HERO_3_WINRATE'] + \n",
    "#                          X['1HERO_4_WINRATE'] + \n",
    "#                          X['1HERO_5_WINRATE'] + \n",
    "#                          X['1HERO_6_WINRATE'] + \n",
    "#                          X['1HERO_7_WINRATE'] + \n",
    "#                          X['1HERO_8_WINRATE']) / 8   \n",
    "                            \n",
    "# X['2HERO_AVG_WINRATE'] = (X['2HERO_1_WINRATE'] + \n",
    "#                          X['2HERO_2_WINRATE'] +\n",
    "#                          X['2HERO_3_WINRATE'] + \n",
    "#                          X['2HERO_4_WINRATE'] + \n",
    "#                          X['2HERO_5_WINRATE'] + \n",
    "#                          X['2HERO_6_WINRATE'] + \n",
    "#                          X['2HERO_7_WINRATE'] + \n",
    "#                          X['2HERO_8_WINRATE']) / 8   \n",
    "\n",
    "\n",
    "# X['1HERO_AVG_PLAYRATE'] = (X['1HERO_1_PLAYRATE'] + \n",
    "#                          X['1HERO_2_PLAYRATE'] +\n",
    "#                          X['1HERO_3_PLAYRATE'] + \n",
    "#                          X['1HERO_4_PLAYRATE'] + \n",
    "#                          X['1HERO_5_PLAYRATE'] + \n",
    "#                          X['1HERO_6_PLAYRATE'] + \n",
    "#                          X['1HERO_7_PLAYRATE'] + \n",
    "#                          X['1HERO_8_PLAYRATE']) / 8   \n",
    "                            \n",
    "# X['2HERO_AVG_PLAYRATE'] = (X['2HERO_1_PLAYRATE'] + \n",
    "#                          X['2HERO_2_PLAYRATE'] +\n",
    "#                          X['2HERO_3_PLAYRATE'] + \n",
    "#                          X['2HERO_4_PLAYRATE'] + \n",
    "#                          X['2HERO_5_PLAYRATE'] + \n",
    "#                          X['2HERO_6_PLAYRATE'] + \n",
    "#                          X['2HERO_7_PLAYRATE'] + \n",
    "#                          X['2HERO_8_PLAYRATE']) / 8   "
   ]
  },
  {
   "cell_type": "code",
   "execution_count": 22,
   "metadata": {},
   "outputs": [],
   "source": [
    "# X['HERO_WINRATE_DIFF'] = X['1HERO_AVG_WINRATE'] - X['2HERO_AVG_WINRATE']\n",
    "# X['HERO_PLAYRATE_DIFF'] = X['1HERO_AVG_PLAYRATE'] - X['2HERO_AVG_PLAYRATE']"
   ]
  },
  {
   "cell_type": "code",
   "execution_count": 23,
   "metadata": {},
   "outputs": [
    {
     "data": {
      "text/plain": [
       "<seaborn.axisgrid.FacetGrid at 0x21566b8d988>"
      ]
     },
     "execution_count": 23,
     "metadata": {},
     "output_type": "execute_result"
    },
    {
     "data": {
      "image/png": "[encoded data removed]",
      "text/plain": [
       "<Figure size 360x360 with 1 Axes>"
      ]
     },
     "metadata": {
      "needs_background": "light"
     },
     "output_type": "display_data"
    }
   ],
   "source": [
    "# sns.displot(X['1HERO_AVG_WINRATE'])"
   ]
  },
  {
   "cell_type": "code",
   "execution_count": 14,
   "metadata": {},
   "outputs": [
    {
     "name": "stderr",
     "output_type": "stream",
     "text": [
      "C:\\Users\\andry\\Anaconda3\\envs\\subjectify\\lib\\site-packages\\ipykernel_launcher.py:1: TqdmDeprecationWarning: This function will be removed in tqdm==5.0.0\n",
      "Please use `tqdm.notebook.tqdm` instead of `tqdm.tqdm_notebook`\n",
      "  \"\"\"Entry point for launching an IPython kernel.\n"
     ]
    },
    {
     "data": {
      "application/vnd.jupyter.widget-view+json": {
       "model_id": "2ab5e170f7d54238a10a14d8ccd6fae0",
       "version_major": 2,
       "version_minor": 0
      },
      "text/plain": [
       "HBox(children=(FloatProgress(value=1.0, bar_style='info', layout=Layout(width='20px'), max=1.0), HTML(value=''…"
      ]
     },
     "metadata": {},
     "output_type": "display_data"
    },
    {
     "name": "stdout",
     "output_type": "stream",
     "text": [
      "\n"
     ]
    }
   ],
   "source": [
    "# X['1ST_GREATHER_THAN2'] = 0.0\n",
    "# for idx, row in tqdm.tqdm_notebook(X.iterrows()):\n",
    "#     if row['1USER_WINRATE'] == -1 or row['2USER_WINRATE'] == -1:\n",
    "#         X.at[idx, '1ST_GREATHER_THAN2'] = -1\n",
    "#     elif row['1USER_WINRATE'] > row['2USER_WINRATE']:\n",
    "#         X.at[idx, '1ST_GREATHER_THAN2'] = 1\n",
    "#     else:\n",
    "#         X.at[idx, '1ST_GREATHER_THAN2'] = 0"
   ]
  },
  {
   "cell_type": "markdown",
   "metadata": {},
   "source": [
    "В винрейтах пользователей сильный лик!"
   ]
  },
  {
   "cell_type": "code",
   "execution_count": 18,
   "metadata": {},
   "outputs": [
    {
     "data": {
      "text/plain": [
       "0.6723917036743832"
      ]
     },
     "execution_count": 18,
     "metadata": {},
     "output_type": "execute_result"
    }
   ],
   "source": [
    "sklearn.metrics.log_loss(y, np.array(list(X['1ST_GREATHER_THAN2'])).clip(0.38, 0.62))"
   ]
  },
  {
   "cell_type": "code",
   "execution_count": 24,
   "metadata": {},
   "outputs": [],
   "source": [
    "import sklearn\n",
    "import scipy"
   ]
  },
  {
   "cell_type": "code",
   "execution_count": 26,
   "metadata": {},
   "outputs": [],
   "source": [
    "COUNTERINGS = np.load('./counterings_new.npy')[:, 0]\n",
    "X['counterings'] = COUNTERINGS.astype(np.float32)"
   ]
  },
  {
   "cell_type": "code",
   "execution_count": 27,
   "metadata": {},
   "outputs": [
    {
     "name": "stderr",
     "output_type": "stream",
     "text": [
      "C:\\Users\\andry\\Anaconda3\\envs\\subjectify\\lib\\site-packages\\ipykernel_launcher.py:3: TqdmDeprecationWarning: This function will be removed in tqdm==5.0.0\n",
      "Please use `tqdm.notebook.tqdm` instead of `tqdm.tqdm_notebook`\n",
      "  This is separate from the ipykernel package so we can avoid doing imports until\n"
     ]
    },
    {
     "data": {
      "application/vnd.jupyter.widget-view+json": {
       "model_id": "b54ec573061945f1b76f41837a3d5a22",
       "version_major": 2,
       "version_minor": 0
      },
      "text/plain": [
       "HBox(children=(FloatProgress(value=0.0, max=970949.0), HTML(value='')))"
      ]
     },
     "metadata": {},
     "output_type": "display_data"
    },
    {
     "name": "stdout",
     "output_type": "stream",
     "text": [
      "\n"
     ]
    }
   ],
   "source": [
    "user_outs = np.load('./user_outs.npy', allow_pickle=True)\n",
    "user_history = {}\n",
    "for usr, data in tqdm.tqdm_notebook(user_outs):\n",
    "    user_history[usr] = data"
   ]
  },
  {
   "cell_type": "code",
   "execution_count": 29,
   "metadata": {},
   "outputs": [],
   "source": [
    "ITER = X[['X1', 'X3', 'X2', 'X4']]"
   ]
  },
  {
   "cell_type": "code",
   "execution_count": 30,
   "metadata": {},
   "outputs": [
    {
     "name": "stderr",
     "output_type": "stream",
     "text": [
      "C:\\Users\\andry\\Anaconda3\\envs\\subjectify\\lib\\site-packages\\ipykernel_launcher.py:4: TqdmDeprecationWarning: This function will be removed in tqdm==5.0.0\n",
      "Please use `tqdm.notebook.tqdm` instead of `tqdm.tqdm_notebook`\n",
      "  after removing the cwd from sys.path.\n"
     ]
    },
    {
     "data": {
      "application/vnd.jupyter.widget-view+json": {
       "model_id": "b8e5195d52f1417581087d8505e7e27f",
       "version_major": 2,
       "version_minor": 0
      },
      "text/plain": [
       "HBox(children=(FloatProgress(value=1.0, bar_style='info', layout=Layout(width='20px'), max=1.0), HTML(value=''…"
      ]
     },
     "metadata": {},
     "output_type": "display_data"
    },
    {
     "name": "stdout",
     "output_type": "stream",
     "text": [
      "\n"
     ]
    }
   ],
   "source": [
    "X['PERCENTILE_LEFT'] = 0.0\n",
    "X['PERCENTILE_RIGHT'] = 0.0\n",
    "\n",
    "for idx, row in tqdm.tqdm_notebook(ITER.iterrows()):\n",
    "    left = user_history[row['X1']]\n",
    "    right = user_history[row['X3']]\n",
    "    X.at[idx, 'PERCENTILE_LEFT'] = scipy.stats.percentileofscore(left, row['X2'])\n",
    "    X.at[idx, 'PERCENTILE_RIGHT'] = scipy.stats.percentileofscore(right, row['X4'])\n",
    "\n",
    "X['PERCENTILE_DIFF'] = X['PERCENTILE_LEFT'] - X['PERCENTILE_RIGHT']    "
   ]
  },
  {
   "cell_type": "code",
   "execution_count": 31,
   "metadata": {},
   "outputs": [],
   "source": [
    "X.drop(['Unnamed: 0', 'Unnamed: 0.1', 'Unnamed: 0.1.1', \n",
    "        'X1', 'X3', 'X5', 'X6', 'X7', 'X8', 'X9', 'X10', 'X11', 'X12', \n",
    "        'X13', 'X14', 'X15', 'X16', 'X17','X18', 'X19', 'X20',], axis=1, inplace=True)"
   ]
  },
  {
   "cell_type": "code",
   "execution_count": 32,
   "metadata": {},
   "outputs": [],
   "source": [
    "X['MAX_DIV_MIN_LEFT'] = X['MAX_LEFT'] / X['MIN_LEFT']\n",
    "X['MAX_DIV_MIN_RIGHT'] = X['MAX_RIGHT'] / X['MIN_RIGHT']\n",
    "\n",
    "X['MAX_DIV_MEAN_LEFT'] = X['MAX_LEFT'] / X['MEAN_LEFT']\n",
    "X['MAX_DIV_MEAN_RIGHT'] = X['MAX_RIGHT'] / X['MEAN_RIGHT']\n",
    "\n",
    "X['MIN_DIV_MEAN_LEFT'] = X['MIN_LEFT'] / X['MEAN_LEFT']\n",
    "X['MIN_DIV_MEAN_RIGHT'] = X['MIN_RIGHT'] / X['MEAN_RIGHT']\n",
    "\n",
    "X['MAX_MINUS_MIN_LEFT'] = X['MAX_LEFT'] - X['MIN_LEFT']\n",
    "X['MAX_MINUS_MIN_RIGHT'] = X['MAX_RIGHT'] - X['MIN_RIGHT']\n",
    "\n",
    "X['MAX_MINUS_MEAN_LEFT'] = X['MAX_LEFT'] - X['MEAN_LEFT']\n",
    "X['MAX_MINUS_MEAN_RIGHT'] = X['MAX_RIGHT'] - X['MEAN_RIGHT']\n",
    "\n",
    "X['MEAN_MINUS_MIN_LEFT'] = X['MEAN_LEFT'] - X['MIN_LEFT']\n",
    "X['MEAN_MINUS_MIN_RIGHT'] = X['MEAN_RIGHT'] - X['MIN_RIGHT']\n",
    "\n",
    "X['CURR_DIV_MEAN_LEFT'] = X['X2'] / X['MEAN_LEFT']\n",
    "X['CURR_DIV_MEAN_RIGHT'] = X['X4'] / X['MEAN_RIGHT']\n",
    "\n",
    "X['MEAN_MINUS_CURR_LEFT'] = X['MEAN_LEFT'] - X['X2']\n",
    "X['MEAN_MINUS_CURR_RIGHT'] = X['MEAN_RIGHT'] - X['X4']\n",
    "\n",
    "X['MAX_MINUS_CURR_LEFT'] = (X['MAX_LEFT'] - X['X2']) / X['MEAN_LEFT']\n",
    "X['MAX_MINUS_CURR_RIGHT'] = (X['MAX_RIGHT'] - X['X4']) / X['MEAN_RIGHT']\n",
    "\n",
    "X['MIN_MINUS_CURR_LEFT'] = (X['MIN_LEFT'] - X['X2']) / X['MEAN_LEFT']\n",
    "X['MIN_MINUS_CURR_RIGHT'] = (X['MIN_RIGHT'] - X['X4']) / X['MEAN_RIGHT']\n",
    "\n",
    "######################################################\n",
    "X['STD_DIV_MEAN_LEFT'] = X['STD_LEFT'] / X['MEAN_LEFT']\n",
    "X['STD_DIV_MEAN_RIGHT'] = X['STD_RIGHT'] / X['MEAN_RIGHT']\n",
    "\n",
    "\n",
    "X['STD_DIV_CURR_LEFT'] = X['STD_LEFT'] / X['X2']\n",
    "X['STD_DIV_CURR_RIGHT'] = X['STD_RIGHT'] / X['X4']\n",
    "\n",
    "\n",
    "X['MAX_MINUS_MIN_NORMALIZED_LEFT'] = (X['MAX_LEFT'] - X['MIN_LEFT']) / X['MEAN_LEFT']\n",
    "X['MAX_MINUS_MIN_NORMALIZED_RIGHT'] = (X['MAX_RIGHT'] - X['MIN_RIGHT']) / X['MEAN_RIGHT']\n",
    "\n",
    "X['MAX_MINUS_CURR_NN_LEFT'] = X['MAX_LEFT'] - X['X2']\n",
    "X['MAX_MINUS_CURR_NN_RIGHT'] = X['MAX_RIGHT'] - X['X4']\n",
    "\n",
    "X['MIN_MINUS_CURR_NN_LEFT'] = X['MIN_LEFT'] - X['X2']\n",
    "X['MIN_MINUS_CURR_NN_RIGHT'] = X['MIN_RIGHT'] - X['X4']\n",
    "\n",
    "X['MAX_DIV_CURR_LEFT'] = X['MAX_LEFT'] / X['X2']\n",
    "X['MAX_DIV_CURR_RIGHT'] = X['MAX_RIGHT'] / X['X4']\n",
    "\n",
    "X['MIN_DIV_CURR_LEFT'] = X['MIN_LEFT'] / X['X2']\n",
    "X['MIN_DIV_CURR_RIGHT'] = X['MIN_RIGHT'] / X['X4']"
   ]
  },
  {
   "cell_type": "code",
   "execution_count": 33,
   "metadata": {},
   "outputs": [],
   "source": [
    "X['MAX_DIV_MIN_DIFF'] = X['MAX_DIV_MIN_LEFT'] - X['MAX_DIV_MIN_RIGHT']\n",
    "X['MAX_DIV_MEAN_DIFF'] = X['MAX_DIV_MEAN_LEFT'] - X['MAX_DIV_MEAN_RIGHT']\n",
    "X['MIN_DIV_MEAN_DIFF'] = X['MIN_DIV_MEAN_LEFT'] - X['MIN_DIV_MEAN_RIGHT']\n",
    "X['MAX_MINUS_MIN_DIFF'] = X['MAX_MINUS_MIN_LEFT'] - X['MAX_MINUS_MIN_RIGHT']\n",
    "X['MAX_MINUS_MEAN_DIFF'] = X['MAX_MINUS_MEAN_LEFT'] - X['MAX_MINUS_MEAN_RIGHT']\n",
    "X['MEAN_MINUS_MIN_DIFF'] = X['MEAN_MINUS_MIN_LEFT'] - X['MEAN_MINUS_MIN_RIGHT']\n",
    "X['CURR_DIV_MEAN_DIFF'] = X['CURR_DIV_MEAN_LEFT'] - X['CURR_DIV_MEAN_RIGHT']\n",
    "X['MEAN_MINUS_CURR_DIFF'] = X['MEAN_MINUS_CURR_LEFT'] - X['MEAN_MINUS_CURR_RIGHT']\n",
    "X['MAX_MINUS_CURR_DIFF'] = X['MAX_MINUS_CURR_LEFT'] - X['MAX_MINUS_CURR_RIGHT']\n",
    "X['MIN_MINUS_CURR_DIFF'] = X['MIN_MINUS_CURR_LEFT'] - X['MIN_MINUS_CURR_RIGHT']\n",
    "\n",
    "##############################\n",
    "\n",
    "X['STD_DIV_MEAN_DIFF'] = X['STD_DIV_MEAN_LEFT'] - X['STD_DIV_MEAN_RIGHT']\n",
    "X['STD_DIV_CURR_DIFF'] = X['STD_DIV_CURR_LEFT'] - X['STD_DIV_CURR_RIGHT']\n",
    "X['MAX_MINUS_MIN_NORMALIZED_DIFF'] = X['MAX_MINUS_MIN_NORMALIZED_LEFT'] - X['MAX_MINUS_MIN_NORMALIZED_RIGHT']\n",
    "X['MAX_MINUS_CURR_NN_DIFF'] = X['MAX_MINUS_CURR_NN_LEFT'] - X['MAX_MINUS_CURR_NN_RIGHT']\n",
    "X['MIN_MINUS_CURR_NN_DIFF'] = X['MIN_MINUS_CURR_NN_LEFT'] - X['MIN_MINUS_CURR_NN_RIGHT']\n",
    "X['MAX_DIV_CURR_DIFF'] = X['MAX_DIV_CURR_LEFT'] - X['MAX_DIV_CURR_RIGHT']\n",
    "X['MIN_DIV_CURR_DIFF'] = X['MIN_DIV_CURR_LEFT'] - X['MIN_DIV_CURR_RIGHT']\n",
    "\n",
    "X['LEFT_CURR_DIV_RIGHT_MEAN'] = X['X2'] / X['MEAN_RIGHT']\n",
    "X['RIGHT_CURR_DIV_LEFT_MEAN'] = X['X4'] / X['MEAN_LEFT']\n",
    "\n",
    "X['LEFT_CURR_MINUS_RIGHT_MEAN'] = X['X2'] - X['MEAN_RIGHT']\n",
    "X['RIGHT_CURR_MINUS_LEFT_MEAN'] = X['X4'] - X['MEAN_LEFT']\n",
    "\n",
    "X['RIGHT_CURR_MINUS_LEFT_MAX'] = X['X4'] - X['MAX_LEFT']\n",
    "X['LEFT_CURR_MINUS_RIGHT_MAX'] = X['X2'] - X['MAX_RIGHT']\n",
    "\n",
    "X['RIGHT_CURR_MINUS_LEFT_MIN'] = X['X4'] - X['MIN_LEFT']\n",
    "X['LEFT_CURR_MINUS_RIGHT_MIN'] = X['X2'] - X['MIN_RIGHT']\n",
    "\n",
    "X['LEFT_STD_DIV_RIGHT_CURR'] = X['STD_LEFT'] / X['X4']\n",
    "X['RIGHT_STD_DIV_RIGHT_CURR'] = X['STD_RIGHT'] / X['X2']\n",
    "\n",
    "X['LEFT_STD_DIV_RIGHT_MEAN'] = X['STD_LEFT'] / X['MEAN_RIGHT']\n",
    "X['RIGHT_STD_DIV_LEFT_MEAN'] = X['STD_RIGHT'] / X['MEAN_LEFT']\n",
    "\n",
    "X['LEFT_CURR_DIV_RIGHT_MEAN_DIFF'] = X['LEFT_CURR_DIV_RIGHT_MEAN'] - X['RIGHT_CURR_DIV_LEFT_MEAN']\n",
    "X['LEFT_CURR_MINUS_RIGHT_MEAN_DIFF'] = X['LEFT_CURR_MINUS_RIGHT_MEAN'] - X['RIGHT_CURR_MINUS_LEFT_MEAN']\n",
    "X['RIGHT_CURR_MINUS_LEFT_MAX_DIFF'] = X['RIGHT_CURR_MINUS_LEFT_MAX'] - X['LEFT_CURR_MINUS_RIGHT_MAX']\n",
    "X['RIGHT_CURR_MINUS_LEFT_MIN_DIFF'] = X['RIGHT_CURR_MINUS_LEFT_MIN'] - X['LEFT_CURR_MINUS_RIGHT_MIN']\n",
    "X['LEFT_STD_DIV_RIGHT_CURR_DIFF'] = X['LEFT_STD_DIV_RIGHT_CURR'] - X['RIGHT_STD_DIV_RIGHT_CURR']\n",
    "X['LEFT_STD_DIV_RIGHT_MEAN'] = X['LEFT_STD_DIV_RIGHT_MEAN'] - X['RIGHT_STD_DIV_LEFT_MEAN']\n",
    "\n",
    "##############################\n",
    "X['MEAN_DIFF'] = X['MEAN_LEFT'] - X['MEAN_RIGHT']\n",
    "X['MAX_MIN_DIFF'] = X['MAX_MIN_LEFT'] - X['MAX_MIN_RIGHT']\n",
    "X['MAX_DIFF'] = X['MAX_LEFT'] - X['MAX_RIGHT']\n",
    "X['MIN_DIFF'] = X['MIN_LEFT'] - X['MIN_RIGHT']"
   ]
  },
  {
   "cell_type": "code",
   "execution_count": 34,
   "metadata": {},
   "outputs": [],
   "source": [
    "X_train, X_test, y_train, y_test = train_test_split(X, y, test_size=0.05, random_state=42, stratify=y)"
   ]
  },
  {
   "cell_type": "code",
   "execution_count": 35,
   "metadata": {},
   "outputs": [],
   "source": [
    "import sklearn"
   ]
  },
  {
   "cell_type": "code",
   "execution_count": 36,
   "metadata": {},
   "outputs": [],
   "source": [
    "from catboost import *"
   ]
  },
  {
   "cell_type": "code",
   "execution_count": 52,
   "metadata": {},
   "outputs": [],
   "source": [
    "model_params = {\n",
    "    'learning_rate': 0.025,\n",
    "    'max_depth': 10,\n",
    "    'iterations': 20000,\n",
    "    'loss_function': 'Logloss',\n",
    "    'verbose': True,\n",
    "    'random_seed': 1337,\n",
    "    'task_type': 'GPU',\n",
    "    'one_hot_max_size': 10,\n",
    "}"
   ]
  },
  {
   "cell_type": "code",
   "execution_count": 53,
   "metadata": {},
   "outputs": [],
   "source": [
    "model = CatBoost(model_params)"
   ]
  },
  {
   "cell_type": "code",
   "execution_count": 39,
   "metadata": {},
   "outputs": [],
   "source": [
    "dataset_train = Pool(X_train, y_train, cat_features=['X0'])"
   ]
  },
  {
   "cell_type": "code",
   "execution_count": 40,
   "metadata": {},
   "outputs": [],
   "source": [
    "dataset_val = Pool(X_test, y_test, cat_features=['X0'])"
   ]
  },
  {
   "cell_type": "code",
   "execution_count": null,
   "metadata": {
    "scrolled": true
   },
   "outputs": [],
   "source": [
    "model.fit(dataset_train, eval_set=dataset_val)"
   ]
  },
  {
   "cell_type": "code",
   "execution_count": 55,
   "metadata": {},
   "outputs": [],
   "source": [
    "model.save_model('model_last')"
   ]
  },
  {
   "cell_type": "code",
   "execution_count": 33,
   "metadata": {},
   "outputs": [],
   "source": [
    "# 0.6056997 - with diffs\n",
    "# 19999:\tlearn: 0.5078032\ttest: 0.6057102\tbest: 0.6056997 (19826)\ttotal: 20m 16s\tremaining: 0us\n",
    "\n",
    "# Новые фичи на рейтинге:\n",
    "#learn: 0.4992369\ttest: 0.5985539\tbest: 0.5985455 (19939)\ttotal: 22m 31s\tremaining: 0us\n",
    "\n",
    "#19999:\tlearn: 0.4916491\ttest: 0.5881486\tbest: 0.5881246 (18822)\ttotal: 27m 6s\tremaining: 0us\n",
    "\n",
    "#19999:\tlearn: 0.3095805\ttest: 0.4020079\tbest: 0.4020038 (19927)\ttotal: 1h 2m 28s\tremaining: 0us"
   ]
  },
  {
   "cell_type": "code",
   "execution_count": null,
   "metadata": {},
   "outputs": [],
   "source": [
    "sorted(list(zip(model.feature_importances_, X_test.columns)), key=lambda x: -x[0])"
   ]
  },
  {
   "cell_type": "code",
   "execution_count": 83,
   "metadata": {},
   "outputs": [],
   "source": [
    "top_100 = sorted(list(zip(model.feature_importances_, X_test.columns)), key=lambda x: -x[0])[:100]"
   ]
  },
  {
   "cell_type": "code",
   "execution_count": 87,
   "metadata": {},
   "outputs": [
    {
     "data": {
      "image/png": "[encoded data removed]",
      "text/plain": [
       "<Figure size 1440x720 with 1 Axes>"
      ]
     },
     "metadata": {
      "needs_background": "light"
     },
     "output_type": "display_data"
    }
   ],
   "source": [
    "import matplotlib.pyplot as plt\n",
    "\n",
    "forest_importances = pd.Series([x[0] for x in top_100], index=[x[1] for x in top_100])\n",
    "\n",
    "fig, ax = plt.subplots()\n",
    "forest_importances.plot.bar(ax=ax, figsize=(20,10))\n",
    "ax.set_title(\"Feature importances\")\n",
    "plt.savefig('100.png', dpi=300, bbox_inches=\"tight\")"
   ]
  },
  {
   "cell_type": "markdown",
   "metadata": {},
   "source": [
    "### Найдем винрейты"
   ]
  },
  {
   "cell_type": "code",
   "execution_count": 113,
   "metadata": {},
   "outputs": [],
   "source": [
    "# a = set(train_data['X1'])\n",
    "# b = set(train_data['X3'])\n",
    "# c = a.union(b)"
   ]
  },
  {
   "cell_type": "code",
   "execution_count": null,
   "metadata": {},
   "outputs": [],
   "source": [
    "# rates = {}\n",
    "# heroes_stats_total = {}\n",
    "\n",
    "# for user_id in tqdm.tqdm_notebook(c):\n",
    "#     first = train_data[train_data['X1'] == user_id]\n",
    "#     second = train_data[train_data['X3'] == user_id]\n",
    "    \n",
    "#     targets_left = first['target']\n",
    "#     targets_right = second['target']\n",
    "#     rates[user_id] = [sum(targets_left) + len(targets_right) - sum(targets_right), (len(targets_left) + len(targets_right))]\n",
    "    \n",
    "\n",
    "#     pers_left = set()\n",
    "#     for x in ['X5', 'X6', 'X7', 'X8', 'X9', 'X10', 'X11', 'X12']:\n",
    "#         pers_left = pers_left.union(set(first[x]))\n",
    "\n",
    "#     second = train_data[train_data['X3'] == user_id]\n",
    "#     pers_right = set()    \n",
    "#     for x in ['X13', 'X14', 'X15', 'X16', 'X17', 'X18', 'X19', 'X20']:\n",
    "#         pers_right = pers_right.union(set(first[x]))\n",
    "\n",
    "#     heroes_for_user = {}    \n",
    "#     for hero in pers_left:\n",
    "#         plays_with_hero_left = first[(first['X5'] == hero) | \n",
    "#                                 (first['X6'] == hero) | \n",
    "#                                 (first['X7'] == hero) | \n",
    "#                                 (first['X8'] == hero) | \n",
    "#                                 (first['X9'] == hero) | \n",
    "#                                 (first['X10'] == hero) | \n",
    "#                                 (first['X11'] == hero) | \n",
    "#                                 (first['X12'] == hero)]['target']\n",
    "#         heroes_for_user[hero] = list(plays_with_hero_left)\n",
    "\n",
    "#     for hero in pers_right:\n",
    "#         plays_with_hero_right = first[(first['X13'] == hero) | \n",
    "#                                 (first['X14'] == hero) | \n",
    "#                                 (first['X15'] == hero) | \n",
    "#                                 (first['X16'] == hero) | \n",
    "#                                 (first['X17'] == hero) | \n",
    "#                                 (first['X18'] == hero) | \n",
    "#                                 (first['X19'] == hero) | \n",
    "#                                 (first['X20'] == hero)]['target']\n",
    "#         if hero in heroes_for_user:\n",
    "#             heroes_for_user[hero].extend([1 - x for x in list(plays_with_hero_right)])\n",
    "#         else:\n",
    "#             heroes_for_user[hero] = [1 - x for x in list(plays_with_hero_right)]\n",
    "\n",
    "#     heroes_stats_total[user_id] = {}\n",
    "#     for hero in heroes_for_user.keys():\n",
    "#         heroes_stats_total[user_id][hero] = [sum(heroes_for_user[hero]), len(heroes_for_user[hero])]"
   ]
  },
  {
   "cell_type": "markdown",
   "metadata": {},
   "source": [
    "### Винрейты героев"
   ]
  },
  {
   "cell_type": "code",
   "execution_count": 4,
   "metadata": {},
   "outputs": [
    {
     "name": "stderr",
     "output_type": "stream",
     "text": [
      "C:\\Users\\andry\\Anaconda3\\envs\\subjectify\\lib\\site-packages\\ipykernel_launcher.py:3: TqdmDeprecationWarning: This function will be removed in tqdm==5.0.0\n",
      "Please use `tqdm.notebook.tqdm` instead of `tqdm.tqdm_notebook`\n",
      "  This is separate from the ipykernel package so we can avoid doing imports until\n"
     ]
    },
    {
     "data": {
      "application/vnd.jupyter.widget-view+json": {
       "model_id": "0ad9650d855a43ed88ba8f8e058d22c3",
       "version_major": 2,
       "version_minor": 0
      },
      "text/plain": [
       "HBox(children=(FloatProgress(value=0.0, max=101.0), HTML(value='')))"
      ]
     },
     "metadata": {},
     "output_type": "display_data"
    },
    {
     "name": "stdout",
     "output_type": "stream",
     "text": [
      "\n"
     ]
    }
   ],
   "source": [
    "# hero_rates = {}\n",
    "\n",
    "# for hero_id in tqdm.tqdm_notebook(range(101)):\n",
    "#     targets_left = train_data[(train_data['X5'] != hero_id) & \n",
    "#                              (train_data['X6'] != hero_id) & \n",
    "#                              (train_data['X7'] != hero_id) & \n",
    "#                              (train_data['X8'] != hero_id) & \n",
    "#                              (train_data['X9'] != hero_id) & \n",
    "#                              (train_data['X10'] != hero_id) & \n",
    "#                              (train_data['X11'] != hero_id) & \n",
    "#                              (train_data['X12'] != hero_id)]['target']\n",
    "    \n",
    "#     targets_right = train_data[(train_data['X13'] != hero_id) & \n",
    "#                              (train_data['X14'] != hero_id) & \n",
    "#                              (train_data['X15'] != hero_id) & \n",
    "#                              (train_data['X16'] != hero_id) & \n",
    "#                              (train_data['X17'] != hero_id) & \n",
    "#                              (train_data['X18'] != hero_id) & \n",
    "#                              (train_data['X19'] != hero_id) & \n",
    "#                              (train_data['X20'] != hero_id)]['target']\n",
    "    \n",
    "#     hero_rates[hero_id] = [sum(targets_left) + (len(targets_right) - sum(targets_right)), len(targets_left) + len(targets_right)]"
   ]
  },
  {
   "cell_type": "code",
   "execution_count": 5,
   "metadata": {},
   "outputs": [],
   "source": [
    "# hero_winrates = {k: x[0]/x[1] for k, x in hero_rates.items()}"
   ]
  },
  {
   "cell_type": "code",
   "execution_count": 7,
   "metadata": {},
   "outputs": [],
   "source": [
    "# np.save('hero_winrates.npy', hero_winrates)"
   ]
  },
  {
   "cell_type": "code",
   "execution_count": 62,
   "metadata": {},
   "outputs": [
    {
     "name": "stderr",
     "output_type": "stream",
     "text": [
      "C:\\Users\\andry\\Anaconda3\\envs\\subjectify\\lib\\site-packages\\seaborn\\distributions.py:2551: FutureWarning: `distplot` is a deprecated function and will be removed in a future version. Please adapt your code to use either `displot` (a figure-level function with similar flexibility) or `histplot` (an axes-level function for histograms).\n",
      "  warnings.warn(msg, FutureWarning)\n"
     ]
    },
    {
     "data": {
      "text/plain": [
       "<AxesSubplot:ylabel='Density'>"
      ]
     },
     "execution_count": 62,
     "metadata": {},
     "output_type": "execute_result"
    },
    {
     "data": {
      "image/png": "[encoded data removed]",
      "text/plain": [
       "<Figure size 432x288 with 1 Axes>"
      ]
     },
     "metadata": {
      "needs_background": "light"
     },
     "output_type": "display_data"
    }
   ],
   "source": [
    "# sns.distplot(list(hero_winrates.values()))"
   ]
  },
  {
   "cell_type": "markdown",
   "metadata": {},
   "source": [
    "### User winrates"
   ]
  },
  {
   "cell_type": "markdown",
   "metadata": {},
   "source": [
    "Сначала это были винрейты, но пришлось переделать в плейрейты (как часто игрок играет с данным героем) т.к. была сильная утечка таргета"
   ]
  },
  {
   "cell_type": "code",
   "execution_count": 8,
   "metadata": {},
   "outputs": [],
   "source": [
    "# X['1USER_WINRATE'] = 0.0\n",
    "# X['2USER_WINRATE'] = 0.0\n",
    "\n",
    "# X['1_USER_HERO_1_WINRATE'] = 0.0\n",
    "# X['1_USER_HERO_2_WINRATE'] = 0.0\n",
    "# X['1_USER_HERO_3_WINRATE'] = 0.0\n",
    "# X['1_USER_HERO_4_WINRATE'] = 0.0\n",
    "# X['1_USER_HERO_5_WINRATE'] = 0.0\n",
    "# X['1_USER_HERO_6_WINRATE'] = 0.0\n",
    "# X['1_USER_HERO_7_WINRATE'] = 0.0\n",
    "# X['1_USER_HERO_8_WINRATE'] = 0.0\n",
    "\n",
    "# X['2_USER_HERO_1_WINRATE'] = 0.0\n",
    "# X['2_USER_HERO_2_WINRATE'] = 0.0\n",
    "# X['2_USER_HERO_3_WINRATE'] = 0.0\n",
    "# X['2_USER_HERO_4_WINRATE'] = 0.0\n",
    "# X['2_USER_HERO_5_WINRATE'] = 0.0\n",
    "# X['2_USER_HERO_6_WINRATE'] = 0.0\n",
    "# X['2_USER_HERO_7_WINRATE'] = 0.0\n",
    "# X['2_USER_HERO_8_WINRATE'] = 0.0"
   ]
  },
  {
   "cell_type": "code",
   "execution_count": 9,
   "metadata": {},
   "outputs": [
    {
     "name": "stderr",
     "output_type": "stream",
     "text": [
      "C:\\Users\\andry\\Anaconda3\\envs\\subjectify\\lib\\site-packages\\ipykernel_launcher.py:1: TqdmDeprecationWarning: This function will be removed in tqdm==5.0.0\n",
      "Please use `tqdm.notebook.tqdm` instead of `tqdm.tqdm_notebook`\n",
      "  \"\"\"Entry point for launching an IPython kernel.\n"
     ]
    },
    {
     "data": {
      "application/vnd.jupyter.widget-view+json": {
       "model_id": "1053af9abcd7469fa5efba327ae0c56b",
       "version_major": 2,
       "version_minor": 0
      },
      "text/plain": [
       "HBox(children=(FloatProgress(value=1.0, bar_style='info', layout=Layout(width='20px'), max=1.0), HTML(value=''…"
      ]
     },
     "metadata": {},
     "output_type": "display_data"
    },
    {
     "name": "stdout",
     "output_type": "stream",
     "text": [
      "\n"
     ]
    }
   ],
   "source": [
    "# for idx, row in tqdm.tqdm_notebook(X.iterrows()):\n",
    "#     first_rate = rates[row['X1']]\n",
    "#     second_rate = rates[row['X3']]\n",
    "    \n",
    "#     first_hero_rate = heroes_stats_total[row['X1']]\n",
    "#     second_hero_rate = heroes_stats_total[row['X3']]\n",
    "    \n",
    "    \n",
    "#     if first_rate[1] >= 10:\n",
    "#         X.at[idx, '1USER_WINRATE'] = first_rate[0] / first_rate[1]\n",
    "#     else:\n",
    "#         X.at[idx, '1USER_WINRATE'] = -1\n",
    "    \n",
    "#     if second_rate[1] >= 10:\n",
    "#         X.at[idx, '2USER_WINRATE'] = second_rate[0] / second_rate[1]\n",
    "#     else:\n",
    "#         X.at[idx, '2USER_WINRATE'] = -1\n",
    "        \n",
    "        \n",
    "#     if first_rate[1] >= 5:\n",
    "#         X.at[idx, '1_USER_HERO_1_WINRATE'] = first_hero_rate[row['X5']][1] / first_rate[1]\n",
    "#     else:\n",
    "#         X.at[idx, '1_USER_HERO_1_WINRATE'] = -1\n",
    "    \n",
    "#     if first_rate[1] >= 5:\n",
    "#         X.at[idx, '1_USER_HERO_2_WINRATE'] = first_hero_rate[row['X6']][1] / first_rate[1]\n",
    "#     else:\n",
    "#         X.at[idx, '1_USER_HERO_2_WINRATE'] = -1\n",
    "        \n",
    "#     if first_rate[1] >= 5:\n",
    "#         X.at[idx, '1_USER_HERO_3_WINRATE'] = first_hero_rate[row['X7']][1] / first_rate[1]\n",
    "#     else:\n",
    "#         X.at[idx, '1_USER_HERO_3_WINRATE'] = -1\n",
    "        \n",
    "#     if first_rate[1] >= 5:\n",
    "#         X.at[idx, '1_USER_HERO_4_WINRATE'] = first_hero_rate[row['X8']][1] / first_rate[1]\n",
    "#     else:\n",
    "#         X.at[idx, '1_USER_HERO_4_WINRATE'] = -1\n",
    "        \n",
    "#     if first_rate[1] >= 5:\n",
    "#         X.at[idx, '1_USER_HERO_5_WINRATE'] = first_hero_rate[row['X9']][1] / first_rate[1]\n",
    "#     else:\n",
    "#         X.at[idx, '1_USER_HERO_5_WINRATE'] = -1\n",
    "    \n",
    "#     if first_rate[1] >= 5:\n",
    "#         X.at[idx, '1_USER_HERO_6_WINRATE'] = first_hero_rate[row['X10']][1] / first_rate[1]\n",
    "#     else:\n",
    "#         X.at[idx, '1_USER_HERO_6_WINRATE'] = -1\n",
    "        \n",
    "#     if first_rate[1] >= 5:\n",
    "#         X.at[idx, '1_USER_HERO_7_WINRATE'] = first_hero_rate[row['X11']][1] / first_rate[1]\n",
    "#     else:\n",
    "#         X.at[idx, '1_USER_HERO_7_WINRATE'] = -1\n",
    "        \n",
    "#     if first_rate[1] >= 5:\n",
    "#         X.at[idx, '1_USER_HERO_8_WINRATE'] = first_hero_rate[row['X12']][1] / first_rate[1]\n",
    "#     else:\n",
    "#         X.at[idx, '1_USER_HERO_8_WINRATE'] = -1\n",
    "        \n",
    "        \n",
    "        \n",
    "#     if second_rate[1] >= 5:\n",
    "#         X.at[idx, '2_USER_HERO_1_WINRATE'] = second_hero_rate[row['X13']][1] / second_rate[1]\n",
    "#     else:\n",
    "#         X.at[idx, '2_USER_HERO_1_WINRATE'] = -1\n",
    "    \n",
    "#     if second_rate[1] >= 5:\n",
    "#         X.at[idx, '2_USER_HERO_2_WINRATE'] = second_hero_rate[row['X14']][1] / second_rate[1]\n",
    "#     else:\n",
    "#         X.at[idx, '2_USER_HERO_2_WINRATE'] = -1\n",
    "        \n",
    "#     if second_rate[1] >= 5:\n",
    "#         X.at[idx, '2_USER_HERO_3_WINRATE'] = second_hero_rate[row['X15']][1] / second_rate[1]\n",
    "#     else:\n",
    "#         X.at[idx, '2_USER_HERO_3_WINRATE'] = -1\n",
    "        \n",
    "#     if second_rate[1] >= 5:\n",
    "#         X.at[idx, '2_USER_HERO_4_WINRATE'] = second_hero_rate[row['X16']][1] / second_rate[1]\n",
    "#     else:\n",
    "#         X.at[idx, '2_USER_HERO_4_WINRATE'] = -1\n",
    "        \n",
    "#     if second_rate[1] >= 5:\n",
    "#         X.at[idx, '2_USER_HERO_5_WINRATE'] = second_hero_rate[row['X17']][1] / second_rate[1]\n",
    "#     else:\n",
    "#         X.at[idx, '2_USER_HERO_5_WINRATE'] = -1\n",
    "    \n",
    "#     if second_rate[1] >= 5:\n",
    "#         X.at[idx, '2_USER_HERO_6_WINRATE'] = second_hero_rate[row['X18']][1] / second_rate[1]\n",
    "#     else:\n",
    "#         X.at[idx, '2_USER_HERO_6_WINRATE'] = -1\n",
    "        \n",
    "#     if second_rate[1] >= 5:\n",
    "#         X.at[idx, '2_USER_HERO_7_WINRATE'] = second_hero_rate[row['X19']][1] / second_rate[1]\n",
    "#     else:\n",
    "#         X.at[idx, '2_USER_HERO_7_WINRATE'] = -1\n",
    "        \n",
    "#     if second_rate[1] >= 5:\n",
    "#         X.at[idx, '2_USER_HERO_8_WINRATE'] = second_hero_rate[row['X20']][1] / second_rate[1]\n",
    "#     else:\n",
    "#         X.at[idx, '2_USER_HERO_8_WINRATE'] = -1"
   ]
  },
  {
   "cell_type": "markdown",
   "metadata": {},
   "source": [
    "### User avg rating"
   ]
  },
  {
   "cell_type": "code",
   "execution_count": 6,
   "metadata": {},
   "outputs": [],
   "source": [
    "from joblib import Parallel, delayed"
   ]
  },
  {
   "cell_type": "code",
   "execution_count": 7,
   "metadata": {},
   "outputs": [],
   "source": [
    "a = set(data['X1'])\n",
    "b = set(data['X3'])\n",
    "c = a.union(b)"
   ]
  },
  {
   "cell_type": "code",
   "execution_count": 8,
   "metadata": {},
   "outputs": [],
   "source": [
    "def count(user_id):\n",
    "    first = data[data['X1'] == user_id]\n",
    "    second = data[data['X3'] == user_id]\n",
    "    \n",
    "    rates_left = list(first['X2'])\n",
    "    rates_right = list(second['X4'])\n",
    "    return [user_id, rates_left + rates_right]    "
   ]
  },
  {
   "cell_type": "code",
   "execution_count": 9,
   "metadata": {},
   "outputs": [
    {
     "name": "stderr",
     "output_type": "stream",
     "text": [
      "C:\\Users\\andry\\Anaconda3\\envs\\subjectify\\lib\\site-packages\\ipykernel_launcher.py:1: TqdmDeprecationWarning: This function will be removed in tqdm==5.0.0\n",
      "Please use `tqdm.notebook.tqdm` instead of `tqdm.tqdm_notebook`\n",
      "  \"\"\"Entry point for launching an IPython kernel.\n"
     ]
    },
    {
     "data": {
      "application/vnd.jupyter.widget-view+json": {
       "model_id": "fd2d9031e2084e86abf98f78f5d318fb",
       "version_major": 2,
       "version_minor": 0
      },
      "text/plain": [
       "HBox(children=(FloatProgress(value=0.0, max=970949.0), HTML(value='')))"
      ]
     },
     "metadata": {},
     "output_type": "display_data"
    },
    {
     "name": "stdout",
     "output_type": "stream",
     "text": [
      "\n"
     ]
    }
   ],
   "source": [
    "outs = Parallel(n_jobs=8)(delayed(count)(user_id) for user_id in tqdm.tqdm_notebook(c))"
   ]
  },
  {
   "cell_type": "code",
   "execution_count": 10,
   "metadata": {},
   "outputs": [
    {
     "name": "stderr",
     "output_type": "stream",
     "text": [
      "C:\\Users\\andry\\Anaconda3\\envs\\subjectify\\lib\\site-packages\\numpy\\core\\_asarray.py:136: VisibleDeprecationWarning: Creating an ndarray from ragged nested sequences (which is a list-or-tuple of lists-or-tuples-or ndarrays with different lengths or shapes) is deprecated. If you meant to do this, you must specify 'dtype=object' when creating the ndarray\n",
      "  return array(a, dtype, copy=False, order=order, subok=True)\n"
     ]
    }
   ],
   "source": [
    "# Percentile counters\n",
    "np.save('user_outs.npy', outs)"
   ]
  },
  {
   "cell_type": "code",
   "execution_count": 10,
   "metadata": {},
   "outputs": [],
   "source": [
    "user_rating_stats = {}"
   ]
  },
  {
   "cell_type": "code",
   "execution_count": 11,
   "metadata": {},
   "outputs": [
    {
     "name": "stderr",
     "output_type": "stream",
     "text": [
      "C:\\Users\\andry\\Anaconda3\\envs\\subjectify\\lib\\site-packages\\ipykernel_launcher.py:1: TqdmDeprecationWarning: This function will be removed in tqdm==5.0.0\n",
      "Please use `tqdm.notebook.tqdm` instead of `tqdm.tqdm_notebook`\n",
      "  \"\"\"Entry point for launching an IPython kernel.\n"
     ]
    },
    {
     "data": {
      "application/vnd.jupyter.widget-view+json": {
       "model_id": "0ea9e0bac33e490380a4ac7078a8ecb9",
       "version_major": 2,
       "version_minor": 0
      },
      "text/plain": [
       "HBox(children=(FloatProgress(value=0.0, max=970949.0), HTML(value='')))"
      ]
     },
     "metadata": {},
     "output_type": "display_data"
    },
    {
     "name": "stdout",
     "output_type": "stream",
     "text": [
      "\n"
     ]
    }
   ],
   "source": [
    "for usr, data in tqdm.tqdm_notebook(outs):\n",
    "    user_rating_stats[usr] = [np.mean(data), np.max(data), np.min(data), np.std(data)]"
   ]
  },
  {
   "cell_type": "code",
   "execution_count": 12,
   "metadata": {},
   "outputs": [],
   "source": [
    "np.save('user_rating_stats_full.npy', user_rating_stats)"
   ]
  },
  {
   "cell_type": "code",
   "execution_count": 46,
   "metadata": {},
   "outputs": [
    {
     "name": "stderr",
     "output_type": "stream",
     "text": [
      "C:\\Users\\andry\\Anaconda3\\envs\\subjectify\\lib\\site-packages\\ipykernel_launcher.py:3: TqdmDeprecationWarning: This function will be removed in tqdm==5.0.0\n",
      "Please use `tqdm.notebook.tqdm` instead of `tqdm.tqdm_notebook`\n",
      "  This is separate from the ipykernel package so we can avoid doing imports until\n"
     ]
    },
    {
     "data": {
      "application/vnd.jupyter.widget-view+json": {
       "model_id": "0b4189183a374420a4b107b371a82377",
       "version_major": 2,
       "version_minor": 0
      },
      "text/plain": [
       "HBox(children=(FloatProgress(value=0.0, max=919435.0), HTML(value='')))"
      ]
     },
     "metadata": {},
     "output_type": "display_data"
    },
    {
     "name": "stdout",
     "output_type": "stream",
     "text": [
      "\n"
     ]
    }
   ],
   "source": [
    "user_rating_stats = {}\n",
    "\n",
    "for user_id in tqdm.tqdm_notebook(c):\n",
    "    first = train_data[train_data['X1'] == user_id]\n",
    "    second = train_data[train_data['X3'] == user_id]\n",
    "    \n",
    "    rates_left = list(first['X2'])\n",
    "    rates_right = list(second['X4'])\n",
    "    user_rating_stats[user_id] = rates_left + rates_right"
   ]
  },
  {
   "cell_type": "markdown",
   "metadata": {},
   "source": [
    "## Synergy"
   ]
  },
  {
   "cell_type": "code",
   "execution_count": null,
   "metadata": {},
   "outputs": [],
   "source": [
    "hero_countering = np.zeros((101, 101))\n",
    "for hero_id_first in tqdm.tqdm_notebook(range(101)):\n",
    "    for hero_id_second in tqdm.tqdm_notebook(range(101)):\n",
    "        targets_left = train_data[((train_data['X5'] == hero_id_first) | \n",
    "                             (train_data['X6'] == hero_id_first) | \n",
    "                             (train_data['X7'] == hero_id_first) | \n",
    "                             (train_data['X8'] == hero_id_first) | \n",
    "                             (train_data['X9'] == hero_id_first) | \n",
    "                             (train_data['X10'] == hero_id_first) | \n",
    "                             (train_data['X11'] == hero_id_first) | \n",
    "                             (train_data['X12'] == hero_id_first)) & \n",
    "                                   \n",
    "                            ((train_data['X13'] == hero_id_second) | \n",
    "                             (train_data['X14'] == hero_id_second) | \n",
    "                             (train_data['X15'] == hero_id_second) | \n",
    "                             (train_data['X16'] == hero_id_second) | \n",
    "                             (train_data['X17'] == hero_id_second) | \n",
    "                             (train_data['X18'] == hero_id_second) | \n",
    "                             (train_data['X19'] == hero_id_second) | \n",
    "                             (train_data['X20'] == hero_id_second)\n",
    "                            )]['target']\n",
    "    \n",
    "    \n",
    "        targets_right = train_data[((train_data['X13'] == hero_id_first) | \n",
    "                                 (train_data['X14'] == hero_id_first) | \n",
    "                                 (train_data['X15'] == hero_id_first) | \n",
    "                                 (train_data['X16'] == hero_id_first) | \n",
    "                                 (train_data['X17'] == hero_id_first) | \n",
    "                                 (train_data['X18'] == hero_id_first) | \n",
    "                                 (train_data['X19'] == hero_id_first) | \n",
    "                                 (train_data['X20'] == hero_id_first)) & (\n",
    "                                ((train_data['X5'] == hero_id_second) | \n",
    "                                 (train_data['X6'] == hero_id_second) | \n",
    "                                 (train_data['X7'] == hero_id_second) | \n",
    "                                 (train_data['X8'] == hero_id_second) | \n",
    "                                 (train_data['X9'] == hero_id_second) | \n",
    "                                 (train_data['X10'] == hero_id_second) | \n",
    "                                 (train_data['X11'] == hero_id_second) | \n",
    "                                 (train_data['X12'] == hero_id_second))\n",
    "                                )]['target']\n",
    "        \n",
    "        hero_countering[hero_id_first][hero_id_second] = (sum(targets_left) + len(targets_right) - sum(targets_right)) / (len(targets_left) + len(targets_right))"
   ]
  },
  {
   "cell_type": "code",
   "execution_count": 16,
   "metadata": {},
   "outputs": [],
   "source": [
    "#np.save(\"hero_countering.npy\", hero_countering)"
   ]
  },
  {
   "cell_type": "code",
   "execution_count": 49,
   "metadata": {},
   "outputs": [],
   "source": [
    "hero_countering = np.load('./hero_countering.npy')"
   ]
  },
  {
   "cell_type": "code",
   "execution_count": 52,
   "metadata": {},
   "outputs": [
    {
     "name": "stderr",
     "output_type": "stream",
     "text": [
      "C:\\Users\\andry\\Anaconda3\\envs\\subjectify\\lib\\site-packages\\ipykernel_launcher.py:2: TqdmDeprecationWarning: This function will be removed in tqdm==5.0.0\n",
      "Please use `tqdm.notebook.tqdm` instead of `tqdm.tqdm_notebook`\n",
      "  \n"
     ]
    },
    {
     "data": {
      "application/vnd.jupyter.widget-view+json": {
       "model_id": "497fc490537947fca54a833111d1e90a",
       "version_major": 2,
       "version_minor": 0
      },
      "text/plain": [
       "HBox(children=(FloatProgress(value=1.0, bar_style='info', layout=Layout(width='20px'), max=1.0), HTML(value=''…"
      ]
     },
     "metadata": {},
     "output_type": "display_data"
    },
    {
     "name": "stdout",
     "output_type": "stream",
     "text": [
      "\n"
     ]
    }
   ],
   "source": [
    "counterings = []\n",
    "for idx, row in tqdm.tqdm_notebook(test_data.iterrows()):\n",
    "    sums = 0\n",
    "    sums2 = 0\n",
    "    for first in ['X5', 'X6', 'X7', 'X8', 'X9', 'X10', 'X11', 'X12']:\n",
    "        for second in ['X13', 'X14', 'X15', 'X16', 'X17', 'X18', 'X19', 'X20']:\n",
    "            sums += hero_countering[row[first]][row[second]]\n",
    "            sums2 += hero_countering[row[second]][row[first]]\n",
    "    counterings.append([sums, sums2])"
   ]
  },
  {
   "cell_type": "code",
   "execution_count": 53,
   "metadata": {},
   "outputs": [],
   "source": [
    "np.save('counterings_test.npy', counterings)"
   ]
  },
  {
   "cell_type": "code",
   "execution_count": 51,
   "metadata": {},
   "outputs": [],
   "source": [
    "from joblib import Parallel, delayed"
   ]
  },
  {
   "cell_type": "code",
   "execution_count": 22,
   "metadata": {},
   "outputs": [
    {
     "name": "stderr",
     "output_type": "stream",
     "text": [
      "C:\\Users\\andry\\Anaconda3\\envs\\subjectify\\lib\\site-packages\\ipykernel_launcher.py:2: TqdmDeprecationWarning: This function will be removed in tqdm==5.0.0\n",
      "Please use `tqdm.notebook.tqdm` instead of `tqdm.tqdm_notebook`\n",
      "  \n"
     ]
    },
    {
     "data": {
      "application/vnd.jupyter.widget-view+json": {
       "model_id": "81f0213a129846049264448559457755",
       "version_major": 2,
       "version_minor": 0
      },
      "text/plain": [
       "HBox(children=(FloatProgress(value=1.0, bar_style='info', layout=Layout(width='20px'), max=1.0), HTML(value=''…"
      ]
     },
     "metadata": {},
     "output_type": "display_data"
    },
    {
     "name": "stdout",
     "output_type": "stream",
     "text": [
      "\n"
     ]
    }
   ],
   "source": [
    "counterings = []\n",
    "for idx, row in tqdm.tqdm_notebook(train_data.iterrows()):\n",
    "    sums = 0\n",
    "    sums2 = 0\n",
    "    for first in ['X5', 'X6', 'X7', 'X8', 'X9', 'X10', 'X11', 'X12']:\n",
    "        for second in ['X13', 'X14', 'X15', 'X16', 'X17', 'X18', 'X19', 'X20']:\n",
    "            sums += hero_countering[row[first]][row[second]]\n",
    "            sums2 += hero_countering[row[second]][row[first]]\n",
    "    counterings.append([sums, sums2])"
   ]
  },
  {
   "cell_type": "code",
   "execution_count": 30,
   "metadata": {},
   "outputs": [],
   "source": [
    "np.save('counterings_new.npy', counterings)"
   ]
  },
  {
   "cell_type": "code",
   "execution_count": 25,
   "metadata": {},
   "outputs": [],
   "source": [
    "import scipy"
   ]
  },
  {
   "cell_type": "code",
   "execution_count": 23,
   "metadata": {},
   "outputs": [],
   "source": [
    "COUNTERINGS = np.array(counterings)[:, 0]"
   ]
  },
  {
   "cell_type": "code",
   "execution_count": 29,
   "metadata": {},
   "outputs": [
    {
     "data": {
      "text/plain": [
       "(0.13784137992460352, 0.0)"
      ]
     },
     "execution_count": 29,
     "metadata": {},
     "output_type": "execute_result"
    }
   ],
   "source": [
    "scipy.stats.pearsonr(np.array(counterings)[:, 0], y)"
   ]
  },
  {
   "cell_type": "markdown",
   "metadata": {},
   "source": [
    "### Hero winrates"
   ]
  },
  {
   "cell_type": "code",
   "execution_count": null,
   "metadata": {},
   "outputs": [],
   "source": [
    "# hero_rates = {}\n",
    "\n",
    "# for hero_id_1 in tqdm.tqdm_notebook(range(101)):\n",
    "#     for hero_id_2 in tqdm.tqdm_notebook(range(hero_id_1, 101)):\n",
    "#         targets_left = train_data[((train_data['X5'] == hero_id_1) | \n",
    "#                                  (train_data['X6'] == hero_id_1) | \n",
    "#                                  (train_data['X7'] == hero_id_1) | \n",
    "#                                  (train_data['X8'] == hero_id_1) | \n",
    "#                                  (train_data['X9'] == hero_id_1) | \n",
    "#                                  (train_data['X10'] == hero_id_1) | \n",
    "#                                  (train_data['X11'] == hero_id_1) | \n",
    "#                                  (train_data['X12'] == hero_id_1)) & (\n",
    "            \n",
    "#                                 ((train_data['X5'] == hero_id_2) | \n",
    "#                                  (train_data['X6'] == hero_id_2) | \n",
    "#                                  (train_data['X7'] == hero_id_2) | \n",
    "#                                  (train_data['X8'] == hero_id_2) | \n",
    "#                                  (train_data['X9'] == hero_id_2) | \n",
    "#                                  (train_data['X10'] == hero_id_2) | \n",
    "#                                  (train_data['X11'] == hero_id_2) | \n",
    "#                                  (train_data['X12'] == hero_id_2)))]['target']\n",
    "\n",
    "#         targets_right =  train_data[((train_data['X13'] == hero_id_1) | \n",
    "#                                  (train_data['X14'] == hero_id_1) | \n",
    "#                                  (train_data['X15'] == hero_id_1) | \n",
    "#                                  (train_data['X16'] == hero_id_1) | \n",
    "#                                  (train_data['X17'] == hero_id_1) | \n",
    "#                                  (train_data['X18'] == hero_id_1) | \n",
    "#                                  (train_data['X19'] == hero_id_1) | \n",
    "#                                  (train_data['X20'] == hero_id_1)) & (\n",
    "            \n",
    "#                                 ((train_data['X13'] == hero_id_2) | \n",
    "#                                  (train_data['X14'] == hero_id_2) | \n",
    "#                                  (train_data['X15'] == hero_id_2) | \n",
    "#                                  (train_data['X16'] == hero_id_2) | \n",
    "#                                  (train_data['X17'] == hero_id_2) | \n",
    "#                                  (train_data['X18'] == hero_id_2) | \n",
    "#                                  (train_data['X19'] == hero_id_2) | \n",
    "#                                  (train_data['X20'] == hero_id_2)))]['target']\n",
    "\n",
    "#         hero_rates[str(hero_id_1) + '_' + str(hero_id_2)] = [sum(targets_left) + 0.6129 * (len(targets_right) - sum(targets_right)), len(targets_left) + len(targets_right)]\n",
    "#         a = hero_rates[str(hero_id_1) + '_' + str(hero_id_2)]\n",
    "#         print(a[0] / a[1])"
   ]
  },
  {
   "cell_type": "markdown",
   "metadata": {},
   "source": [
    "### User ratings day by day"
   ]
  },
  {
   "cell_type": "code",
   "execution_count": 191,
   "metadata": {},
   "outputs": [],
   "source": [
    "a = set(data['X1'])\n",
    "b = set(data['X3'])\n",
    "c = a.union(b)"
   ]
  },
  {
   "cell_type": "code",
   "execution_count": 192,
   "metadata": {},
   "outputs": [],
   "source": [
    "def preproc(user_id):\n",
    "    ratings = []\n",
    "    targets = []\n",
    "    times = []\n",
    "    modes = []\n",
    "    history = {}\n",
    "    cur_data = data[((data['X1'] == user_id) | (data['X3'] == user_id))]\n",
    "    for idx, row in cur_data.iterrows():\n",
    "        if row['X1'] == user_id:\n",
    "            if row['X21'] in history:\n",
    "                history[row['X21']].append(row['X2'])\n",
    "            else:\n",
    "                history[row['X21']] = [row['X2']]\n",
    "        else:\n",
    "            if row['X21'] in history:\n",
    "                history[row['X21']].append(row['X4'])\n",
    "            else:\n",
    "                history[row['X21']] = [row['X4']]\n",
    "\n",
    "    lst = sorted(list(zip(times, ratings, targets, modes)), key=lambda x: x[0])\n",
    "    history = {int(k):v for k,v in history.items()}\n",
    "    dct = collections.OrderedDict(sorted(history.items()))\n",
    "    return [user_id, dct]"
   ]
  },
  {
   "cell_type": "code",
   "execution_count": null,
   "metadata": {},
   "outputs": [
    {
     "name": "stderr",
     "output_type": "stream",
     "text": [
      "C:\\Users\\andry\\Anaconda3\\envs\\subjectify\\lib\\site-packages\\ipykernel_launcher.py:2: TqdmDeprecationWarning: This function will be removed in tqdm==5.0.0\n",
      "Please use `tqdm.notebook.tqdm` instead of `tqdm.tqdm_notebook`\n",
      "  \n"
     ]
    },
    {
     "data": {
      "application/vnd.jupyter.widget-view+json": {
       "model_id": "20b8500e9f424ef19ee9086183a49484",
       "version_major": 2,
       "version_minor": 0
      },
      "text/plain": [
       "HBox(children=(FloatProgress(value=0.0, max=970949.0), HTML(value='')))"
      ]
     },
     "metadata": {},
     "output_type": "display_data"
    }
   ],
   "source": [
    "from joblib import Parallel, delayed\n",
    "day_by_day_ratings = Parallel(n_jobs=4)(delayed(preproc)(user_id) for user_id in tqdm.tqdm_notebook(c))"
   ]
  },
  {
   "cell_type": "code",
   "execution_count": 146,
   "metadata": {},
   "outputs": [],
   "source": [
    "np.save('day_by_day_ratings.npy', day_by_day_ratings)"
   ]
  }
 ],
 "metadata": {
  "kernelspec": {
   "display_name": "Python 3",
   "language": "python",
   "name": "python3"
  },
  "language_info": {
   "codemirror_mode": {
    "name": "ipython",
    "version": 3
   },
   "file_extension": ".py",
   "mimetype": "text/x-python",
   "name": "python",
   "nbconvert_exporter": "python",
   "pygments_lexer": "ipython3",
   "version": "3.7.3"
  }
 },
 "nbformat": 4,
 "nbformat_minor": 4
}
